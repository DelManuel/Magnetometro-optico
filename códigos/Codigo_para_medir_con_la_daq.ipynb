{
 "cells": [
  {
   "cell_type": "code",
   "execution_count": 1,
   "metadata": {},
   "outputs": [],
   "source": [
    "import time\n",
    "from matplotlib import pyplot as plt\n",
    "import numpy as np\n",
    "import pyvisa as visa\n",
    "from tqdm import tqdm\n",
    "import nidaqmx\n",
    "import pandas as pd\n",
    "import utils"
   ]
  },
  {
   "cell_type": "code",
   "execution_count": null,
   "metadata": {},
   "outputs": [],
   "source": [
    "#%%\n",
    "# inicializo comunicacion con equipos\n",
    "rm = visa.ResourceManager()\n",
    "\n",
    "# lista de dispositivos conectados, para ver las id de los equipos\n",
    "print(rm.list_resources())"
   ]
  },
  {
   "cell_type": "code",
   "execution_count": null,
   "metadata": {},
   "outputs": [],
   "source": [
    "func = rm.open_resource(\"GPIB0::1::INSTR\")"
   ]
  },
  {
   "cell_type": "code",
   "execution_count": 2,
   "metadata": {},
   "outputs": [
    {
     "name": "stdout",
     "output_type": "stream",
     "text": [
      "Device(name=Dev3)\n",
      "TerminalConfiguration.DIFF\n",
      "5.0\n",
      "-5.0\n"
     ]
    }
   ],
   "source": [
    "#para saber el ID de la placa conectada (DevX)\n",
    "system = nidaqmx.system.System.local()\n",
    "for device in system.devices: \n",
    "    print(device)\n",
    "\n",
    "with nidaqmx.Task() as task:\n",
    "    ai_channel = task.ai_channels.add_ai_voltage_chan(\"Dev3/ai1\",max_val=3,min_val=-3)\n",
    "    print(ai_channel.ai_term_cfg)    \n",
    "    print(ai_channel.ai_max)\n",
    "    print(ai_channel.ai_min)"
   ]
  },
  {
   "cell_type": "code",
   "execution_count": null,
   "metadata": {},
   "outputs": [],
   "source": [
    "# configuramos una sinusoidal\n",
    "func.write(\"FUNC 0\") # 1 Cuadrada, 0 para el seno\n",
    "# Seteamos el offset\n",
    "offset = 1.2\n",
    "func.write(f'OFFS {offset}')\n",
    "\n",
    "# Seteamos la amplitud \n",
    "amp = 0.3\n",
    "func.write(f'AMPL {amp} VP')\n",
    "\n",
    "# func.write('OUTE1')\n",
    "freq = 10\n",
    "func.write(f'FREQ {freq}')"
   ]
  },
  {
   "cell_type": "code",
   "execution_count": 8,
   "metadata": {},
   "outputs": [
    {
     "name": "stderr",
     "output_type": "stream",
     "text": [
      "100%|██████████| 1/1 [00:11<00:00, 11.48s/it]\n"
     ]
    }
   ],
   "source": [
    "tiempo, V = utils.medir_continuo(duracion= 10, fs= 250000, max_iter = 1)"
   ]
  },
  {
   "cell_type": "code",
   "execution_count": 9,
   "metadata": {},
   "outputs": [
    {
     "data": {
      "text/plain": [
       "[<matplotlib.lines.Line2D at 0x17a52ef69a0>]"
      ]
     },
     "execution_count": 9,
     "metadata": {},
     "output_type": "execute_result"
    },
    {
     "data": {
      "image/png": "[encoded data removed]",
      "text/plain": [
       "<Figure size 640x480 with 1 Axes>"
      ]
     },
     "metadata": {},
     "output_type": "display_data"
    }
   ],
   "source": [
    "plt.plot(V)"
   ]
  },
  {
   "cell_type": "code",
   "execution_count": null,
   "metadata": {},
   "outputs": [],
   "source": [
    "df = pd.DataFrame()\n",
    "\n",
    "df[\"T\"] = tiempo\n",
    "df[\"V\"] = V\n",
    "\n",
    "df.to_csv(\"../mediciones/D.D/Medicion laser continua/prueba.csv\")"
   ]
  }
 ],
 "metadata": {
  "kernelspec": {
   "display_name": "base",
   "language": "python",
   "name": "python3"
  },
  "language_info": {
   "codemirror_mode": {
    "name": "ipython",
    "version": 3
   },
   "file_extension": ".py",
   "mimetype": "text/x-python",
   "name": "python",
   "nbconvert_exporter": "python",
   "pygments_lexer": "ipython3",
   "version": "3.9.12"
  },
  "orig_nbformat": 4
 },
 "nbformat": 4,
 "nbformat_minor": 2
}
