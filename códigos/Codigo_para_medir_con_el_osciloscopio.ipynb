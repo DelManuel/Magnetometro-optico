{
 "cells": [
  {
   "cell_type": "code",
   "execution_count": 1,
   "metadata": {
    "id": "bkmKSZrQlAjt"
   },
   "outputs": [],
   "source": [
    "import time\n",
    "from matplotlib import pyplot as plt\n",
    "import numpy as np\n",
    "import pyvisa as visa\n",
    "import pickle\n",
    "from tqdm import tqdm\n",
    "from mcculw import ul"
   ]
  },
  {
   "cell_type": "code",
   "execution_count": 3,
   "metadata": {},
   "outputs": [],
   "source": [
    "np.set_printoptions(threshold=8)\n",
    "\n",
    "def set_osc_acq(osc):\n",
    "    # Configuración de la adquisición de curvas\n",
    "    osc.write('DAT:ENC RPB')\n",
    "    osc.write('DAT:WID 1')\n",
    "    osc.write('DAT:STAR 1')\n",
    "    osc.write('DAT:STOP 2500')\n",
    "    osc.write('ACQ:MOD SAMP')\n",
    "\n",
    "def parse_parameters(wfmp_params):\n",
    "    \"\"\"Parsea la información de configuración de las escalas y las almacena en un diccionario.\n",
    "    Para después simplificar el gráfico de la curva.\"\"\"\n",
    "    result = {}\n",
    "    header_def = [('BYT_Nr', int),\n",
    "              ('BiT_Nr', int),\n",
    "              ('ENCdg', str),\n",
    "              ('BN_Fmt', str),\n",
    "              ('BYT_Or', str)]\n",
    "    wfrm1_def = [('WFID', str),\n",
    "             ('NR_PT', int),\n",
    "             ('PT_FMT', str),\n",
    "             ('XUNIT', str),\n",
    "             ('XINCR', float),\n",
    "             ('PT_Off', int),\n",
    "             ('YUNIT', str),\n",
    "             ('YMULT', float),\n",
    "             ('YOFf', float),\n",
    "             ('YZEro', float)]\n",
    "\n",
    "    full_def = header_def + [(f'wfm1:{k}', c) for k, c in wfrm1_def] \\\n",
    "           + [(f'wfm2:{k}', c) for k, c in wfrm1_def] \\\n",
    "           + [(f'wfm3:{k}', c) for k, c in wfrm1_def] \\\n",
    "           + [(f'wfm4:{k}', c) for k, c in wfrm1_def]\n",
    "    for (key, conversor), param in zip(full_def, wfmp_params.split(';')):\n",
    "        result[key] = conversor(param)\n",
    "    return result\n",
    "\n",
    "def escalar_curva(data, parametros):\n",
    "    \"\"\"Devuelve el par de vectores (t, v) a partir de la curva levantada del osciloscopio\n",
    "    y los parámetros de escala del mismo. El eje temporal está en ms y el vertical en Volts/\"\"\"\n",
    "    n = len(data)\n",
    "    t = 1e3 * (np.arange(n) - parametros['wfm1:PT_Off']) * parametros['wfm1:XINCR']\n",
    "\n",
    "    v = (data - parametros['wfm1:YOFf']) * parametros['wfm1:YMULT'] \\\n",
    "                    + parametros['wfm1:YZEro']\n",
    "    return t, v\n",
    "\n",
    "\n",
    "# Definimos una función para obtener los datos de uno de los canales del osciloscopio\n",
    "def medir_canal(osc, channel):\n",
    "    osc.write(f'DAT:SOU CH{channel}') # Adquirimos del canal \n",
    "    # La lectura se puede hacer en modo binario, lo que la hace más eficiente\n",
    "    conf_parameters = parse_parameters(osc.query('WFMP?'))\n",
    "    data = osc.query_binary_values('CURV?', datatype='B', container=np.array)\n",
    "    \n",
    "    # Escalamos los valores con las unidades correctas\n",
    "    t, v = escalar_curva(data, conf_parameters)\n",
    "    return t, v"
   ]
  },
  {
   "cell_type": "code",
   "execution_count": 4,
   "metadata": {
    "colab": {
     "base_uri": "https://localhost:8080/",
     "height": 235
    },
    "id": "AqZtzpX0Zj8F",
    "outputId": "c019be2a-9c49-4339-b640-da2de6d26f12"
   },
   "outputs": [
    {
     "name": "stdout",
     "output_type": "stream",
     "text": [
      "('USB0::0x1313::0x8078::P0008162::INSTR', 'GPIB0::1::INSTR', 'GPIB0::7::INSTR')\n"
     ]
    }
   ],
   "source": [
    "#%%\n",
    "# inicializo comunicacion con equipos\n",
    "rm = visa.ResourceManager()\n",
    "\n",
    "# lista de dispositivos conectados, para ver las id de los equipos\n",
    "print(rm.list_resources())"
   ]
  },
  {
   "cell_type": "code",
   "execution_count": 5,
   "metadata": {
    "id": "k161eqqP2K5g"
   },
   "outputs": [
    {
     "name": "stdout",
     "output_type": "stream",
     "text": [
      "MAIN;1000;5.0E1;2.5E-1;50;2.5E-1;RUNSAFTER;2.5E-9;1.0065E-6;LOCK;LOCK;0\n",
      "\n"
     ]
    }
   ],
   "source": [
    "# Abrimos el recurso de VISA, en este caso es un osciloscopio\n",
    "osc = rm.open_resource('GPIB0::7::INSTR')\n",
    "\n",
    "print(osc.query(\"HOR?\"))\n",
    "set_osc_acq(osc)\n",
    "\n",
    "func = rm.open_resource(\"GPIB0::1::INSTR\")"
   ]
  },
  {
   "cell_type": "code",
   "execution_count": 5,
   "metadata": {},
   "outputs": [],
   "source": [
    "def guardar_dict(dic: dict, path: str) -> None:\n",
    "    # Guardamos los datos en un .pickle\n",
    "    pickle.dump(dic, open(f'{path}.pickle', 'wb'))\n",
    "    return\n",
    "    \n",
    "def barrido(func_init_param: dict, \n",
    "            param_tuple: tuple, \n",
    "            rango: np.ndarray,\n",
    "            scale_change = False) -> dict:\n",
    "\n",
    "    # Ponemos los parámetros iniciales del generador de funciones\n",
    "    for param, value in zip(func_init_param.keys(), func_init_param.values()):\n",
    "        if param == \"AMPL\":\n",
    "            func.write(f\"{param} {value} VP\")\n",
    "        else:\n",
    "            func.write(f\"{param} {value}\")\n",
    "\n",
    "    # Creamos un diccionario para guardar las mediciones que tomamos\n",
    "    dic = {}\n",
    "    # Parámetro y unidad de lo que se barre\n",
    "    param = param_tuple[0]\n",
    "    unit = param_tuple[1]\n",
    "\n",
    "    for i, value in tqdm(enumerate(rango)):\n",
    "        # Cambiamos la amplitud de la señal en voltaje pico a pico\n",
    "        func.write(f\"{param} {value} VP\")\n",
    "        print(f\"{param} cambio a {value} {unit}\")\n",
    "        \n",
    "        # Cambiamos el trigger al valor medio de la señal del canal 1, que es una onda cuadrada\n",
    "        osc.write(\"TRIGGER:MAIN SetLevel\")\n",
    "        time.sleep(4)\n",
    "        \n",
    "        if scale_change:\n",
    "            # Usamos los valores de la anterior medición para cambiar la escala y la posición vertical de la siguiente\n",
    "            if i >= 1:\n",
    "                print(1)\n",
    "                # Cambiamos la posicion vertical de los canales\n",
    "                #for ch in [1,2]:\n",
    "                    #if ch == 1:\n",
    "                # Cambiamos la escala del canal 1\n",
    "                #scale = (2*amp/2)-(2*amp/2)%0.005\n",
    "                #osc.write(f'CH1:SCALE {scale}')\n",
    "                #osc.write(\"TRIGGER:MAIN SetLevel\")\n",
    "                # Cambiamos la posición vertical de las señales\n",
    "                # La posición se selecciona eligiendo los cuadrados del osciloscopio\n",
    "                #osc.write(f\"CH1:POSition {correccion_posicion/scale}\")\n",
    "                        \n",
    "                    #else:\n",
    "                    #  scale = 0.05 # 50 mV\n",
    "        \n",
    "    # Tomamos mediciones de los canales\n",
    "    t_1, v_1 = medir_canal(osc,1)\n",
    "    t_2, v_2 = medir_canal(osc,2)\n",
    "    \n",
    "    # Guardamos los datos\n",
    "    dic[f\"{value}{unit}\"] = {\"t_1\":t_1, \"V_1\":v_1, \"t_2\":t_2, \"V_2\": v_2}\n",
    "    \n",
    "    return dic"
   ]
  },
  {
   "cell_type": "code",
   "execution_count": 26,
   "metadata": {},
   "outputs": [
    {
     "name": "stderr",
     "output_type": "stream",
     "text": [
      "0it [00:00, ?it/s]"
     ]
    },
    {
     "name": "stdout",
     "output_type": "stream",
     "text": [
      "OFFS cambio a 0 V\n"
     ]
    },
    {
     "name": "stderr",
     "output_type": "stream",
     "text": [
      "1it [00:04,  4.01s/it]\n"
     ]
    }
   ],
   "source": [
    "func_init_param = {\"OFFS\" : -2, \"FREQ\": 0, \"AMPL\" : 0, \"FUNC\": 0}\n",
    "\n",
    "magnitud = (\"OFFS\", \"V\")\n",
    "\n",
    "rango = [0]\n",
    "\n",
    "dic = barrido(func_init_param, magnitud, rango)"
   ]
  },
  {
   "attachments": {},
   "cell_type": "markdown",
   "metadata": {},
   "source": [
    "# Celda para modificar directamente atributos del generador de funciones"
   ]
  },
  {
   "cell_type": "code",
   "execution_count": 9,
   "metadata": {},
   "outputs": [
    {
     "data": {
      "text/plain": [
       "8"
      ]
     },
     "execution_count": 9,
     "metadata": {},
     "output_type": "execute_result"
    }
   ],
   "source": [
    "# Para enviar una cuadrada\n",
    "func.write(\"FUNC 0\")\n",
    "# Amplitud de la señal\n",
    "func.write(\"AMPL 0 VP\") # En formato \"AMP {valor_amplitud} {unidad, ej: VP:VPP, VR:VRMS}\"\n",
    "# Offset de la señal\n",
    "func.write(\"OFFS 0\")\n",
    "# Frecuencia de la señal \n",
    "func.write(\"FREQ 0\")\n",
    "# escala temporal\n",
    "#osc.write(f'HOR:SCA 0.005')"
   ]
  },
  {
   "attachments": {},
   "cell_type": "markdown",
   "metadata": {},
   "source": [
    "# Medición única"
   ]
  },
  {
   "cell_type": "code",
   "execution_count": 49,
   "metadata": {},
   "outputs": [
    {
     "data": {
      "text/plain": [
       "12"
      ]
     },
     "execution_count": 49,
     "metadata": {},
     "output_type": "execute_result"
    }
   ],
   "source": [
    "# Parámetros\n",
    "amp = 1\n",
    "freq = 10000\n",
    "offset = 2\n",
    "\n",
    "# Amplitud de la señal\n",
    "func.write(f\"AMPL {amp} VP\") # En formato \"AMP {valor_amplitud} {unidad, ej: VP:VPP, VR:VRMS}\"\n",
    "# Offset de la señal\n",
    "func.write(f\"OFFS {offset}\")\n",
    "# Frecuencia de la señal\n",
    "func.write(f\"FREQ {freq}\")\n",
    "\n",
    "# Escala de tiempo del osciloscopio\n",
    "#osc.write(f'HOR:SCA 0.0000025')"
   ]
  },
  {
   "cell_type": "code",
   "execution_count": 53,
   "metadata": {},
   "outputs": [],
   "source": [
    "dic = {}\n",
    "t_1, v_1 = medir_canal(osc,1)\n",
    "t_2, v_2 = medir_canal(osc,2)\n",
    "\n",
    "# Guardamos los datos\n",
    "dic[f\"{offset}V\"] = {\"t_1\":t_1, \"V_1\":v_1, \"t_2\":t_2, \"V_2\": v_2}"
   ]
  },
  {
   "cell_type": "code",
   "execution_count": 57,
   "metadata": {},
   "outputs": [
    {
     "data": {
      "image/png": "[encoded data removed]",
      "text/plain": [
       "<Figure size 640x480 with 1 Axes>"
      ]
     },
     "metadata": {},
     "output_type": "display_data"
    }
   ],
   "source": [
    "plt.plot(dic[f\"{offset}V\"][\"t_1\"],dic[f\"{offset}V\"][\"V_1\"])\n",
    "plt.xlim(-0.2,0.2)\n",
    "plt.grid()\n",
    "plt.show()"
   ]
  },
  {
   "cell_type": "code",
   "execution_count": 51,
   "metadata": {},
   "outputs": [],
   "source": [
    "# Guardamos los datos en un .pickle\n",
    "pickle.dump(dic, open(f'../mediciones/D.D/Cuadrada AMP{amp} FREQ{freq} OFFS{offset}.pickle', 'wb'))"
   ]
  },
  {
   "attachments": {},
   "cell_type": "markdown",
   "metadata": {},
   "source": [
    "# Barrido en amplitud"
   ]
  },
  {
   "cell_type": "code",
   "execution_count": 18,
   "metadata": {
    "scrolled": true
   },
   "outputs": [
    {
     "name": "stderr",
     "output_type": "stream",
     "text": [
      "0it [00:00, ?it/s]"
     ]
    },
    {
     "name": "stdout",
     "output_type": "stream",
     "text": [
      "La amplitud cambio a 0.1 V\n"
     ]
    },
    {
     "name": "stderr",
     "output_type": "stream",
     "text": [
      "1it [00:07,  7.02s/it]"
     ]
    },
    {
     "name": "stdout",
     "output_type": "stream",
     "text": [
      "La amplitud cambio a 0.2 V\n"
     ]
    },
    {
     "name": "stderr",
     "output_type": "stream",
     "text": [
      "1it [00:11, 11.03s/it]\n"
     ]
    },
    {
     "ename": "NameError",
     "evalue": "name 'scale' is not defined",
     "output_type": "error",
     "traceback": [
      "\u001b[1;31m---------------------------------------------------------------------------\u001b[0m",
      "\u001b[1;31mNameError\u001b[0m                                 Traceback (most recent call last)",
      "Cell \u001b[1;32mIn[18], line 30\u001b[0m\n\u001b[0;32m     19\u001b[0m \u001b[39m# Usamos los valores de la anterior medición para cambiar la escala y la posición vertical de la siguiente\u001b[39;00m\n\u001b[0;32m     20\u001b[0m \u001b[39mif\u001b[39;00m i \u001b[39m>\u001b[39m\u001b[39m=\u001b[39m \u001b[39m1\u001b[39m:\n\u001b[0;32m     21\u001b[0m     \u001b[39m# Cambiamos la posicion vertical de los canales\u001b[39;00m\n\u001b[0;32m     22\u001b[0m     \u001b[39m#for ch in [1,2]:\u001b[39;00m\n\u001b[1;32m   (...)\u001b[0m\n\u001b[0;32m     28\u001b[0m     \u001b[39m# Cambiamos la posición vertical de las señales\u001b[39;00m\n\u001b[0;32m     29\u001b[0m     \u001b[39m# La posición se selecciona eligiendo los cuadrados del osciloscopio\u001b[39;00m\n\u001b[1;32m---> 30\u001b[0m     osc\u001b[39m.\u001b[39mwrite(\u001b[39mf\u001b[39m\u001b[39m\"\u001b[39m\u001b[39mCH1:POSition \u001b[39m\u001b[39m{\u001b[39;00mcorreccion_posicion\u001b[39m/\u001b[39mscale\u001b[39m}\u001b[39;00m\u001b[39m\"\u001b[39m)\n\u001b[0;32m     32\u001b[0m         \u001b[39m#else:\u001b[39;00m\n\u001b[0;32m     33\u001b[0m           \u001b[39m#  scale = 0.05 # 50 mV\u001b[39;00m\n\u001b[0;32m     34\u001b[0m     \n\u001b[0;32m     35\u001b[0m \u001b[39m# Tomamos mediciones de los canales\u001b[39;00m\n\u001b[0;32m     36\u001b[0m t_1, v_1 \u001b[39m=\u001b[39m medir_canal(osc,\u001b[39m1\u001b[39m)\n",
      "\u001b[1;31mNameError\u001b[0m: name 'scale' is not defined"
     ]
    }
   ],
   "source": [
    "# Offset de la señal\n",
    "offset = -2\n",
    "correccion_posicion = -2*offset\n",
    "func.write(f\"OFFS {offset}\")\n",
    "\n",
    "# Valores de amplitud que tomará la señal\n",
    "amp_values = np.linspace(0.1,2,20)\n",
    "# Creamos un diccionario para guardar las mediciones que tomamos\n",
    "dic = {}\n",
    "\n",
    "for i, amp in tqdm(enumerate(amp_values)):\n",
    "    # Cambiamos la amplitud de la señal en voltaje pico a pico\n",
    "    func.write(f\"AMPL {amp} VP\")\n",
    "    print(f\"La amplitud cambio a {amp} V\")\n",
    "    # Cambiamos el trigger al valor medio de la señal del canal 1, que es una onda cuadrada\n",
    "    osc.write(\"TRIGGER:MAIN SetLevel\")\n",
    "    time.sleep(4)\n",
    "    \n",
    "    # Usamos los valores de la anterior medición para cambiar la escala y la posición vertical de la siguiente\n",
    "    if i >= 1:\n",
    "        # Cambiamos la posicion vertical de los canales\n",
    "        #for ch in [1,2]:\n",
    "            #if ch == 1:\n",
    "        # Cambiamos la escala del canal 1\n",
    "        #scale = (2*amp/2)-(2*amp/2)%0.005\n",
    "        #osc.write(f'CH1:SCALE {scale}')\n",
    "        #osc.write(\"TRIGGER:MAIN SetLevel\")\n",
    "        # Cambiamos la posición vertical de las señales\n",
    "        # La posición se selecciona eligiendo los cuadrados del osciloscopio\n",
    "        #osc.write(f\"CH1:POSition {correccion_posicion/scale}\")\n",
    "                \n",
    "            #else:\n",
    "              #  scale = 0.05 # 50 mV\n",
    "        \n",
    "    # Tomamos mediciones de los canales\n",
    "    t_1, v_1 = medir_canal(osc,1)\n",
    "    t_2, v_2 = medir_canal(osc,2)\n",
    "    \n",
    "    # Evitamos medir tensiones positivas, ya que sabemos que el laser funciona con corr < 0\n",
    "    if np.mean(v_2) > 0:\n",
    "        print(\"Medí positivo\")\n",
    "    #    break\n",
    "    \n",
    "    # Guardamos los datos\n",
    "    dic[f\"{amp}V\"] = {\"t_1\":t_1, \"V_1\":v_1, \"t_2\":t_2, \"V_2\": v_2}\n"
   ]
  },
  {
   "cell_type": "code",
   "execution_count": 303,
   "metadata": {},
   "outputs": [],
   "source": [
    "# Guardamos los datos en un .pickle\n",
    "pickle.dump(dic, open(f'../mediciones/Barrido en amplitud a {offset} V de offset.pickle', 'wb'))"
   ]
  },
  {
   "attachments": {},
   "cell_type": "markdown",
   "metadata": {},
   "source": [
    "# Barrido en offset"
   ]
  },
  {
   "cell_type": "code",
   "execution_count": 48,
   "metadata": {},
   "outputs": [
    {
     "data": {
      "text/plain": [
       "23"
      ]
     },
     "execution_count": 48,
     "metadata": {},
     "output_type": "execute_result"
    }
   ],
   "source": [
    "func.write(f\"OFFS -1\")\n",
    "func.write(f\"AMPL 1 VP\")\n",
    "func.write(f\"FREQ 1000\")\n",
    "osc.write(\"TRIGGER:MAIN SetLevel\")"
   ]
  },
  {
   "cell_type": "code",
   "execution_count": 199,
   "metadata": {},
   "outputs": [
    {
     "data": {
      "text/plain": [
       "23"
      ]
     },
     "execution_count": 199,
     "metadata": {},
     "output_type": "execute_result"
    }
   ],
   "source": [
    "scale_1 = f'{(2*amp/2)-(2*amp/2)%0.005}'\n",
    "osc.write(f'CH1:SCALE {scale_1}')\n",
    "osc.write(\"TRIGGER:MAIN SetLevel\")"
   ]
  },
  {
   "cell_type": "code",
   "execution_count": 178,
   "metadata": {},
   "outputs": [
    {
     "data": {
      "text/plain": [
       "2.9473684210526314"
      ]
     },
     "execution_count": 178,
     "metadata": {},
     "output_type": "execute_result"
    }
   ],
   "source": [
    "\"En este encontramos que se rompe\"\n",
    "2.9473684210526314 "
   ]
  },
  {
   "cell_type": "code",
   "execution_count": 16,
   "metadata": {},
   "outputs": [
    {
     "name": "stderr",
     "output_type": "stream",
     "text": [
      "0it [00:00, ?it/s]"
     ]
    },
    {
     "name": "stdout",
     "output_type": "stream",
     "text": [
      "El offset cambio a 0.0 V\n"
     ]
    },
    {
     "name": "stderr",
     "output_type": "stream",
     "text": [
      "1it [00:12, 12.97s/it]"
     ]
    },
    {
     "name": "stdout",
     "output_type": "stream",
     "text": [
      "Medí positivo\n",
      "El offset cambio a 0.16842105263157894 V\n"
     ]
    },
    {
     "name": "stderr",
     "output_type": "stream",
     "text": [
      "2it [00:25, 12.99s/it]"
     ]
    },
    {
     "name": "stdout",
     "output_type": "stream",
     "text": [
      "El offset cambio a 0.3368421052631579 V\n"
     ]
    },
    {
     "name": "stderr",
     "output_type": "stream",
     "text": [
      "3it [00:38, 12.84s/it]"
     ]
    },
    {
     "name": "stdout",
     "output_type": "stream",
     "text": [
      "El offset cambio a 0.5052631578947369 V\n"
     ]
    },
    {
     "name": "stderr",
     "output_type": "stream",
     "text": [
      "4it [00:51, 12.90s/it]"
     ]
    },
    {
     "name": "stdout",
     "output_type": "stream",
     "text": [
      "El offset cambio a 0.6736842105263158 V\n"
     ]
    },
    {
     "name": "stderr",
     "output_type": "stream",
     "text": [
      "5it [01:04, 12.94s/it]"
     ]
    },
    {
     "name": "stdout",
     "output_type": "stream",
     "text": [
      "El offset cambio a 0.8421052631578947 V\n"
     ]
    },
    {
     "name": "stderr",
     "output_type": "stream",
     "text": [
      "6it [01:17, 12.97s/it]"
     ]
    },
    {
     "name": "stdout",
     "output_type": "stream",
     "text": [
      "El offset cambio a 1.0105263157894737 V\n"
     ]
    },
    {
     "name": "stderr",
     "output_type": "stream",
     "text": [
      "7it [01:30, 12.98s/it]"
     ]
    },
    {
     "name": "stdout",
     "output_type": "stream",
     "text": [
      "El offset cambio a 1.1789473684210525 V\n"
     ]
    },
    {
     "name": "stderr",
     "output_type": "stream",
     "text": [
      "8it [01:43, 12.99s/it]"
     ]
    },
    {
     "name": "stdout",
     "output_type": "stream",
     "text": [
      "El offset cambio a 1.3473684210526315 V\n"
     ]
    },
    {
     "name": "stderr",
     "output_type": "stream",
     "text": [
      "9it [01:56, 13.00s/it]"
     ]
    },
    {
     "name": "stdout",
     "output_type": "stream",
     "text": [
      "El offset cambio a 1.5157894736842106 V\n"
     ]
    },
    {
     "name": "stderr",
     "output_type": "stream",
     "text": [
      "10it [02:09, 13.00s/it]"
     ]
    },
    {
     "name": "stdout",
     "output_type": "stream",
     "text": [
      "El offset cambio a 1.6842105263157894 V\n"
     ]
    },
    {
     "name": "stderr",
     "output_type": "stream",
     "text": [
      "11it [02:22, 13.00s/it]"
     ]
    },
    {
     "name": "stdout",
     "output_type": "stream",
     "text": [
      "El offset cambio a 1.8526315789473684 V\n"
     ]
    },
    {
     "name": "stderr",
     "output_type": "stream",
     "text": [
      "12it [02:35, 13.01s/it]"
     ]
    },
    {
     "name": "stdout",
     "output_type": "stream",
     "text": [
      "El offset cambio a 2.0210526315789474 V\n"
     ]
    },
    {
     "name": "stderr",
     "output_type": "stream",
     "text": [
      "13it [02:48, 13.01s/it]"
     ]
    },
    {
     "name": "stdout",
     "output_type": "stream",
     "text": [
      "El offset cambio a 2.1894736842105265 V\n"
     ]
    },
    {
     "name": "stderr",
     "output_type": "stream",
     "text": [
      "14it [03:01, 13.03s/it]"
     ]
    },
    {
     "name": "stdout",
     "output_type": "stream",
     "text": [
      "El offset cambio a 2.357894736842105 V\n"
     ]
    },
    {
     "name": "stderr",
     "output_type": "stream",
     "text": [
      "15it [03:14, 13.03s/it]"
     ]
    },
    {
     "name": "stdout",
     "output_type": "stream",
     "text": [
      "El offset cambio a 2.526315789473684 V\n"
     ]
    },
    {
     "name": "stderr",
     "output_type": "stream",
     "text": [
      "16it [03:27, 13.02s/it]"
     ]
    },
    {
     "name": "stdout",
     "output_type": "stream",
     "text": [
      "El offset cambio a 2.694736842105263 V\n"
     ]
    },
    {
     "name": "stderr",
     "output_type": "stream",
     "text": [
      "17it [03:40, 13.01s/it]"
     ]
    },
    {
     "name": "stdout",
     "output_type": "stream",
     "text": [
      "El offset cambio a 2.863157894736842 V\n"
     ]
    },
    {
     "name": "stderr",
     "output_type": "stream",
     "text": [
      "18it [03:53, 13.01s/it]"
     ]
    },
    {
     "name": "stdout",
     "output_type": "stream",
     "text": [
      "El offset cambio a 3.031578947368421 V\n"
     ]
    },
    {
     "name": "stderr",
     "output_type": "stream",
     "text": [
      "19it [04:06, 13.01s/it]"
     ]
    },
    {
     "name": "stdout",
     "output_type": "stream",
     "text": [
      "El offset cambio a 3.2 V\n"
     ]
    },
    {
     "name": "stderr",
     "output_type": "stream",
     "text": [
      "20it [04:19, 12.99s/it]\n"
     ]
    },
    {
     "data": {
      "text/plain": [
       "10"
      ]
     },
     "execution_count": 16,
     "metadata": {},
     "output_type": "execute_result"
    }
   ],
   "source": [
    "# Lista con los valores de offset a barrer\n",
    "offs_values = np.linspace(0, 3.2, 20)\n",
    "\n",
    "\n",
    "# Amplitud de la señal\n",
    "amp = 0\n",
    "func.write(f\"AMPL {amp} VP\") # En formato \"AMP {valor_amplitud} {unidad, ej: VP:VPP, VR:VRMS}\"\n",
    "# Cambiamos la escala del canal 1\n",
    "scale_1 = 0.02\n",
    "osc.write(f'CH1:SCALE {scale_1}')\n",
    "scale_2 = 0.05\n",
    "osc.write(f'CH2:SCALE {scale_2}')\n",
    "# Diccionario para guardar las mediciones\n",
    "dic = {}\n",
    "\n",
    "# time.sleep(?)\n",
    "t_sleep = 5\n",
    "\n",
    "for i, offset in tqdm(enumerate(offs_values)):\n",
    "    # Cambiamos el offset de la señal\n",
    "    func.write(f\"OFFS {offset}\")\n",
    "    print(f\"El offset cambio a {offset} V\")\n",
    "    \n",
    "    # Cambiamos el trigger al valor medio de la señal del canal 1, que es una onda cuadrada\n",
    "    osc.write(\"TRIGGER:MAIN SetLevel\")\n",
    "    time.sleep(t_sleep)\n",
    "    \n",
    "    # Usamos los valores de la anterior medición para cambiar la escala y la posición vertical de la siguiente\n",
    "    if i >= 1:\n",
    "        # Cambiamos la posicion vertical de los canales\n",
    "        for ch in [1,2]:\n",
    "            if ch == 1:\n",
    "                # Cambiamos la escala del canal 1\n",
    "                scale = (2*offset/3)-(2*offset/3)%0.005\n",
    "                osc.write(f'CH{ch}:SCALE {scale}')\n",
    "\n",
    "            else:\n",
    "                scale = 0.05 # 50 mV\n",
    "                    \n",
    "                # Cambiamos la posición vertical de las señales\n",
    "                offset_anterior = np.mean(dic[f\"{offs_values[i-1]}V\"][f\"V_{ch}\"])\n",
    "                correccion_posicion = -(offset_anterior-offset_anterior%0.005) \n",
    "                # La posición se selecciona eligiendo los cuadrados del osciloscopio\n",
    "                osc.write(f\"CH{ch}:POSition {correccion_posicion/scale}\")\n",
    "        \n",
    "    time.sleep(t_sleep)\n",
    "    # Tomamos mediciones de los canales\n",
    "    t_1, v_1 = medir_canal(osc,1)\n",
    "    t_2, v_2 = medir_canal(osc,2)\n",
    "    \n",
    "    # Evitamos medir tensiones positivas, ya que sabemos que el \n",
    "    if np.mean(v_2) > 0:\n",
    "        print(\"Medí positivo\")\n",
    "    #    break\n",
    "    \n",
    "    # Guardamos los datos\n",
    "    dic[f\"{offset}V\"] = {\"t_1\":t_1, \"V_1\":v_1, \"t_2\":t_2, \"V_2\": v_2}\n",
    "\n",
    "\n",
    "func.write(f\"OFFS {offs_values[0]}\")"
   ]
  },
  {
   "cell_type": "code",
   "execution_count": 17,
   "metadata": {},
   "outputs": [],
   "source": [
    "# Guardamos los datos en un .pickle\n",
    "pickle.dump(dic, open(f'../mediciones/D.D/Barrido continua a {amp} V de amp sobre R.pickle', 'wb'))"
   ]
  },
  {
   "attachments": {},
   "cell_type": "markdown",
   "metadata": {},
   "source": [
    "# Barrido en frecuencias"
   ]
  },
  {
   "cell_type": "code",
   "execution_count": 21,
   "metadata": {},
   "outputs": [
    {
     "data": {
      "text/plain": [
       "17"
      ]
     },
     "execution_count": 21,
     "metadata": {},
     "output_type": "execute_result"
    }
   ],
   "source": [
    "# configuramos una sinusoidal\n",
    "#func.write(\"FUNC SIN\")\n",
    "func.write(\"FUNC 1\") # 1 Cuadrada, 0 para el seno\n",
    "# Seteamos el offset\n",
    "offset = -3\n",
    "func.write(f'OFFS {offset}')\n",
    "\n",
    "# Seteamos la amplitud \n",
    "amp = 1\n",
    "func.write(f'AMPL {amp} VP')\n",
    "\n",
    "# func.write('OUTE1')\n",
    "\n",
    "func.write('FREQ 10000')\n",
    "osc.write(f'HOR:SCA 0.00005')"
   ]
  },
  {
   "cell_type": "code",
   "execution_count": 6,
   "metadata": {},
   "outputs": [
    {
     "name": "stderr",
     "output_type": "stream",
     "text": [
      "0it [00:00, ?it/s]"
     ]
    },
    {
     "name": "stdout",
     "output_type": "stream",
     "text": [
      "La frecuencia cambió a 100.0\n"
     ]
    },
    {
     "name": "stderr",
     "output_type": "stream",
     "text": [
      "1it [00:13, 13.13s/it]"
     ]
    },
    {
     "name": "stdout",
     "output_type": "stream",
     "text": [
      "La frecuencia cambió a 673.6842105263158\n"
     ]
    },
    {
     "name": "stderr",
     "output_type": "stream",
     "text": [
      "1it [00:23, 23.14s/it]\n"
     ]
    },
    {
     "ename": "KeyboardInterrupt",
     "evalue": "",
     "output_type": "error",
     "traceback": [
      "\u001b[1;31m---------------------------------------------------------------------------\u001b[0m",
      "\u001b[1;31mKeyboardInterrupt\u001b[0m                         Traceback (most recent call last)",
      "Cell \u001b[1;32mIn[6], line 48\u001b[0m\n\u001b[0;32m     38\u001b[0m         scale_1 \u001b[39m=\u001b[39m \u001b[39m0.005\u001b[39m \u001b[39m# 5mV\u001b[39;00m\n\u001b[0;32m     39\u001b[0m         \u001b[39m# Agregamos una corrección para que el canal 1 quede centrado\u001b[39;00m\n\u001b[0;32m     40\u001b[0m \u001b[39m#         correc_canal = 0.5\u001b[39;00m\n\u001b[0;32m     41\u001b[0m         \n\u001b[1;32m   (...)\u001b[0m\n\u001b[0;32m     45\u001b[0m \u001b[39m#         # La posición se selecciona eligiendo los cuadrados del osciloscopio\u001b[39;00m\n\u001b[0;32m     46\u001b[0m \u001b[39m#         osc.write(f\"CH1:POSition {correccion_posicion/scale_1}\")\u001b[39;00m\n\u001b[1;32m---> 48\u001b[0m     time\u001b[39m.\u001b[39;49msleep(t_sleep)\n\u001b[0;32m     50\u001b[0m     \u001b[39m# Tomamos mediciones de los canales\u001b[39;00m\n\u001b[0;32m     51\u001b[0m     t_1, v_1 \u001b[39m=\u001b[39m medir_canal(osc,\u001b[39m1\u001b[39m)\n",
      "\u001b[1;31mKeyboardInterrupt\u001b[0m: "
     ]
    }
   ],
   "source": [
    "freq_list = np.linspace(100, 15000, 20)\n",
    "df = freq_list[1]-freq_list[0]\n",
    "\n",
    "# escalas temporales\n",
    "t_scales = [0.00005, 0.0001, 0.0002, 0.0005, 0.001, 0.002, 0.005]\n",
    "t_scales.reverse()\n",
    "j = 0\n",
    "t_scale = t_scales[j]\n",
    "\n",
    "# Cambiamos la escala del canal 2\n",
    "scale_2 = 0.05 # 50mV\n",
    "osc.write(f'CH2:SCALE {scale_2}')\n",
    "osc.write(\"TRIGGER:MAIN SetLevel\")\n",
    "\n",
    "# Diccionario para guardar las mediciones\n",
    "dic = {}\n",
    "\n",
    "# time.sleep(?)\n",
    "t_sleep = 10\n",
    "\n",
    "for i,freq in tqdm(enumerate(freq_list)):\n",
    "    \n",
    "    func.write(f\"FREQ {freq}\")\n",
    "    print(f\"La frecuencia cambió a {freq}\")\n",
    "    \n",
    "    # cambiamos la escala temporal\n",
    "    t = 1/freq # un periodo\n",
    "    if t < 1.5*t_scale:\n",
    "        j += 1\n",
    "        t_scale = t_scales[j]\n",
    "        osc.write(f'HOR:SCA {t_scale}') # en segundos\n",
    "        \n",
    "    if i >= 1:\n",
    "        # calculamos la amplitud del canal 1\n",
    "        amp1 = np.max(v_1) - np.min(v_1)\n",
    "        \n",
    "        # cambiamos la escala del canal 1\n",
    "        scale_1 = 0.005 # 5mV\n",
    "        # Agregamos una corrección para que el canal 1 quede centrado\n",
    "#         correc_canal = 0.5\n",
    "        \n",
    "        # Cambiamos la posicion vertical del canal 1\n",
    "#         offset_anterior = np.mean(v_1)\n",
    "#         correccion_posicion = -(offset-offset%0.005) #- correc_canal\n",
    "#         # La posición se selecciona eligiendo los cuadrados del osciloscopio\n",
    "#         osc.write(f\"CH1:POSition {correccion_posicion/scale_1}\")\n",
    "\n",
    "    time.sleep(t_sleep)\n",
    "    \n",
    "    # Tomamos mediciones de los canales\n",
    "    t_1, v_1 = medir_canal(osc,1)\n",
    "    t_2, v_2 = medir_canal(osc,2)\n",
    "    \n",
    "    # Evitamos medir tensiones positivas, ya que sabemos que el \n",
    "    if np.mean(v_2) > 0:\n",
    "        print(\"Medí positivo\")\n",
    "    #    break\n",
    "    \n",
    "    # Guardamos los datos\n",
    "    dic[f\"{freq}Hz\"] = {\"t_1\":t_1, \"V_1\":v_1, \"t_2\":t_2, \"V_2\": v_2}\n",
    "\n",
    "print(\"\\n Terminó el barrido\")"
   ]
  },
  {
   "cell_type": "code",
   "execution_count": 43,
   "metadata": {},
   "outputs": [],
   "source": [
    "# Guardamos los datos en un .pickle\n",
    "pickle.dump(dic, open(f'../mediciones/Transferencia fotodiodo/Barrido sinusoidal a {amp} V de amp y {offset} V de offset con R=14000 ohm.pickle', 'wb'))"
   ]
  },
  {
   "attachments": {},
   "cell_type": "markdown",
   "metadata": {},
   "source": [
    "# Barrido con la DAQ"
   ]
  },
  {
   "cell_type": "code",
   "execution_count": 5,
   "metadata": {},
   "outputs": [
    {
     "name": "stdout",
     "output_type": "stream",
     "text": [
      "[]\n"
     ]
    }
   ],
   "source": [
    "# Para obtener el descriptor de la DAQ\n",
    "descriptor = ul.get_daq_device_inventory(1)[0] # 7 para ANY o 1 para USB\n",
    "board_num = ul.get_board_number(descriptor)\n",
    "print(descriptor)\n",
    "print(board_num)"
   ]
  },
  {
   "cell_type": "code",
   "execution_count": 37,
   "metadata": {},
   "outputs": [
    {
     "ename": "ULError",
     "evalue": "Error 1027: Specified DAQ device already created.",
     "output_type": "error",
     "traceback": [
      "\u001b[1;31m---------------------------------------------------------------------------\u001b[0m",
      "\u001b[1;31mULError\u001b[0m                                   Traceback (most recent call last)",
      "Cell \u001b[1;32mIn[37], line 2\u001b[0m\n\u001b[0;32m      1\u001b[0m \u001b[38;5;66;03m# Para iniciar la DAQ\u001b[39;00m\n\u001b[1;32m----> 2\u001b[0m DAQ \u001b[38;5;241m=\u001b[39m \u001b[43mul\u001b[49m\u001b[38;5;241;43m.\u001b[39;49m\u001b[43mcreate_daq_device\u001b[49m\u001b[43m(\u001b[49m\u001b[38;5;241;43m1\u001b[39;49m\u001b[43m,\u001b[49m\u001b[43m \u001b[49m\u001b[43mdescriptor\u001b[49m\u001b[43m)\u001b[49m \n",
      "File \u001b[1;32m~\\anaconda3\\lib\\site-packages\\mcculw\\ul.py:1828\u001b[0m, in \u001b[0;36mcreate_daq_device\u001b[1;34m(board_num, descriptor)\u001b[0m\n\u001b[0;32m   1810\u001b[0m \u001b[38;5;28;01mdef\u001b[39;00m \u001b[38;5;21mcreate_daq_device\u001b[39m(board_num, descriptor):\n\u001b[0;32m   1811\u001b[0m \u001b[38;5;250m    \u001b[39m\u001b[38;5;124;03m\"\"\"Creates a device object within the Universal Library for the DAQ device specified by the\u001b[39;00m\n\u001b[0;32m   1812\u001b[0m \u001b[38;5;124;03m    descriptor, and assigns the specified board number to the DAQ device.\u001b[39;00m\n\u001b[0;32m   1813\u001b[0m \n\u001b[1;32m   (...)\u001b[0m\n\u001b[0;32m   1826\u001b[0m \u001b[38;5;124;03m        The descriptor of the DAQ device\u001b[39;00m\n\u001b[0;32m   1827\u001b[0m \u001b[38;5;124;03m    \"\"\"\u001b[39;00m\n\u001b[1;32m-> 1828\u001b[0m     \u001b[43m_check_err\u001b[49m\u001b[43m(\u001b[49m\u001b[43m_cbw\u001b[49m\u001b[38;5;241;43m.\u001b[39;49m\u001b[43mcbCreateDaqDevice\u001b[49m\u001b[43m(\u001b[49m\u001b[43mboard_num\u001b[49m\u001b[43m,\u001b[49m\u001b[43m \u001b[49m\u001b[43mdescriptor\u001b[49m\u001b[43m)\u001b[49m\u001b[43m)\u001b[49m\n",
      "File \u001b[1;32m~\\anaconda3\\lib\\site-packages\\mcculw\\ul.py:6128\u001b[0m, in \u001b[0;36m_check_err\u001b[1;34m(errcode)\u001b[0m\n\u001b[0;32m   6126\u001b[0m \u001b[38;5;28;01mdef\u001b[39;00m \u001b[38;5;21m_check_err\u001b[39m(errcode):\n\u001b[0;32m   6127\u001b[0m     \u001b[38;5;28;01mif\u001b[39;00m errcode:\n\u001b[1;32m-> 6128\u001b[0m         \u001b[38;5;28;01mraise\u001b[39;00m ULError(errcode)\n",
      "\u001b[1;31mULError\u001b[0m: Error 1027: Specified DAQ device already created."
     ]
    }
   ],
   "source": [
    "# Para iniciar la DAQ\n",
    "DAQ = ul.create_daq_device(1, descriptor) "
   ]
  },
  {
   "attachments": {},
   "cell_type": "markdown",
   "metadata": {},
   "source": [
    "# Operando con el medidor de potencia"
   ]
  },
  {
   "cell_type": "code",
   "execution_count": 10,
   "metadata": {},
   "outputs": [
    {
     "name": "stdout",
     "output_type": "stream",
     "text": [
      "1.3748587e-06\n",
      "POW\n"
     ]
    }
   ],
   "source": [
    "from ThorlabsPM100 import ThorlabsPM100\n",
    "inst = rm.open_resource(\"USB0::0x1313::0x8078::P0008162::INSTR\", timeout=1)\n",
    "power_meter = ThorlabsPM100(inst=inst)\n",
    "\n",
    "# Para leer los datos\n",
    "print(power_meter.read)\n",
    "# Para saber la unidad\n",
    "print(power_meter.getconfigure)"
   ]
  },
  {
   "cell_type": "code",
   "execution_count": 27,
   "metadata": {},
   "outputs": [
    {
     "data": {
      "text/plain": [
       "8"
      ]
     },
     "execution_count": 27,
     "metadata": {},
     "output_type": "execute_result"
    }
   ],
   "source": [
    "func.write(f\"OFFS 0\")\n",
    "func.write(f\"AMPL 0 VP\")\n",
    "func.write(f\"FREQ 0\")"
   ]
  },
  {
   "cell_type": "code",
   "execution_count": 69,
   "metadata": {},
   "outputs": [],
   "source": [
    "POW_ranges = [13e-6,13e-5,13e-4,13e-3,13e-2,13e-1] # Va desde 13 microW hasta 1.3 W"
   ]
  },
  {
   "cell_type": "code",
   "execution_count": 70,
   "metadata": {},
   "outputs": [],
   "source": [
    "power_meter.sense.power.dc.range.auto = \"OFF\" # Para apagar el modo automático de determinación del rango"
   ]
  },
  {
   "cell_type": "code",
   "execution_count": 14,
   "metadata": {},
   "outputs": [],
   "source": [
    "power_meter.sense.power.dc.range.upper = 13e-2"
   ]
  },
  {
   "cell_type": "code",
   "execution_count": 25,
   "metadata": {
    "scrolled": false
   },
   "outputs": [
    {
     "name": "stderr",
     "output_type": "stream",
     "text": [
      "0it [00:00, ?it/s]"
     ]
    },
    {
     "name": "stdout",
     "output_type": "stream",
     "text": [
      "ESTE ES EL OFFSET 0.0\n"
     ]
    },
    {
     "name": "stderr",
     "output_type": "stream",
     "text": [
      "1it [00:12, 12.05s/it]"
     ]
    },
    {
     "name": "stdout",
     "output_type": "stream",
     "text": [
      "ESTE ES EL OFFSET 0.13157894736842105\n"
     ]
    },
    {
     "name": "stderr",
     "output_type": "stream",
     "text": [
      "2it [00:23, 11.77s/it]"
     ]
    },
    {
     "name": "stdout",
     "output_type": "stream",
     "text": [
      "ESTE ES EL OFFSET 0.2631578947368421\n"
     ]
    },
    {
     "name": "stderr",
     "output_type": "stream",
     "text": [
      "3it [00:35, 11.78s/it]"
     ]
    },
    {
     "name": "stdout",
     "output_type": "stream",
     "text": [
      "ESTE ES EL OFFSET 0.39473684210526316\n"
     ]
    },
    {
     "name": "stderr",
     "output_type": "stream",
     "text": [
      "4it [00:47, 11.73s/it]"
     ]
    },
    {
     "name": "stdout",
     "output_type": "stream",
     "text": [
      "ESTE ES EL OFFSET 0.5263157894736842\n"
     ]
    },
    {
     "name": "stderr",
     "output_type": "stream",
     "text": [
      "5it [00:59, 11.84s/it]"
     ]
    },
    {
     "name": "stdout",
     "output_type": "stream",
     "text": [
      "ESTE ES EL OFFSET 0.6578947368421052\n"
     ]
    },
    {
     "name": "stderr",
     "output_type": "stream",
     "text": [
      "6it [01:11, 11.91s/it]"
     ]
    },
    {
     "name": "stdout",
     "output_type": "stream",
     "text": [
      "ESTE ES EL OFFSET 0.7894736842105263\n"
     ]
    },
    {
     "name": "stderr",
     "output_type": "stream",
     "text": [
      "7it [01:23, 11.91s/it]"
     ]
    },
    {
     "name": "stdout",
     "output_type": "stream",
     "text": [
      "ESTE ES EL OFFSET 0.9210526315789473\n"
     ]
    },
    {
     "name": "stderr",
     "output_type": "stream",
     "text": [
      "8it [01:33, 11.46s/it]"
     ]
    },
    {
     "name": "stdout",
     "output_type": "stream",
     "text": [
      "ESTE ES EL OFFSET 1.0526315789473684\n"
     ]
    },
    {
     "name": "stderr",
     "output_type": "stream",
     "text": [
      "9it [01:45, 11.67s/it]"
     ]
    },
    {
     "name": "stdout",
     "output_type": "stream",
     "text": [
      "ESTE ES EL OFFSET 1.1842105263157894\n"
     ]
    },
    {
     "name": "stderr",
     "output_type": "stream",
     "text": [
      "10it [01:57, 11.68s/it]"
     ]
    },
    {
     "name": "stdout",
     "output_type": "stream",
     "text": [
      "ESTE ES EL OFFSET 1.3157894736842104\n"
     ]
    },
    {
     "name": "stderr",
     "output_type": "stream",
     "text": [
      "11it [02:09, 11.74s/it]"
     ]
    },
    {
     "name": "stdout",
     "output_type": "stream",
     "text": [
      "ESTE ES EL OFFSET 1.4473684210526314\n"
     ]
    },
    {
     "name": "stderr",
     "output_type": "stream",
     "text": [
      "12it [02:20, 11.63s/it]"
     ]
    },
    {
     "name": "stdout",
     "output_type": "stream",
     "text": [
      "ESTE ES EL OFFSET 1.5789473684210527\n"
     ]
    },
    {
     "name": "stderr",
     "output_type": "stream",
     "text": [
      "13it [02:31, 11.53s/it]"
     ]
    },
    {
     "name": "stdout",
     "output_type": "stream",
     "text": [
      "ESTE ES EL OFFSET 1.7105263157894737\n"
     ]
    },
    {
     "name": "stderr",
     "output_type": "stream",
     "text": [
      "14it [02:43, 11.47s/it]"
     ]
    },
    {
     "name": "stdout",
     "output_type": "stream",
     "text": [
      "ESTE ES EL OFFSET 1.8421052631578947\n"
     ]
    },
    {
     "name": "stderr",
     "output_type": "stream",
     "text": [
      "15it [02:54, 11.38s/it]"
     ]
    },
    {
     "name": "stdout",
     "output_type": "stream",
     "text": [
      "ESTE ES EL OFFSET 1.9736842105263157\n"
     ]
    },
    {
     "name": "stderr",
     "output_type": "stream",
     "text": [
      "16it [03:05, 11.42s/it]"
     ]
    },
    {
     "name": "stdout",
     "output_type": "stream",
     "text": [
      "ESTE ES EL OFFSET 2.1052631578947367\n"
     ]
    },
    {
     "name": "stderr",
     "output_type": "stream",
     "text": [
      "17it [03:17, 11.39s/it]"
     ]
    },
    {
     "name": "stdout",
     "output_type": "stream",
     "text": [
      "ESTE ES EL OFFSET 2.236842105263158\n"
     ]
    },
    {
     "name": "stderr",
     "output_type": "stream",
     "text": [
      "18it [03:28, 11.36s/it]"
     ]
    },
    {
     "name": "stdout",
     "output_type": "stream",
     "text": [
      "ESTE ES EL OFFSET 2.3684210526315788\n"
     ]
    },
    {
     "name": "stderr",
     "output_type": "stream",
     "text": [
      "19it [03:39, 11.33s/it]"
     ]
    },
    {
     "name": "stdout",
     "output_type": "stream",
     "text": [
      "ESTE ES EL OFFSET 2.5\n"
     ]
    },
    {
     "name": "stderr",
     "output_type": "stream",
     "text": [
      "20it [03:50, 11.55s/it]\n"
     ]
    }
   ],
   "source": [
    "# Lista con los valores de offset a barrer\n",
    "offs_values = list(np.linspace(0,2.5,20))\n",
    "# Para empezar desde corrientes altas\n",
    "#offs_values.reverse()\n",
    "# Amplitud de la señal\n",
    "amp = 0\n",
    "func.write(f\"AMPL {amp} VP\") # En formato \"AMP {valor_amplitud} {unidad, ej: VP:VPP, VR:VRMS}\"\n",
    "scale_1 = 2\n",
    "# Diccionario para guardar las mediciones\n",
    "dic = {}\n",
    "# Saco el modo de rango automatico\n",
    "power_meter.sense.power.dc.range.auto = \"OFF\" \n",
    "# Definimos la escala inicial del medidor de potencia\n",
    "POW_range = 13e-4\n",
    "power_meter.sense.power.dc.range.upper = POW_range\n",
    "for i, offset in tqdm(enumerate(offs_values)):\n",
    "    valores_POW = []\n",
    "    \n",
    "    print(\"ESTE ES EL OFFSET\", offset)\n",
    "    # Cambiamos el offset de la señal\n",
    "    func.write(f\"OFFS {offset}\")\n",
    "    #print(f\"El offset cambio a {offset} V\")\n",
    "    \n",
    "    # Cambiamos el trigger al valor medio de la señal del canal 1, que es una onda cuadrada\n",
    "    osc.write(\"TRIGGER:MAIN SetLevel\")\n",
    "    time.sleep(2)\n",
    "    \n",
    "    # Usamos los valores de la anterior medición para cambiar la escala y la posición vertical de la siguiente\n",
    "    if i >= 1:\n",
    "        # Cambiamos la posicion vertical de los canales\n",
    "        for ch in [1,2]:\n",
    "            if ch == 1:\n",
    "                scale = scale_1\n",
    "                # Agregamos una corrección para que el canal 1 quede centrado\n",
    "                correc_canal = 0.5\n",
    "            else:\n",
    "                scale = 0.1 # 100 mV\n",
    "                # Agregamos una corrección que no afecta al canal 2\n",
    "                correc_canal = 0\n",
    "                \n",
    "            # Cambiamos la posición vertical de las señales\n",
    "            offset_anterior = np.mean(dic[f\"{offs_values[i-1]}V\"][f\"V_{ch}\"])\n",
    "            correccion_posicion = -(offset_anterior-offset_anterior%0.005) - correc_canal\n",
    "            # La posición se selecciona eligiendo los cuadrados del osciloscopio\n",
    "            osc.write(f\"CH{ch}:POSition {correccion_posicion/scale}\")\n",
    "    \n",
    "    \n",
    "    time.sleep(2)\n",
    "    \n",
    "    # Medimos la potencia\n",
    "    for i in range(1000):\n",
    "        valores_POW.append(power_meter.read)\n",
    "    \n",
    "    if np.mean(valores_POW)/POW_range > 0.8: # Nos fijamos si el valor es el tanto % de la escala\n",
    "        \n",
    "        # Caso en que vamos aumentando la potencia\n",
    "        # Aumentamos la escala\n",
    "        POW_range *= 10\n",
    "        # La cambiamos en el medidor de potencia\n",
    "        power_meter.sense.power.dc.range.upper = POW_range\n",
    "    \n",
    "    # Tomamos mediciones de los canales\n",
    "    t_1, v_1 = medir_canal(osc,1)\n",
    "    t_2, v_2 = medir_canal(osc,2)\n",
    "    \n",
    "    # Guardamos los datos\n",
    "    dic[f\"{offset}V\"] = {\"t_1\":t_1, \"V_1\":v_1, \"t_2\":t_2, \"V_2\": v_2, \"POW\": valores_POW}"
   ]
  },
  {
   "cell_type": "code",
   "execution_count": 26,
   "metadata": {},
   "outputs": [],
   "source": [
    "# Guardamos los datos en un .pickle\n",
    "pickle.dump(dic, open(f'../mediciones/Barrido para potencia total 1905.pickle', 'wb'))"
   ]
  },
  {
   "attachments": {},
   "cell_type": "markdown",
   "metadata": {},
   "source": [
    "# Mediciones de tiempo de respuesta"
   ]
  },
  {
   "cell_type": "code",
   "execution_count": 36,
   "metadata": {},
   "outputs": [
    {
     "data": {
      "text/plain": [
       "8"
      ]
     },
     "execution_count": 36,
     "metadata": {},
     "output_type": "execute_result"
    }
   ],
   "source": [
    "# Offset de la señal (chequear que sea el que manda -300mA)\n",
    "offset = -3\n",
    "func.write(f'OFFS {offset}')\n",
    "\n",
    "# frecuencia de la cuadrada\n",
    "freq = 0.5\n",
    "func.write(f\"FREQ {freq}\")\n",
    "\n",
    "amp = 0\n",
    "func.write(f'AMPL {amp} VP')\n",
    "\n",
    "#\n",
    "osc.write(f'HOR:SCA 0.5')\n",
    "func.write(\"FUNC 1\") "
   ]
  },
  {
   "cell_type": "code",
   "execution_count": null,
   "metadata": {},
   "outputs": [],
   "source": [
    "# Lista con los valores de amplitud a barrer\n",
    "amp_values = np.linspace(0, 0.5, 10)\n",
    "\n",
    "# Cambiamos la escala del canal 1\n",
    "# scale_1 = (2*amp/2)-(2*amp/2)%0.005\n",
    "# scale_1 = 2\n",
    "#osc.write(f'CH1:SCALE {scale_1}')\n",
    "#osc.write(\"TRIGGER:MAIN SetLevel\")\n",
    "\n",
    "# Diccionario para guardar las mediciones\n",
    "dic = {}\n",
    "\n",
    "# time.sleep(?)\n",
    "t_sleep = 10\n",
    "\n",
    "for i, amp in tqdm(enumerate(amp_values)):\n",
    "    print(\"ESTA ES LA AMPLITUD\", amp)\n",
    "    # Cambiamos la amplitud de la señal\n",
    "    func.write(f\"AMPL {amp} VP\") # En formato \"AMP {valor_amplitud} {unidad, ej: VP:VPP, VR:VRMS}\"\n",
    "#     print(f\"La amplitud cambio a {amp} Vpp\")\n",
    "    \n",
    "    # Cambiamos el trigger al valor medio de la señal del canal 1, que es una onda cuadrada\n",
    "    osc.write(\"TRIGGER:MAIN SetLevel\")\n",
    "    time.sleep(t_sleep)\n",
    "    \n",
    "    # Usamos los valores de la anterior medición para cambiar la escala y la posición vertical de la siguiente\n",
    "    if i >= 1:\n",
    "        # Cambiamos la posicion vertical de los canales\n",
    "        for ch in [1,2]:\n",
    "            if ch == 1:\n",
    "                scale = scale_1\n",
    "                # Agregamos una corrección para que el canal 1 quede centrado\n",
    "                correc_canal = 0.5\n",
    "            else:\n",
    "#                 # Cambiamos la escala del canal 2\n",
    "#                 maximo = max(dic[f\"{offs_values[i-1]}V\"][f\"V_2\"])\n",
    "#                 minimo = min(dic[f\"{offs_values[i-1]}V\"][f\"V_2\"])\n",
    "#                 # Determinamos la amplitud de la cuadrada\n",
    "#                 amp = maximo-minimo\n",
    "#                 # Calculamos la escala y la cambiamos\n",
    "#                 scale = (2*amp/2)-(2*amp/2)%0.005\n",
    "#                 if scale != 0:\n",
    "#                     osc.write(f'CH2:SCALE {scale}')\n",
    "                scale = 0.1 # 50 mV\n",
    "                # Agregamos una corrección que no afecta al canal 2\n",
    "                correc_canal = 0\n",
    "                \n",
    "                \n",
    "            # Cambiamos la posición vertical de las señales\n",
    "            offset_anterior = np.mean(dic[f\"{offs_values[i-1]}V\"][f\"V_{ch}\"])\n",
    "            correccion_posicion = -(offset_anterior-offset_anterior%0.005) - correc_canal\n",
    "            # La posición se selecciona eligiendo los cuadrados del osciloscopio\n",
    "            osc.write(f\"CH{ch}:POSition {correccion_posicion/scale}\")\n",
    "        \n",
    "    time.sleep(t_sleep)\n",
    "    # Tomamos mediciones de los canales (canal 1 = fotodiodo, canal 2 = corriente)\n",
    "    t_1, v_1 = medir_canal(osc,1)\n",
    "    t_2, v_2 = medir_canal(osc,2)\n",
    "    \n",
    "    # Evitamos medir tensiones positivas, ya que sabemos que el \n",
    "    if np.mean(v_2) > 0:\n",
    "        print(\"Medí positivo\")\n",
    "    #    break\n",
    "    \n",
    "    # Guardamos los datos\n",
    "    dic[f\"{amp}V\"] = {\"t_1\":t_1, \"V_1\":v_1, \"t_2\":t_2, \"V_2\": v_2}"
   ]
  },
  {
   "cell_type": "code",
   "execution_count": null,
   "metadata": {},
   "outputs": [],
   "source": []
  }
 ],
 "metadata": {
  "colab": {
   "provenance": []
  },
  "kernelspec": {
   "display_name": "Python 3 (ipykernel)",
   "language": "python",
   "name": "python3"
  },
  "language_info": {
   "codemirror_mode": {
    "name": "ipython",
    "version": 3
   },
   "file_extension": ".py",
   "mimetype": "text/x-python",
   "name": "python",
   "nbconvert_exporter": "python",
   "pygments_lexer": "ipython3",
   "version": "3.9.12"
  }
 },
 "nbformat": 4,
 "nbformat_minor": 1
}
