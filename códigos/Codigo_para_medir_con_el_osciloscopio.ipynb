{
 "cells": [
  {
   "cell_type": "code",
   "execution_count": 1,
   "metadata": {
    "id": "bkmKSZrQlAjt"
   },
   "outputs": [],
   "source": [
    "import time\n",
    "from matplotlib import pyplot as plt\n",
    "import numpy as np\n",
    "import pyvisa as visa\n",
    "import pickle\n",
    "from tqdm import tqdm\n",
    "from mcculw import ul\n",
    "import nidaqmx\n",
    "from typing import Tuple\n",
    "import datetime\n",
    "import pandas as pd"
   ]
  },
  {
   "cell_type": "code",
   "execution_count": 2,
   "metadata": {},
   "outputs": [],
   "source": [
    "np.set_printoptions(threshold=8)\n",
    "\n",
    "def set_osc_acq(osc):\n",
    "    # Configuración de la adquisición de curvas\n",
    "    osc.write('DAT:ENC RPB')\n",
    "    osc.write('DAT:WID 1')\n",
    "    osc.write('DAT:STAR 1')\n",
    "    osc.write('DAT:STOP 2500')\n",
    "    osc.write('ACQ:MOD SAMP')\n",
    "\n",
    "def parse_parameters(wfmp_params):\n",
    "    \"\"\"Parsea la información de configuración de las escalas y las almacena en un diccionario.\n",
    "    Para después simplificar el gráfico de la curva.\"\"\"\n",
    "    result = {}\n",
    "    header_def = [('BYT_Nr', int),\n",
    "              ('BiT_Nr', int),\n",
    "              ('ENCdg', str),\n",
    "              ('BN_Fmt', str),\n",
    "              ('BYT_Or', str)]\n",
    "    wfrm1_def = [('WFID', str),\n",
    "             ('NR_PT', int),\n",
    "             ('PT_FMT', str),\n",
    "             ('XUNIT', str),\n",
    "             ('XINCR', float),\n",
    "             ('PT_Off', int),\n",
    "             ('YUNIT', str),\n",
    "             ('YMULT', float),\n",
    "             ('YOFf', float),\n",
    "             ('YZEro', float)]\n",
    "\n",
    "    full_def = header_def + [(f'wfm1:{k}', c) for k, c in wfrm1_def] \\\n",
    "           + [(f'wfm2:{k}', c) for k, c in wfrm1_def] \\\n",
    "           + [(f'wfm3:{k}', c) for k, c in wfrm1_def] \\\n",
    "           + [(f'wfm4:{k}', c) for k, c in wfrm1_def]\n",
    "    for (key, conversor), param in zip(full_def, wfmp_params.split(';')):\n",
    "        result[key] = conversor(param)\n",
    "    return result\n",
    "\n",
    "def escalar_curva(data, parametros):\n",
    "    \"\"\"Devuelve el par de vectores (t, v) a partir de la curva levantada del osciloscopio\n",
    "    y los parámetros de escala del mismo. El eje temporal está en ms y el vertical en Volts/\"\"\"\n",
    "    n = len(data)\n",
    "    t = 1e3 * (np.arange(n) - parametros['wfm1:PT_Off']) * parametros['wfm1:XINCR']\n",
    "\n",
    "    v = (data - parametros['wfm1:YOFf']) * parametros['wfm1:YMULT'] \\\n",
    "                    + parametros['wfm1:YZEro']\n",
    "    return t, v\n",
    "\n",
    "\n",
    "# Definimos una función para obtener los datos de uno de los canales del osciloscopio\n",
    "def medir_canal(osc, channel):\n",
    "    osc.write(f'DAT:SOU CH{channel}') # Adquirimos del canal \n",
    "    # La lectura se puede hacer en modo binario, lo que la hace más eficiente\n",
    "    conf_parameters = parse_parameters(osc.query('WFMP?'))\n",
    "    data = osc.query_binary_values('CURV?', datatype='B', container=np.array)\n",
    "    \n",
    "    # Escalamos los valores con las unidades correctas\n",
    "    t, v = escalar_curva(data, conf_parameters)\n",
    "    return t, v"
   ]
  },
  {
   "cell_type": "code",
   "execution_count": 3,
   "metadata": {
    "colab": {
     "base_uri": "https://localhost:8080/",
     "height": 235
    },
    "id": "AqZtzpX0Zj8F",
    "outputId": "c019be2a-9c49-4339-b640-da2de6d26f12"
   },
   "outputs": [
    {
     "name": "stdout",
     "output_type": "stream",
     "text": [
      "('GPIB0::1::INSTR', 'GPIB0::7::INSTR')\n"
     ]
    }
   ],
   "source": [
    "#%%\n",
    "# inicializo comunicacion con equipos\n",
    "rm = visa.ResourceManager()\n",
    "\n",
    "# lista de dispositivos conectados, para ver las id de los equipos\n",
    "print(rm.list_resources())"
   ]
  },
  {
   "cell_type": "code",
   "execution_count": 4,
   "metadata": {
    "id": "k161eqqP2K5g"
   },
   "outputs": [
    {
     "name": "stdout",
     "output_type": "stream",
     "text": [
      "MAIN;1000;5.3E1;1.0E-1;50;1.0E-1;RUNSAFTER;2.5E-9;1.0065E-6;LOCK;LOCK;0\n",
      "\n"
     ]
    }
   ],
   "source": [
    "# Abrimos el recurso de VISA, en este caso es un osciloscopio\n",
    "osc = rm.open_resource('GPIB0::7::INSTR')\n",
    "\n",
    "print(osc.query(\"HOR?\"))\n",
    "set_osc_acq(osc)\n",
    "\n",
    "func = rm.open_resource(\"GPIB0::1::INSTR\")"
   ]
  },
  {
   "cell_type": "code",
   "execution_count": 5,
   "metadata": {},
   "outputs": [],
   "source": [
    "def guardar_dict(dic: dict, path: str) -> None:\n",
    "    # Guardamos los datos en un .pickle\n",
    "    pickle.dump(dic, open(f'{path}.pickle', 'wb'))\n",
    "    return\n",
    "    \n",
    "def barrido(func_init_param: dict, \n",
    "            param_tuple: tuple, \n",
    "            rango: np.ndarray,\n",
    "            scale_change = False) -> dict:\n",
    "\n",
    "    # Ponemos los parámetros iniciales del generador de funciones\n",
    "    for param, value in zip(func_init_param.keys(), func_init_param.values()):\n",
    "        if param == \"AMPL\":\n",
    "            func.write(f\"{param} {value} VP\")\n",
    "        else:\n",
    "            func.write(f\"{param} {value}\")\n",
    "\n",
    "    # Creamos un diccionario para guardar las mediciones que tomamos\n",
    "    dic = {}\n",
    "    # Parámetro y unidad de lo que se barre\n",
    "    param = param_tuple[0]\n",
    "    unit = param_tuple[1]\n",
    "\n",
    "    for i, value in tqdm(enumerate(rango)):\n",
    "        # Cambiamos la amplitud de la señal en voltaje pico a pico\n",
    "        func.write(f\"{param} {value} VP\")\n",
    "        print(f\"{param} cambio a {value} {unit}\")\n",
    "        \n",
    "        # Cambiamos el trigger al valor medio de la señal del canal 1, que es una onda cuadrada\n",
    "        osc.write(\"TRIGGER:MAIN SetLevel\")\n",
    "        time.sleep(4)\n",
    "        \n",
    "        if scale_change:\n",
    "            # Usamos los valores de la anterior medición para cambiar la escala y la posición vertical de la siguiente\n",
    "            if i >= 1:\n",
    "                print(1)\n",
    "                # Cambiamos la posicion vertical de los canales\n",
    "                #for ch in [1,2]:\n",
    "                    #if ch == 1:\n",
    "                # Cambiamos la escala del canal 1\n",
    "                #scale = (2*amp/2)-(2*amp/2)%0.005\n",
    "                #osc.write(f'CH1:SCALE {scale}')\n",
    "                #osc.write(\"TRIGGER:MAIN SetLevel\")\n",
    "                # Cambiamos la posición vertical de las señales\n",
    "                # La posición se selecciona eligiendo los cuadrados del osciloscopio\n",
    "                #osc.write(f\"CH1:POSition {correccion_posicion/scale}\")\n",
    "                        \n",
    "                    #else:\n",
    "                    #  scale = 0.05 # 50 mV\n",
    "        \n",
    "    # Tomamos mediciones de los canales\n",
    "    t_1, v_1 = medir_canal(osc,1)\n",
    "    t_2, v_2 = medir_canal(osc,2)\n",
    "    \n",
    "    # Guardamos los datos\n",
    "    dic[f\"{value}{unit}\"] = {\"t_1\":t_1, \"V_1\":v_1, \"t_2\":t_2, \"V_2\": v_2}\n",
    "    \n",
    "    return dic"
   ]
  },
  {
   "cell_type": "code",
   "execution_count": 26,
   "metadata": {},
   "outputs": [
    {
     "name": "stderr",
     "output_type": "stream",
     "text": [
      "0it [00:00, ?it/s]"
     ]
    },
    {
     "name": "stdout",
     "output_type": "stream",
     "text": [
      "OFFS cambio a 0 V\n"
     ]
    },
    {
     "name": "stderr",
     "output_type": "stream",
     "text": [
      "1it [00:04,  4.01s/it]\n"
     ]
    }
   ],
   "source": [
    "func_init_param = {\"OFFS\" : -2, \"FREQ\": 0, \"AMPL\" : 0, \"FUNC\": 0}\n",
    "\n",
    "magnitud = (\"OFFS\", \"V\")\n",
    "\n",
    "rango = [0]\n",
    "\n",
    "dic = barrido(func_init_param, magnitud, rango)"
   ]
  },
  {
   "attachments": {},
   "cell_type": "markdown",
   "metadata": {},
   "source": [
    "# Celda para modificar directamente atributos del generador de funciones"
   ]
  },
  {
   "cell_type": "code",
   "execution_count": 7,
   "metadata": {},
   "outputs": [
    {
     "data": {
      "text/plain": [
       "12"
      ]
     },
     "execution_count": 7,
     "metadata": {},
     "output_type": "execute_result"
    }
   ],
   "source": [
    "# Para enviar una cuadrada es 1, 0 para sinusoidal\n",
    "func.write(\"FUNC 0\")\n",
    "# Amplitud de la señal\n",
    "func.write(\"AMPL 0 VP\") # En formato \"AMP {valor_amplitud} {unidad, ej: VP:VPP, VR:VRMS}\"\n",
    "# Offset de la señal\n",
    "func.write(\"OFFS 1.5\")\n",
    "# Frecuencia de la señal \n",
    "func.write(\"FREQ 10000\")\n",
    "# escala temporal\n",
    "#osc.write(f'HOR:SCA 0.005')"
   ]
  },
  {
   "attachments": {},
   "cell_type": "markdown",
   "metadata": {},
   "source": [
    "# Medición única"
   ]
  },
  {
   "cell_type": "code",
   "execution_count": 12,
   "metadata": {},
   "outputs": [
    {
     "data": {
      "text/plain": [
       "11"
      ]
     },
     "execution_count": 12,
     "metadata": {},
     "output_type": "execute_result"
    }
   ],
   "source": [
    "# Parámetros\n",
    "amp = 0\n",
    "freq = 1000\n",
    "offset = 2\n",
    "\n",
    "# Amplitud de la señal\n",
    "func.write(f\"AMPL {amp} VP\") # En formato \"AMP {valor_amplitud} {unidad, ej: VP:VPP, VR:VRMS}\"\n",
    "# Offset de la señal\n",
    "func.write(f\"OFFS {offset}\")\n",
    "# Frecuencia de la señal\n",
    "func.write(f\"FREQ {freq}\")\n",
    "\n",
    "# Escala de tiempo del osciloscopio\n",
    "#osc.write(f'HOR:SCA 0.0000025')"
   ]
  },
  {
   "cell_type": "code",
   "execution_count": 24,
   "metadata": {},
   "outputs": [
    {
     "ename": "NameError",
     "evalue": "name 'pd' is not defined",
     "output_type": "error",
     "traceback": [
      "\u001b[1;31m---------------------------------------------------------------------------\u001b[0m",
      "\u001b[1;31mNameError\u001b[0m                                 Traceback (most recent call last)",
      "Cell \u001b[1;32mIn[24], line 10\u001b[0m\n\u001b[0;32m      6\u001b[0m dic[\u001b[39mf\u001b[39m\u001b[39m\"\u001b[39m\u001b[39m{\u001b[39;00moffset\u001b[39m}\u001b[39;00m\u001b[39mV\u001b[39m\u001b[39m\"\u001b[39m] \u001b[39m=\u001b[39m {\u001b[39m\"\u001b[39m\u001b[39mt_1\u001b[39m\u001b[39m\"\u001b[39m:t_1, \u001b[39m\"\u001b[39m\u001b[39mV_1\u001b[39m\u001b[39m\"\u001b[39m:v_1, \u001b[39m\"\u001b[39m\u001b[39mt_2\u001b[39m\u001b[39m\"\u001b[39m:t_2, \u001b[39m\"\u001b[39m\u001b[39mV_2\u001b[39m\u001b[39m\"\u001b[39m: v_2}\n\u001b[0;32m      8\u001b[0m \u001b[39m# Guardamos en un csv\u001b[39;00m\n\u001b[1;32m---> 10\u001b[0m df \u001b[39m=\u001b[39m pd\u001b[39m.\u001b[39mDataFrame()\n\u001b[0;32m     11\u001b[0m lista \u001b[39m=\u001b[39m [t_1, v_1, t_2, v_2]\n\u001b[0;32m     13\u001b[0m df[\u001b[39m\"\u001b[39m\u001b[39mt_1\u001b[39m\u001b[39m\"\u001b[39m] \u001b[39m=\u001b[39m t_1\n",
      "\u001b[1;31mNameError\u001b[0m: name 'pd' is not defined"
     ]
    }
   ],
   "source": [
    "t_1, v_1 = medir_canal(osc,1)\n",
    "t_2, v_2 = medir_canal(osc,2)\n",
    "\n",
    "# Guardamos los datos para pickle\n",
    "dic = {}\n",
    "dic[f\"{offset}V\"] = {\"t_1\":t_1, \"V_1\":v_1, \"t_2\":t_2, \"V_2\": v_2}"
   ]
  },
  {
   "cell_type": "code",
   "execution_count": 145,
   "metadata": {},
   "outputs": [
    {
     "data": {
      "image/png": "[encoded data removed]",
      "text/plain": [
       "<Figure size 640x480 with 1 Axes>"
      ]
     },
     "metadata": {},
     "output_type": "display_data"
    }
   ],
   "source": [
    "plt.plot(dic[f\"{offset}V\"][\"t_1\"],dic[f\"{offset}V\"][\"V_1\"])\n",
    "plt.plot(dic[f\"{offset}V\"][\"t_2\"],dic[f\"{offset}V\"][\"V_2\"])\n",
    "plt.grid()\n",
    "plt.show()"
   ]
  },
  {
   "cell_type": "code",
   "execution_count": 147,
   "metadata": {},
   "outputs": [],
   "source": [
    "# Guardamos los datos en un .pickle\n",
    "pickle.dump(dic, open(f'../mediciones/D.D/Tiempo de respuesta del laser/T_rta {freq} kHz {amp} Amp {offset} OFFS 10 us.pickle', 'wb'))"
   ]
  },
  {
   "cell_type": "markdown",
   "metadata": {},
   "source": [
    "# Medición en el tiempo"
   ]
  },
  {
   "cell_type": "code",
   "execution_count": 13,
   "metadata": {},
   "outputs": [
    {
     "data": {
      "text/plain": [
       "8"
      ]
     },
     "execution_count": 13,
     "metadata": {},
     "output_type": "execute_result"
    }
   ],
   "source": [
    "# Parámetros\n",
    "amp = 0\n",
    "freq = 0\n",
    "offset = 1.4\n",
    "\n",
    "# Amplitud de la señal\n",
    "func.write(f\"AMPL {amp} VP\") # En formato \"AMP {valor_amplitud} {unidad, ej: VP:VPP, VR:VRMS}\"\n",
    "# Offset de la señal\n",
    "func.write(f\"OFFS {offset}\")\n",
    "# Frecuencia de la señal\n",
    "func.write(f\"FREQ {freq}\")\n",
    "\n",
    "# Escala de tiempo del osciloscopio\n",
    "# osc.write(f'HOR:SCA 0.1')"
   ]
  },
  {
   "cell_type": "code",
   "execution_count": 14,
   "metadata": {},
   "outputs": [
    {
     "name": "stderr",
     "output_type": "stream",
     "text": [
      "C:\\Users\\nicof\\AppData\\Local\\Temp\\ipykernel_4076\\288219888.py:3: ResourceWarning: unclosed file <_io.BufferedWriter name='../mediciones/D.D/Medicion laser continua/R = 50/con polarizador 1.4 V.pickle'>\n",
      "  pickle.dump(dic, open(f'{path}.pickle', 'wb'))\n",
      "ResourceWarning: Enable tracemalloc to get the object allocation traceback\n",
      "C:\\Users\\nicof\\AppData\\Local\\Temp\\ipykernel_4076\\288219888.py:3: ResourceWarning: unclosed file <_io.BufferedWriter name='../mediciones/D.D/Medicion laser continua/R = 50/con polarizador 1.5999999999999999 V.pickle'>\n",
      "  pickle.dump(dic, open(f'{path}.pickle', 'wb'))\n",
      "ResourceWarning: Enable tracemalloc to get the object allocation traceback\n",
      "C:\\Users\\nicof\\AppData\\Local\\Temp\\ipykernel_4076\\288219888.py:3: ResourceWarning: unclosed file <_io.BufferedWriter name='../mediciones/D.D/Medicion laser continua/R = 50/con polarizador 1.7999999999999998 V.pickle'>\n",
      "  pickle.dump(dic, open(f'{path}.pickle', 'wb'))\n",
      "ResourceWarning: Enable tracemalloc to get the object allocation traceback\n"
     ]
    },
    {
     "ename": "KeyboardInterrupt",
     "evalue": "",
     "output_type": "error",
     "traceback": [
      "\u001b[1;31m---------------------------------------------------------------------------\u001b[0m",
      "\u001b[1;31mKeyboardInterrupt\u001b[0m                         Traceback (most recent call last)",
      "Cell \u001b[1;32mIn[14], line 24\u001b[0m\n\u001b[0;32m     21\u001b[0m t_i \u001b[39m=\u001b[39m time\u001b[39m.\u001b[39mtime()\u001b[39m-\u001b[39mt0 \u001b[39m# Inicio de la medición\u001b[39;00m\n\u001b[0;32m     23\u001b[0m t_1, v_1 \u001b[39m=\u001b[39m medir_canal(osc,\u001b[39m1\u001b[39m)\n\u001b[1;32m---> 24\u001b[0m t_2, v_2 \u001b[39m=\u001b[39m medir_canal(osc,\u001b[39m2\u001b[39;49m)\n\u001b[0;32m     26\u001b[0m \u001b[39m# dic[\"t_1\"] += t_1\u001b[39;00m\n\u001b[0;32m     27\u001b[0m \u001b[39m# dic[\"V_1\"] += v_1\u001b[39;00m\n\u001b[0;32m     28\u001b[0m \u001b[39m# dic[\"t_2\"] += t_2\u001b[39;00m\n\u001b[0;32m     29\u001b[0m \u001b[39m# dic[\"V_2\"] += v_2\u001b[39;00m\n\u001b[0;32m     31\u001b[0m t_f \u001b[39m=\u001b[39m time\u001b[39m.\u001b[39mtime()\u001b[39m-\u001b[39mt0 \u001b[39m# Final de la medición\u001b[39;00m\n",
      "Cell \u001b[1;32mIn[2], line 54\u001b[0m, in \u001b[0;36mmedir_canal\u001b[1;34m(osc, channel)\u001b[0m\n\u001b[0;32m     52\u001b[0m osc\u001b[39m.\u001b[39mwrite(\u001b[39mf\u001b[39m\u001b[39m'\u001b[39m\u001b[39mDAT:SOU CH\u001b[39m\u001b[39m{\u001b[39;00mchannel\u001b[39m}\u001b[39;00m\u001b[39m'\u001b[39m) \u001b[39m# Adquirimos del canal \u001b[39;00m\n\u001b[0;32m     53\u001b[0m \u001b[39m# La lectura se puede hacer en modo binario, lo que la hace más eficiente\u001b[39;00m\n\u001b[1;32m---> 54\u001b[0m conf_parameters \u001b[39m=\u001b[39m parse_parameters(osc\u001b[39m.\u001b[39;49mquery(\u001b[39m'\u001b[39;49m\u001b[39mWFMP?\u001b[39;49m\u001b[39m'\u001b[39;49m))\n\u001b[0;32m     55\u001b[0m data \u001b[39m=\u001b[39m osc\u001b[39m.\u001b[39mquery_binary_values(\u001b[39m'\u001b[39m\u001b[39mCURV?\u001b[39m\u001b[39m'\u001b[39m, datatype\u001b[39m=\u001b[39m\u001b[39m'\u001b[39m\u001b[39mB\u001b[39m\u001b[39m'\u001b[39m, container\u001b[39m=\u001b[39mnp\u001b[39m.\u001b[39marray)\n\u001b[0;32m     57\u001b[0m \u001b[39m# Escalamos los valores con las unidades correctas\u001b[39;00m\n",
      "File \u001b[1;32mc:\\Users\\nicof\\anaconda3\\lib\\site-packages\\pyvisa\\resources\\messagebased.py:648\u001b[0m, in \u001b[0;36mMessageBasedResource.query\u001b[1;34m(self, message, delay)\u001b[0m\n\u001b[0;32m    645\u001b[0m \u001b[39mif\u001b[39;00m delay \u001b[39m>\u001b[39m \u001b[39m0.0\u001b[39m:\n\u001b[0;32m    646\u001b[0m     time\u001b[39m.\u001b[39msleep(delay)\n\u001b[1;32m--> 648\u001b[0m \u001b[39mreturn\u001b[39;00m \u001b[39mself\u001b[39;49m\u001b[39m.\u001b[39;49mread()\n",
      "File \u001b[1;32mc:\\Users\\nicof\\anaconda3\\lib\\site-packages\\pyvisa\\resources\\messagebased.py:486\u001b[0m, in \u001b[0;36mMessageBasedResource.read\u001b[1;34m(self, termination, encoding)\u001b[0m\n\u001b[0;32m    484\u001b[0m \u001b[39mif\u001b[39;00m termination \u001b[39mis\u001b[39;00m \u001b[39mNone\u001b[39;00m:\n\u001b[0;32m    485\u001b[0m     termination \u001b[39m=\u001b[39m \u001b[39mself\u001b[39m\u001b[39m.\u001b[39m_read_termination\n\u001b[1;32m--> 486\u001b[0m     message \u001b[39m=\u001b[39m \u001b[39mself\u001b[39;49m\u001b[39m.\u001b[39;49m_read_raw()\u001b[39m.\u001b[39mdecode(enco)\n\u001b[0;32m    487\u001b[0m \u001b[39melse\u001b[39;00m:\n\u001b[0;32m    488\u001b[0m     \u001b[39mwith\u001b[39;00m \u001b[39mself\u001b[39m\u001b[39m.\u001b[39mread_termination_context(termination):\n",
      "File \u001b[1;32mc:\\Users\\nicof\\anaconda3\\lib\\site-packages\\pyvisa\\resources\\messagebased.py:442\u001b[0m, in \u001b[0;36mMessageBasedResource._read_raw\u001b[1;34m(self, size)\u001b[0m\n\u001b[0;32m    435\u001b[0m     \u001b[39mwhile\u001b[39;00m status \u001b[39m==\u001b[39m loop_status:\n\u001b[0;32m    436\u001b[0m         logger\u001b[39m.\u001b[39mdebug(\n\u001b[0;32m    437\u001b[0m             \u001b[39m\"\u001b[39m\u001b[39m%s\u001b[39;00m\u001b[39m - reading \u001b[39m\u001b[39m%d\u001b[39;00m\u001b[39m bytes (last status \u001b[39m\u001b[39m%r\u001b[39;00m\u001b[39m)\u001b[39m\u001b[39m\"\u001b[39m,\n\u001b[0;32m    438\u001b[0m             \u001b[39mself\u001b[39m\u001b[39m.\u001b[39m_resource_name,\n\u001b[0;32m    439\u001b[0m             size,\n\u001b[0;32m    440\u001b[0m             status,\n\u001b[0;32m    441\u001b[0m         )\n\u001b[1;32m--> 442\u001b[0m         chunk, status \u001b[39m=\u001b[39m \u001b[39mself\u001b[39;49m\u001b[39m.\u001b[39;49mvisalib\u001b[39m.\u001b[39;49mread(\u001b[39mself\u001b[39;49m\u001b[39m.\u001b[39;49msession, size)\n\u001b[0;32m    443\u001b[0m         ret\u001b[39m.\u001b[39mextend(chunk)\n\u001b[0;32m    444\u001b[0m \u001b[39mexcept\u001b[39;00m errors\u001b[39m.\u001b[39mVisaIOError \u001b[39mas\u001b[39;00m e:\n",
      "File \u001b[1;32mc:\\Users\\nicof\\anaconda3\\lib\\site-packages\\pyvisa\\ctwrapper\\functions.py:2337\u001b[0m, in \u001b[0;36mread\u001b[1;34m(library, session, count)\u001b[0m\n\u001b[0;32m   2335\u001b[0m buffer \u001b[39m=\u001b[39m create_string_buffer(count)\n\u001b[0;32m   2336\u001b[0m return_count \u001b[39m=\u001b[39m ViUInt32()\n\u001b[1;32m-> 2337\u001b[0m ret \u001b[39m=\u001b[39m library\u001b[39m.\u001b[39;49mviRead(session, buffer, count, byref(return_count))\n\u001b[0;32m   2338\u001b[0m \u001b[39mreturn\u001b[39;00m buffer\u001b[39m.\u001b[39mraw[: return_count\u001b[39m.\u001b[39mvalue], ret\n",
      "File \u001b[1;32mc:\\Users\\nicof\\anaconda3\\lib\\site-packages\\pyvisa\\ctwrapper\\highlevel.py:184\u001b[0m, in \u001b[0;36mIVIVisaLibrary._return_handler\u001b[1;34m(self, ret_value, func, arguments)\u001b[0m\n\u001b[0;32m    181\u001b[0m     \u001b[39mfor\u001b[39;00m method_name \u001b[39min\u001b[39;00m \u001b[39mgetattr\u001b[39m(\u001b[39mself\u001b[39m\u001b[39m.\u001b[39mlib, \u001b[39m\"\u001b[39m\u001b[39m_functions\u001b[39m\u001b[39m\"\u001b[39m, []):\n\u001b[0;32m    182\u001b[0m         \u001b[39msetattr\u001b[39m(\u001b[39mself\u001b[39m, method_name, \u001b[39mgetattr\u001b[39m(\u001b[39mself\u001b[39m\u001b[39m.\u001b[39mlib, method_name))\n\u001b[1;32m--> 184\u001b[0m \u001b[39mdef\u001b[39;00m \u001b[39m_return_handler\u001b[39m(\u001b[39mself\u001b[39m, ret_value: \u001b[39mint\u001b[39m, func: Callable, arguments: \u001b[39mtuple\u001b[39m) \u001b[39m-\u001b[39m\u001b[39m>\u001b[39m Any:\n\u001b[0;32m    185\u001b[0m \u001b[39m    \u001b[39m\u001b[39m\"\"\"Check return values for errors and warnings.\"\"\"\u001b[39;00m\n\u001b[0;32m    186\u001b[0m     logger\u001b[39m.\u001b[39mdebug(\n\u001b[0;32m    187\u001b[0m         \u001b[39m\"\u001b[39m\u001b[39m%s\u001b[39;00m\u001b[39m%s\u001b[39;00m\u001b[39m -> \u001b[39m\u001b[39m%r\u001b[39;00m\u001b[39m\"\u001b[39m,\n\u001b[0;32m    188\u001b[0m         func\u001b[39m.\u001b[39m\u001b[39m__name__\u001b[39m,\n\u001b[1;32m   (...)\u001b[0m\n\u001b[0;32m    191\u001b[0m         extra\u001b[39m=\u001b[39m\u001b[39mself\u001b[39m\u001b[39m.\u001b[39m_logging_extra,\n\u001b[0;32m    192\u001b[0m     )\n",
      "\u001b[1;31mKeyboardInterrupt\u001b[0m: "
     ]
    }
   ],
   "source": [
    "t_scale = float(osc.query(f'HOR:SCA?')[:-1])\n",
    "\n",
    "offsets = np.arange(1.4,2.4, 0.2)\n",
    "\n",
    "keys = [\"t_1\", \"t_2\", \"V_1\", \"V_2\"]\n",
    "# Guardamos los datos para pickle\n",
    "\n",
    "dic = {}\n",
    "\n",
    "for offset in offsets:\n",
    "    # Offset de la señal\n",
    "    func.write(f\"OFFS {offset}\")\n",
    "    time.sleep(5)\n",
    "    params = {\"offset\": offset, \"t_scale\": t_scale}\n",
    "    dic[\"params\"] = params\n",
    "\n",
    "    t0 = time.time()\n",
    "\n",
    "    for i in range(23): # Cada medición dura 2.7 s así que 23 mediciones son casi 1 minuto\n",
    "        \n",
    "        t_i = time.time()-t0 # Inicio de la medición\n",
    "        \n",
    "        t_1, v_1 = medir_canal(osc,1)\n",
    "        t_2, v_2 = medir_canal(osc,2)\n",
    "\n",
    "        # dic[\"t_1\"] += t_1\n",
    "        # dic[\"V_1\"] += v_1\n",
    "        # dic[\"t_2\"] += t_2\n",
    "        # dic[\"V_2\"] += v_2\n",
    "        \n",
    "        t_f = time.time()-t0 # Final de la medición\n",
    "        dic[i] = {\"t_1\":t_1, \"V_1\":v_1, \"t_2\":t_2, \"V_2\": v_2, \"tupla_t\" : (t_i, t_f)}\n",
    "        \n",
    "        time.sleep(2)\n",
    "    \n",
    "    path = f'../mediciones/D.D/Medicion laser continua/R = 50/con polarizador {offset} V'\n",
    "    guardar_dict(dic, path)"
   ]
  },
  {
   "cell_type": "code",
   "execution_count": 164,
   "metadata": {},
   "outputs": [
    {
     "data": {
      "text/plain": [
       "8"
      ]
     },
     "execution_count": 164,
     "metadata": {},
     "output_type": "execute_result"
    }
   ],
   "source": [
    "offset = 1\n",
    "func.write(f\"OFFS {offset}\")"
   ]
  },
  {
   "cell_type": "code",
   "execution_count": 171,
   "metadata": {},
   "outputs": [],
   "source": [
    "offset = 1\n",
    "func.write(f\"OFFS {offset}\")\n",
    "time.sleep(2)\n",
    "t_1, v_1 = medir_canal(osc,1)\n",
    "t_2, v_2 = medir_canal(osc,2)\n",
    "offset = 2\n",
    "func.write(f\"OFFS {offset}\")\n",
    "time.sleep(2)\n",
    "t_1, v_1 = medir_canal(osc,1)\n",
    "t_2, v_2 = medir_canal(osc,2)\n"
   ]
  },
  {
   "cell_type": "code",
   "execution_count": 139,
   "metadata": {},
   "outputs": [
    {
     "data": {
      "text/plain": [
       "[<matplotlib.lines.Line2D at 0x1ffeac4c4f0>]"
      ]
     },
     "execution_count": 139,
     "metadata": {},
     "output_type": "execute_result"
    },
    {
     "data": {
      "image/png": "[encoded data removed]",
      "text/plain": [
       "<Figure size 640x480 with 1 Axes>"
      ]
     },
     "metadata": {},
     "output_type": "display_data"
    }
   ],
   "source": [
    "plt.plot(dic[20][\"t_1\"], dic[20][\"V_1\"])"
   ]
  },
  {
   "attachments": {},
   "cell_type": "markdown",
   "metadata": {},
   "source": [
    "# Barrido en amplitud"
   ]
  },
  {
   "cell_type": "code",
   "execution_count": 18,
   "metadata": {
    "scrolled": true
   },
   "outputs": [
    {
     "name": "stderr",
     "output_type": "stream",
     "text": [
      "0it [00:00, ?it/s]"
     ]
    },
    {
     "name": "stdout",
     "output_type": "stream",
     "text": [
      "La amplitud cambio a 0.1 V\n"
     ]
    },
    {
     "name": "stderr",
     "output_type": "stream",
     "text": [
      "1it [00:07,  7.02s/it]"
     ]
    },
    {
     "name": "stdout",
     "output_type": "stream",
     "text": [
      "La amplitud cambio a 0.2 V\n"
     ]
    },
    {
     "name": "stderr",
     "output_type": "stream",
     "text": [
      "1it [00:11, 11.03s/it]\n"
     ]
    },
    {
     "ename": "NameError",
     "evalue": "name 'scale' is not defined",
     "output_type": "error",
     "traceback": [
      "\u001b[1;31m---------------------------------------------------------------------------\u001b[0m",
      "\u001b[1;31mNameError\u001b[0m                                 Traceback (most recent call last)",
      "Cell \u001b[1;32mIn[18], line 30\u001b[0m\n\u001b[0;32m     19\u001b[0m \u001b[39m# Usamos los valores de la anterior medición para cambiar la escala y la posición vertical de la siguiente\u001b[39;00m\n\u001b[0;32m     20\u001b[0m \u001b[39mif\u001b[39;00m i \u001b[39m>\u001b[39m\u001b[39m=\u001b[39m \u001b[39m1\u001b[39m:\n\u001b[0;32m     21\u001b[0m     \u001b[39m# Cambiamos la posicion vertical de los canales\u001b[39;00m\n\u001b[0;32m     22\u001b[0m     \u001b[39m#for ch in [1,2]:\u001b[39;00m\n\u001b[1;32m   (...)\u001b[0m\n\u001b[0;32m     28\u001b[0m     \u001b[39m# Cambiamos la posición vertical de las señales\u001b[39;00m\n\u001b[0;32m     29\u001b[0m     \u001b[39m# La posición se selecciona eligiendo los cuadrados del osciloscopio\u001b[39;00m\n\u001b[1;32m---> 30\u001b[0m     osc\u001b[39m.\u001b[39mwrite(\u001b[39mf\u001b[39m\u001b[39m\"\u001b[39m\u001b[39mCH1:POSition \u001b[39m\u001b[39m{\u001b[39;00mcorreccion_posicion\u001b[39m/\u001b[39mscale\u001b[39m}\u001b[39;00m\u001b[39m\"\u001b[39m)\n\u001b[0;32m     32\u001b[0m         \u001b[39m#else:\u001b[39;00m\n\u001b[0;32m     33\u001b[0m           \u001b[39m#  scale = 0.05 # 50 mV\u001b[39;00m\n\u001b[0;32m     34\u001b[0m     \n\u001b[0;32m     35\u001b[0m \u001b[39m# Tomamos mediciones de los canales\u001b[39;00m\n\u001b[0;32m     36\u001b[0m t_1, v_1 \u001b[39m=\u001b[39m medir_canal(osc,\u001b[39m1\u001b[39m)\n",
      "\u001b[1;31mNameError\u001b[0m: name 'scale' is not defined"
     ]
    }
   ],
   "source": [
    "# Offset de la señal\n",
    "offset = -2\n",
    "correccion_posicion = -2*offset\n",
    "func.write(f\"OFFS {offset}\")\n",
    "\n",
    "# Valores de amplitud que tomará la señal\n",
    "amp_values = np.linspace(0.1,2,20)\n",
    "# Creamos un diccionario para guardar las mediciones que tomamos\n",
    "dic = {}\n",
    "\n",
    "for i, amp in tqdm(enumerate(amp_values)):\n",
    "    # Cambiamos la amplitud de la señal en voltaje pico a pico\n",
    "    func.write(f\"AMPL {amp} VP\")\n",
    "    print(f\"La amplitud cambio a {amp} V\")\n",
    "    # Cambiamos el trigger al valor medio de la señal del canal 1, que es una onda cuadrada\n",
    "    osc.write(\"TRIGGER:MAIN SetLevel\")\n",
    "    time.sleep(4)\n",
    "    \n",
    "    # Usamos los valores de la anterior medición para cambiar la escala y la posición vertical de la siguiente\n",
    "    if i >= 1:\n",
    "        # Cambiamos la posicion vertical de los canales\n",
    "        #for ch in [1,2]:\n",
    "            #if ch == 1:\n",
    "        # Cambiamos la escala del canal 1\n",
    "        #scale = (2*amp/2)-(2*amp/2)%0.005\n",
    "        #osc.write(f'CH1:SCALE {scale}')\n",
    "        #osc.write(\"TRIGGER:MAIN SetLevel\")\n",
    "        # Cambiamos la posición vertical de las señales\n",
    "        # La posición se selecciona eligiendo los cuadrados del osciloscopio\n",
    "        #osc.write(f\"CH1:POSition {correccion_posicion/scale}\")\n",
    "                \n",
    "            #else:\n",
    "              #  scale = 0.05 # 50 mV\n",
    "        \n",
    "    # Tomamos mediciones de los canales\n",
    "    t_1, v_1 = medir_canal(osc,1)\n",
    "    t_2, v_2 = medir_canal(osc,2)\n",
    "    \n",
    "    # Evitamos medir tensiones positivas, ya que sabemos que el laser funciona con corr < 0\n",
    "    if np.mean(v_2) > 0:\n",
    "        print(\"Medí positivo\")\n",
    "    #    break\n",
    "    \n",
    "    # Guardamos los datos\n",
    "    dic[f\"{amp}V\"] = {\"t_1\":t_1, \"V_1\":v_1, \"t_2\":t_2, \"V_2\": v_2}\n"
   ]
  },
  {
   "cell_type": "code",
   "execution_count": 303,
   "metadata": {},
   "outputs": [],
   "source": [
    "# Guardamos los datos en un .pickle\n",
    "pickle.dump(dic, open(f'../mediciones/Barrido en amplitud a {offset} V de offset.pickle', 'wb'))"
   ]
  },
  {
   "attachments": {},
   "cell_type": "markdown",
   "metadata": {},
   "source": [
    "# Barrido en offset"
   ]
  },
  {
   "cell_type": "code",
   "execution_count": 48,
   "metadata": {},
   "outputs": [
    {
     "data": {
      "text/plain": [
       "23"
      ]
     },
     "execution_count": 48,
     "metadata": {},
     "output_type": "execute_result"
    }
   ],
   "source": [
    "func.write(f\"OFFS -1\")\n",
    "func.write(f\"AMPL 1 VP\")\n",
    "func.write(f\"FREQ 1000\")\n",
    "osc.write(\"TRIGGER:MAIN SetLevel\")"
   ]
  },
  {
   "cell_type": "code",
   "execution_count": 199,
   "metadata": {},
   "outputs": [
    {
     "data": {
      "text/plain": [
       "23"
      ]
     },
     "execution_count": 199,
     "metadata": {},
     "output_type": "execute_result"
    }
   ],
   "source": [
    "scale_1 = f'{(2*amp/2)-(2*amp/2)%0.005}'\n",
    "osc.write(f'CH1:SCALE {scale_1}')\n",
    "osc.write(\"TRIGGER:MAIN SetLevel\")"
   ]
  },
  {
   "cell_type": "code",
   "execution_count": 178,
   "metadata": {},
   "outputs": [
    {
     "data": {
      "text/plain": [
       "2.9473684210526314"
      ]
     },
     "execution_count": 178,
     "metadata": {},
     "output_type": "execute_result"
    }
   ],
   "source": [
    "\"En este encontramos que se rompe\"\n",
    "2.9473684210526314 "
   ]
  },
  {
   "cell_type": "code",
   "execution_count": 161,
   "metadata": {},
   "outputs": [
    {
     "name": "stderr",
     "output_type": "stream",
     "text": [
      "0it [00:00, ?it/s]"
     ]
    },
    {
     "name": "stdout",
     "output_type": "stream",
     "text": [
      "El offset cambio a 0.0 V\n"
     ]
    },
    {
     "name": "stderr",
     "output_type": "stream",
     "text": [
      "1it [00:12, 12.71s/it]"
     ]
    },
    {
     "name": "stdout",
     "output_type": "stream",
     "text": [
      "Medí positivo\n",
      "El offset cambio a 0.16842105263157894 V\n"
     ]
    },
    {
     "name": "stderr",
     "output_type": "stream",
     "text": [
      "1it [00:22, 22.73s/it]\n"
     ]
    },
    {
     "ename": "KeyboardInterrupt",
     "evalue": "",
     "output_type": "error",
     "traceback": [
      "\u001b[1;31m---------------------------------------------------------------------------\u001b[0m",
      "\u001b[1;31mKeyboardInterrupt\u001b[0m                         Traceback (most recent call last)",
      "Cell \u001b[1;32mIn[161], line 46\u001b[0m\n\u001b[0;32m     43\u001b[0m             \u001b[39m# La posición se selecciona eligiendo los cuadrados del osciloscopio\u001b[39;00m\n\u001b[0;32m     44\u001b[0m             osc\u001b[39m.\u001b[39mwrite(\u001b[39mf\u001b[39m\u001b[39m\"\u001b[39m\u001b[39mCH\u001b[39m\u001b[39m{\u001b[39;00mch\u001b[39m}\u001b[39;00m\u001b[39m:POSition \u001b[39m\u001b[39m{\u001b[39;00mcorreccion_posicion\u001b[39m/\u001b[39mscale\u001b[39m}\u001b[39;00m\u001b[39m\"\u001b[39m)\n\u001b[1;32m---> 46\u001b[0m time\u001b[39m.\u001b[39;49msleep(t_sleep)\n\u001b[0;32m     47\u001b[0m \u001b[39m# Tomamos mediciones de los canales\u001b[39;00m\n\u001b[0;32m     48\u001b[0m t_1, v_1 \u001b[39m=\u001b[39m medir_canal(osc,\u001b[39m1\u001b[39m)\n",
      "\u001b[1;31mKeyboardInterrupt\u001b[0m: "
     ]
    }
   ],
   "source": [
    "# Lista con los valores de offset a barrer\n",
    "offs_values = np.linspace(0, 3.2, 20)\n",
    "\n",
    "\n",
    "# Amplitud de la señal\n",
    "amp = 0\n",
    "func.write(f\"AMPL {amp} VP\") # En formato \"AMP {valor_amplitud} {unidad, ej: VP:VPP, VR:VRMS}\"\n",
    "# Cambiamos la escala del canal 1\n",
    "scale_1 = 0.02\n",
    "osc.write(f'CH1:SCALE {scale_1}')\n",
    "scale_2 = 0.05\n",
    "osc.write(f'CH2:SCALE {scale_2}')\n",
    "# Diccionario para guardar las mediciones\n",
    "dic = {}\n",
    "\n",
    "# time.sleep(?)\n",
    "t_sleep = 5\n",
    "\n",
    "for i, offset in tqdm(enumerate(offs_values)):\n",
    "    # Cambiamos el offset de la señal\n",
    "    func.write(f\"OFFS {offset}\")\n",
    "    print(f\"El offset cambio a {offset} V\")\n",
    "    \n",
    "    # Cambiamos el trigger al valor medio de la señal del canal 1, que es una onda cuadrada\n",
    "    osc.write(\"TRIGGER:MAIN SetLevel\")\n",
    "    time.sleep(t_sleep)\n",
    "    \n",
    "    # Usamos los valores de la anterior medición para cambiar la escala y la posición vertical de la siguiente\n",
    "    if i >= 1:\n",
    "        # Cambiamos la posicion vertical de los canales\n",
    "        for ch in [1,2]:\n",
    "            if ch == 1:\n",
    "                # Cambiamos la escala del canal 1\n",
    "                scale = (2*offset/3)-(2*offset/3)%0.005\n",
    "                osc.write(f'CH{ch}:SCALE {scale}')\n",
    "\n",
    "            else:\n",
    "                scale = 0.05 # 50 mV\n",
    "                    \n",
    "                # Cambiamos la posición vertical de las señales\n",
    "                offset_anterior = np.mean(dic[f\"{offs_values[i-1]}V\"][f\"V_{ch}\"])\n",
    "                correccion_posicion = -(offset_anterior-offset_anterior%0.005) \n",
    "                # La posición se selecciona eligiendo los cuadrados del osciloscopio\n",
    "                osc.write(f\"CH{ch}:POSition {correccion_posicion/scale}\")\n",
    "        \n",
    "    time.sleep(t_sleep)\n",
    "    # Tomamos mediciones de los canales\n",
    "    t_1, v_1 = medir_canal(osc,1)\n",
    "    t_2, v_2 = medir_canal(osc,2)\n",
    "    \n",
    "    # Evitamos medir tensiones positivas, ya que sabemos que el \n",
    "    if np.mean(v_2) > 0:\n",
    "        print(\"Medí positivo\")\n",
    "    #    break\n",
    "    \n",
    "    # Guardamos los datos\n",
    "    dic[f\"{offset}V\"] = {\"t_1\":t_1, \"V_1\":v_1, \"t_2\":t_2, \"V_2\": v_2}\n",
    "\n",
    "\n",
    "func.write(f\"OFFS {offs_values[0]}\")"
   ]
  },
  {
   "cell_type": "code",
   "execution_count": 17,
   "metadata": {},
   "outputs": [],
   "source": [
    "# Guardamos los datos en un .pickle\n",
    "pickle.dump(dic, open(f'../mediciones/D.D/Barrido continua a {amp} V de amp sobre R.pickle', 'wb'))"
   ]
  },
  {
   "attachments": {},
   "cell_type": "markdown",
   "metadata": {},
   "source": [
    "# Barrido en frecuencias"
   ]
  },
  {
   "cell_type": "code",
   "execution_count": 64,
   "metadata": {},
   "outputs": [
    {
     "data": {
      "text/plain": [
       "8"
      ]
     },
     "execution_count": 64,
     "metadata": {},
     "output_type": "execute_result"
    }
   ],
   "source": [
    "# configuramos una sinusoidal\n",
    "func.write(\"FUNC 0\") # 1 Cuadrada, 0 para el seno\n",
    "# Seteamos el offset\n",
    "offset = 1.3\n",
    "func.write(f'OFFS {offset}')\n",
    "\n",
    "# Seteamos la amplitud \n",
    "amp = 0.1\n",
    "func.write(f'AMPL {amp} VP')\n",
    "\n",
    "# func.write('OUTE1')\n",
    "freq = 1\n",
    "func.write(f'FREQ {freq}')\n",
    "# osc.write(f'HOR:SCA 0.05')"
   ]
  },
  {
   "cell_type": "code",
   "execution_count": 65,
   "metadata": {},
   "outputs": [
    {
     "name": "stderr",
     "output_type": "stream",
     "text": [
      "0it [00:00, ?it/s]"
     ]
    },
    {
     "name": "stdout",
     "output_type": "stream",
     "text": [
      "La frecuencia cambió a 1.0\n"
     ]
    },
    {
     "name": "stderr",
     "output_type": "stream",
     "text": [
      "1it [00:05,  5.85s/it]"
     ]
    },
    {
     "name": "stdout",
     "output_type": "stream",
     "text": [
      "La frecuencia cambió a 1.4873521072935114\n"
     ]
    },
    {
     "name": "stderr",
     "output_type": "stream",
     "text": [
      "2it [00:11,  5.95s/it]"
     ]
    },
    {
     "name": "stdout",
     "output_type": "stream",
     "text": [
      "La frecuencia cambió a 2.2122162910704493\n"
     ]
    },
    {
     "name": "stderr",
     "output_type": "stream",
     "text": [
      "3it [00:17,  5.95s/it]"
     ]
    },
    {
     "name": "stdout",
     "output_type": "stream",
     "text": [
      "La frecuencia cambió a 3.2903445623126686\n"
     ]
    },
    {
     "name": "stderr",
     "output_type": "stream",
     "text": [
      "4it [00:23,  5.97s/it]"
     ]
    },
    {
     "name": "stdout",
     "output_type": "stream",
     "text": [
      "La frecuencia cambió a 4.893900918477494\n"
     ]
    },
    {
     "name": "stderr",
     "output_type": "stream",
     "text": [
      "5it [00:29,  5.98s/it]"
     ]
    },
    {
     "name": "stdout",
     "output_type": "stream",
     "text": [
      "La frecuencia cambió a 7.278953843983151\n"
     ]
    },
    {
     "name": "stderr",
     "output_type": "stream",
     "text": [
      "6it [00:36,  6.06s/it]"
     ]
    },
    {
     "name": "stdout",
     "output_type": "stream",
     "text": [
      "La frecuencia cambió a 10.826367338740546\n"
     ]
    },
    {
     "name": "stderr",
     "output_type": "stream",
     "text": [
      "7it [00:42,  6.10s/it]"
     ]
    },
    {
     "name": "stdout",
     "output_type": "stream",
     "text": [
      "La frecuencia cambió a 16.102620275609393\n"
     ]
    },
    {
     "name": "stderr",
     "output_type": "stream",
     "text": [
      "8it [00:48,  6.11s/it]"
     ]
    },
    {
     "name": "stdout",
     "output_type": "stream",
     "text": [
      "La frecuencia cambió a 23.95026619987486\n"
     ]
    },
    {
     "name": "stderr",
     "output_type": "stream",
     "text": [
      "9it [00:54,  6.05s/it]"
     ]
    },
    {
     "name": "stdout",
     "output_type": "stream",
     "text": [
      "La frecuencia cambió a 35.622478902624444\n"
     ]
    },
    {
     "name": "stderr",
     "output_type": "stream",
     "text": [
      "10it [01:00,  6.05s/it]"
     ]
    },
    {
     "name": "stdout",
     "output_type": "stream",
     "text": [
      "La frecuencia cambió a 52.9831690628371\n"
     ]
    },
    {
     "name": "stderr",
     "output_type": "stream",
     "text": [
      "11it [01:06,  6.03s/it]"
     ]
    },
    {
     "name": "stdout",
     "output_type": "stream",
     "text": [
      "La frecuencia cambió a 78.80462815669912\n"
     ]
    },
    {
     "name": "stderr",
     "output_type": "stream",
     "text": [
      "12it [01:12,  6.04s/it]"
     ]
    },
    {
     "name": "stdout",
     "output_type": "stream",
     "text": [
      "La frecuencia cambió a 117.21022975334806\n"
     ]
    },
    {
     "name": "stderr",
     "output_type": "stream",
     "text": [
      "13it [01:18,  5.98s/it]"
     ]
    },
    {
     "name": "stdout",
     "output_type": "stream",
     "text": [
      "La frecuencia cambió a 174.3328822199989\n"
     ]
    },
    {
     "name": "stderr",
     "output_type": "stream",
     "text": [
      "14it [01:24,  6.02s/it]"
     ]
    },
    {
     "name": "stdout",
     "output_type": "stream",
     "text": [
      "La frecuencia cambió a 259.2943797404667\n"
     ]
    },
    {
     "name": "stderr",
     "output_type": "stream",
     "text": [
      "15it [01:30,  5.98s/it]"
     ]
    },
    {
     "name": "stdout",
     "output_type": "stream",
     "text": [
      "La frecuencia cambió a 385.6620421163472\n"
     ]
    },
    {
     "name": "stderr",
     "output_type": "stream",
     "text": [
      "16it [01:36,  5.99s/it]"
     ]
    },
    {
     "name": "stdout",
     "output_type": "stream",
     "text": [
      "La frecuencia cambió a 573.6152510448682\n"
     ]
    },
    {
     "name": "stderr",
     "output_type": "stream",
     "text": [
      "17it [01:42,  5.98s/it]"
     ]
    },
    {
     "name": "stdout",
     "output_type": "stream",
     "text": [
      "La frecuencia cambió a 853.1678524172814\n"
     ]
    },
    {
     "name": "stderr",
     "output_type": "stream",
     "text": [
      "18it [01:48,  6.00s/it]"
     ]
    },
    {
     "name": "stdout",
     "output_type": "stream",
     "text": [
      "La frecuencia cambió a 1268.9610031679233\n"
     ]
    },
    {
     "name": "stderr",
     "output_type": "stream",
     "text": [
      "19it [01:54,  6.00s/it]"
     ]
    },
    {
     "name": "stdout",
     "output_type": "stream",
     "text": [
      "La frecuencia cambió a 1887.3918221350978\n"
     ]
    },
    {
     "name": "stderr",
     "output_type": "stream",
     "text": [
      "20it [02:00,  6.01s/it]"
     ]
    },
    {
     "name": "stdout",
     "output_type": "stream",
     "text": [
      "La frecuencia cambió a 2807.2162039411787\n"
     ]
    },
    {
     "name": "stderr",
     "output_type": "stream",
     "text": [
      "21it [02:06,  6.01s/it]"
     ]
    },
    {
     "name": "stdout",
     "output_type": "stream",
     "text": [
      "La frecuencia cambió a 4175.318936560405\n"
     ]
    },
    {
     "name": "stderr",
     "output_type": "stream",
     "text": [
      "22it [02:12,  6.01s/it]"
     ]
    },
    {
     "name": "stdout",
     "output_type": "stream",
     "text": [
      "La frecuencia cambió a 6210.169418915616\n"
     ]
    },
    {
     "name": "stderr",
     "output_type": "stream",
     "text": [
      "23it [02:18,  5.98s/it]"
     ]
    },
    {
     "name": "stdout",
     "output_type": "stream",
     "text": [
      "La frecuencia cambió a 9236.708571873865\n"
     ]
    },
    {
     "name": "stderr",
     "output_type": "stream",
     "text": [
      "24it [02:24,  5.98s/it]"
     ]
    },
    {
     "name": "stdout",
     "output_type": "stream",
     "text": [
      "La frecuencia cambió a 13738.237958832638\n"
     ]
    },
    {
     "name": "stderr",
     "output_type": "stream",
     "text": [
      "25it [02:30,  5.97s/it]"
     ]
    },
    {
     "name": "stdout",
     "output_type": "stream",
     "text": [
      "La frecuencia cambió a 20433.59717856944\n"
     ]
    },
    {
     "name": "stderr",
     "output_type": "stream",
     "text": [
      "26it [02:36,  5.97s/it]"
     ]
    },
    {
     "name": "stdout",
     "output_type": "stream",
     "text": [
      "La frecuencia cambió a 30391.95382313201\n"
     ]
    },
    {
     "name": "stderr",
     "output_type": "stream",
     "text": [
      "27it [02:42,  5.98s/it]"
     ]
    },
    {
     "name": "stdout",
     "output_type": "stream",
     "text": [
      "La frecuencia cambió a 45203.5365636025\n"
     ]
    },
    {
     "name": "stderr",
     "output_type": "stream",
     "text": [
      "28it [02:48,  6.01s/it]"
     ]
    },
    {
     "name": "stdout",
     "output_type": "stream",
     "text": [
      "La frecuencia cambió a 67233.57536499335\n"
     ]
    },
    {
     "name": "stderr",
     "output_type": "stream",
     "text": [
      "29it [02:54,  5.98s/it]"
     ]
    },
    {
     "name": "stdout",
     "output_type": "stream",
     "text": [
      "La frecuencia cambió a 100000.0\n"
     ]
    },
    {
     "name": "stderr",
     "output_type": "stream",
     "text": [
      "30it [03:00,  6.00s/it]"
     ]
    },
    {
     "name": "stdout",
     "output_type": "stream",
     "text": [
      "\n",
      " Terminó el barrido\n"
     ]
    },
    {
     "name": "stderr",
     "output_type": "stream",
     "text": [
      "\n"
     ]
    }
   ],
   "source": [
    "freq_list = np.logspace(0, 5, 30)\n",
    "df = freq_list[1]-freq_list[0]\n",
    "\n",
    "#R paralela al fotodiodo\n",
    "R = 1000\n",
    "\n",
    "# Diccionario para guardar las mediciones\n",
    "dic = {}\n",
    "\n",
    "# time.sleep(?)\n",
    "t_sleep = 3\n",
    "\n",
    "for i,freq in tqdm(enumerate(freq_list)):\n",
    "    \n",
    "    func.write(f\"FREQ {freq}\")\n",
    "    print(f\"La frecuencia cambió a {freq}\")\n",
    "    \n",
    "    # cambiamos la escala temporal\n",
    "    t = 1/freq # un periodo\n",
    "    osc.write(f'HOR:SCA {t/2}') # en segundos\n",
    "    \n",
    "    if i >= 1:\n",
    "        # amp1 = np.max(v_1) - np.min(v_1)\n",
    "        # scale_1 = (2*amp1/8)-(2*amp1/8)%0.005\n",
    "        # osc.write(f'CH1:SCALE {scale_1}')\n",
    "        amp2 = np.max(v_2) - np.min(v_2)\n",
    "        scale_2 = 0.025 # mV #(2*amp2/7)-(2*amp2/7)%0.005\n",
    "        #osc.write(f'CH2:SCALE {scale_2}')\n",
    "\n",
    "        # # Cambiamos la posición vertical de las señales\n",
    "        # offset_anterior = np.mean(dic[f\"{freq_list[i-1]}Hz\"][f\"V_2\"])\n",
    "        # correccion_posicion = -(offset_anterior-offset_anterior%0.005) \n",
    "        # La posición se selecciona eligiendo los cuadrados del osciloscopio\n",
    "        osc.write(f\"CH2:POSition {-3}\")\n",
    "\n",
    "\n",
    "    time.sleep(t_sleep)\n",
    "    \n",
    "    osc.write('CH1:SCA?')  # Send SCPI command to query Channel 1's voltage scale\n",
    "    scale_1 = float(osc.read())  # Read the response from the oscilloscope\n",
    "    osc.write('CH2:SCA?')  # Send SCPI command to query Channel 2's voltage scale\n",
    "    scale_2 = float(osc.read())  # Read the response from the oscilloscope\n",
    "\n",
    "    scales = [scale_1,scale_2]\n",
    "    # Tomamos mediciones de los canales\n",
    "    t_1, v_1 = medir_canal(osc,1)\n",
    "    t_2, v_2 = medir_canal(osc,2)\n",
    "    \n",
    "    # Guardamos los datos\n",
    "    dic[f\"{freq}Hz\"] = {\"t_1\":t_1, \"V_1\":v_1, \"t_2\":t_2, \"V_2\": v_2, \"scale\": scales, \n",
    "                        \"params\": {'amp': amp, 'offset': offset},\"R_fotodiodo\":f\"{R} Ohms\"}\n",
    "\n",
    "print(\"\\n Terminó el barrido\")"
   ]
  },
  {
   "cell_type": "code",
   "execution_count": 66,
   "metadata": {},
   "outputs": [
    {
     "name": "stderr",
     "output_type": "stream",
     "text": [
      "C:\\Users\\nicof\\AppData\\Local\\Temp\\ipykernel_6100\\2010323642.py:2: ResourceWarning: unclosed file <_io.BufferedWriter name='../mediciones/D.D/Tiempo de respuesta del laser/Barrido sinusoidal 12-06 2.pickle'>\n",
      "  pickle.dump(dic, open(f'../mediciones/D.D/Tiempo de respuesta del laser/Barrido sinusoidal 12-06 2.pickle', 'wb'))\n",
      "ResourceWarning: Enable tracemalloc to get the object allocation traceback\n"
     ]
    }
   ],
   "source": [
    "# Guardamos los datos en un .pickle\n",
    "pickle.dump(dic, open(f'../mediciones/D.D/Tiempo de respuesta del laser/Barrido sinusoidal 12-06 2.pickle', 'wb'))"
   ]
  },
  {
   "attachments": {},
   "cell_type": "markdown",
   "metadata": {},
   "source": [
    "# Barrido en frecuencias con la DAQ"
   ]
  },
  {
   "attachments": {},
   "cell_type": "markdown",
   "metadata": {},
   "source": [
    "## Vieja DAQ"
   ]
  },
  {
   "cell_type": "code",
   "execution_count": 5,
   "metadata": {},
   "outputs": [
    {
     "name": "stdout",
     "output_type": "stream",
     "text": [
      "[]\n"
     ]
    }
   ],
   "source": [
    "# Para obtener el descriptor de la DAQ\n",
    "descriptor = ul.get_daq_device_inventory(1)[0] # 7 para ANY o 1 para USB\n",
    "board_num = ul.get_board_number(descriptor)\n",
    "print(descriptor)\n",
    "print(board_num)\n",
    "\n",
    "# Para iniciar la DAQ\n",
    "DAQ = ul.create_daq_device(1, descriptor) "
   ]
  },
  {
   "attachments": {},
   "cell_type": "markdown",
   "metadata": {},
   "source": [
    "## Buena DAQ"
   ]
  },
  {
   "cell_type": "code",
   "execution_count": 92,
   "metadata": {},
   "outputs": [],
   "source": [
    "def medir(duracion: float, fs: int, device_name: str, bounds = [0,10,0,10]) -> np.ndarray:\n",
    "    \"\"\"\n",
    "    Medir un canal de la DAQ.\n",
    "\n",
    "    Parametros:\n",
    "        - duracion (float): Cantidad de segundos a medir.\n",
    "        - fs (int): Cantidad de puntos por segundo.\n",
    "        - device_name (str): Nombre de la DAQ conectada. Obtenible mediante\n",
    "                             \"nidaqmx.system.System.local().devices[0].name\"\n",
    "    \"\"\"\n",
    "\n",
    "    cant_puntos = duracion*fs # Tiempo a medir por cantidad de puntos por segundo\n",
    "\n",
    "    # Configuraciones del canal de medicion\n",
    "    terminal_config = nidaqmx.constants.TerminalConfiguration.RSE\n",
    "    sample_mode = nidaqmx.constants.AcquisitionType.FINITE\n",
    "    samples_per_channel = nidaqmx.constants.READ_ALL_AVAILABLE\n",
    "\n",
    "    osc.write(f'HOR:SCA?')  # Send SCPI command to query the time scale\n",
    "    osc_time_scale = float(osc.read())  # Read the response from the oscilloscope\n",
    "\n",
    "    with nidaqmx.Task() as task:\n",
    "\n",
    "        # Set voltage channel.\n",
    "        task.ai_channels.add_ai_voltage_chan(f\"{device_name}/ai1\", \n",
    "                                             terminal_config = terminal_config, \n",
    "                                             max_val=bounds[1], \n",
    "                                             min_val=bounds[0])\n",
    "        \n",
    "        task.ai_channels.add_ai_voltage_chan(f\"{device_name}/ai2\",\n",
    "                                             max_val=bounds[3],\n",
    "                                             min_val=bounds[2])\n",
    "        \n",
    "        # Medir una cantidad de puntos.\n",
    "        task.timing.cfg_samp_clk_timing(fs, \n",
    "                                        # samps_per_chan=cant_puntos, \n",
    "                                        sample_mode=sample_mode)\n",
    "        t0 = time.time()\n",
    "        datos = task.read(number_of_samples_per_channel=nidaqmx.constants.READ_ALL_AVAILABLE)           \n",
    "        t1 = time.time()\n",
    "        V_1 = datos[0]\n",
    "        V_2 = datos[1]\n",
    "        # print(\"%2.3fs %d %d %2.3f\" % (t1-t0, len(datos), total, total/(t1-t0))) \n",
    "\n",
    "        \n",
    "        datos = task.read(number_of_samples_per_channel=samples_per_channel)           \n",
    "        T = np.linspace(0,8*osc_time_scale , len(datos[0]))\n",
    "    return T, V_1, V_2\n",
    "\n",
    "def medir_continuo(duracion: float = 5, \n",
    "                   fs: int = 300000, \n",
    "                   max_iter: int = 10,\n",
    "                   bounds = [0,10,0,10]) -> Tuple[np.ndarray]:\n",
    "\n",
    "    device_name = nidaqmx.system.System.local().devices[0].name\n",
    "\n",
    "    tiempos, datos_y = [], []\n",
    "    try:\n",
    "        for i in tqdm(range(max_iter)):\n",
    "\n",
    "            t_0 = time.perf_counter()\n",
    "\n",
    "            y = medir(duracion, fs, device_name, bounds)\n",
    "            \n",
    "            datos_y = np.concatenate([datos_y, y])\n",
    "\n",
    "            tiempos.append(time.perf_counter()-t_0)\n",
    "\n",
    "            time.sleep(1)\n",
    "    except KeyboardInterrupt:\n",
    "        print(\"Deteniendo\")\n",
    "    return tiempos, datos_y\n",
    "\n",
    "def save_file(datos_y: np.ndarray) -> None:\n",
    "\n",
    "    muestra = input(\"Nombre de la muestra: \")\n",
    "    date = datetime.datetime.now().strftime(\"%m-%d-%Y %H %M\")\n",
    "    file = f\"{muestra} {date}.npz\"\n",
    "\n",
    "    np.savez_compressed(file, y=datos_y)"
   ]
  },
  {
   "cell_type": "code",
   "execution_count": 93,
   "metadata": {},
   "outputs": [
    {
     "name": "stdout",
     "output_type": "stream",
     "text": [
      "Device(name=Dev2)\n",
      "TerminalConfiguration.DIFF\n",
      "10.0\n",
      "-10.0\n"
     ]
    }
   ],
   "source": [
    "#para saber el ID de la placa conectada (DevX)\n",
    "system = nidaqmx.system.System.local()\n",
    "for device in system.devices: \n",
    "    print(device)\n",
    "\n",
    "with nidaqmx.Task() as task:\n",
    "    ai_channel = task.ai_channels.add_ai_voltage_chan(\"Dev2/ai1\",max_val=10,min_val=-10)\n",
    "    print(ai_channel.ai_term_cfg)    \n",
    "    print(ai_channel.ai_max)\n",
    "    print(ai_channel.ai_min)"
   ]
  },
  {
   "cell_type": "code",
   "execution_count": 91,
   "metadata": {},
   "outputs": [],
   "source": [
    "def medicion_continua(duracion, fs):\n",
    "    cant_puntos = int(duracion*fs)\n",
    "    with nidaqmx.Task() as task:\n",
    "        modo= nidaqmx.constants.TerminalConfiguration.BAL_DIFF\n",
    "        task.ai_channels.add_ai_voltage_chan(\"Dev2/ai1\", terminal_config = modo,max_val=1.5,min_val=-1.5)\n",
    "        task.ai_channels.add_ai_voltage_chan(\"Dev2/ai2\", terminal_config = modo,max_val=4,min_val=0) \n",
    "        task.timing.cfg_samp_clk_timing(fs, sample_mode = nidaqmx.constants.AcquisitionType.CONTINUOUS)\n",
    "        task.start()\n",
    "        t0 = time.time()\n",
    "        total = 0\n",
    "        V_1 = []\n",
    "        V_2 = []\n",
    "       \n",
    "        while total<cant_puntos:\n",
    "            time.sleep(0.1)\n",
    "            datos = task.read(number_of_samples_per_channel=nidaqmx.constants.READ_ALL_AVAILABLE)           \n",
    "            total = total + len(datos[0])\n",
    "            t1 = time.time()\n",
    "            V_1= V_1 + datos[0]\n",
    "            V_2 = V_2 + datos[1]\n",
    "           # V_cupla = V_cupla + datos[2]\n",
    "            print(\"%2.3fs %d %d %2.3f\" % (t1-t0, len(datos), total, total/(t1-t0)))            \n",
    "                \n",
    "    return V_1, V_2"
   ]
  },
  {
   "attachments": {},
   "cell_type": "markdown",
   "metadata": {},
   "source": [
    "### Ojalá ande"
   ]
  },
  {
   "cell_type": "code",
   "execution_count": 99,
   "metadata": {},
   "outputs": [
    {
     "data": {
      "text/plain": [
       "9"
      ]
     },
     "execution_count": 99,
     "metadata": {},
     "output_type": "execute_result"
    }
   ],
   "source": [
    "# configuramos una sinusoidal\n",
    "func.write(\"FUNC 0\") # 1 Cuadrada, 0 para el seno\n",
    "# Seteamos el offset\n",
    "offset = 1.2\n",
    "func.write(f'OFFS {offset}')\n",
    "\n",
    "# Seteamos la amplitud \n",
    "amp = 0.3\n",
    "func.write(f'AMPL {amp} VP')\n",
    "\n",
    "# func.write('OUTE1')\n",
    "freq = 10\n",
    "func.write(f'FREQ {freq}')\n",
    "# osc.write(f'HOR:SCA 0.05')"
   ]
  },
  {
   "cell_type": "code",
   "execution_count": 89,
   "metadata": {},
   "outputs": [],
   "source": [
    "device_name = nidaqmx.system.System.local().devices[0].name\n",
    "duracion = 8/freq\n",
    "fs = 50000\n",
    "\n",
    "dic = {}\n",
    "T, V_1, V_2 = medir_continuo(duracion, fs, device_name, bounds = [-5,5,-5,5])\n",
    "\n",
    "# Guardamos los datos\n",
    "dic[f\"{freq}Hz\"] = {\"t_1\":T, \"V_1\":V_1, \"t_2\":T, \"V_2\": V_2,\"params\": {'amp': amp, 'offset': offset},\"R_fotodiodo\":\"1000 Ohms\"}"
   ]
  },
  {
   "cell_type": "code",
   "execution_count": 90,
   "metadata": {},
   "outputs": [
    {
     "data": {
      "image/png": "[encoded data removed]",
      "text/plain": [
       "<Figure size 640x480 with 1 Axes>"
      ]
     },
     "metadata": {},
     "output_type": "display_data"
    }
   ],
   "source": [
    "plt.plot(T,V_1,\".\")\n",
    "plt.show()"
   ]
  },
  {
   "cell_type": "code",
   "execution_count": null,
   "metadata": {},
   "outputs": [],
   "source": [
    "# Guardamos los datos en un .pickle\n",
    "pickle.dump(dic, open(f'../mediciones/D.D/Tiempo de respuesta del laser/Barrido sinusoidal DAQ 08-06.pickle', 'wb'))"
   ]
  },
  {
   "attachments": {},
   "cell_type": "markdown",
   "metadata": {},
   "source": [
    "### No anda"
   ]
  },
  {
   "cell_type": "code",
   "execution_count": 12,
   "metadata": {},
   "outputs": [],
   "source": [
    "def medicion_continua(duracion, fs, bounds_ch1 = [-1.5,1.5], bounds_ch2 = [-1.5,1.5]):\n",
    "    cant_puntos = int(duracion*fs)\n",
    "    with nidaqmx.Task() as task:\n",
    "        # modo= nidaqmx.constants.TerminalConfiguration.BAL_DIFF # No funciono\n",
    "        modo= nidaqmx.constants.TerminalConfiguration.DIFF\n",
    "        task.ai_channels.add_ai_voltage_chan(\"Dev1/ai1\",max_val=max(bounds_ch1),min_val=min(bounds_ch1))\n",
    "        task.ai_channels.add_ai_voltage_chan(\"Dev1/ai3\",max_val=max(bounds_ch2),min_val=min(bounds_ch2))\n",
    "        task.timing.cfg_samp_clk_timing(fs, sample_mode = nidaqmx.constants.AcquisitionType.CONTINUOUS)\n",
    "        task.start()\n",
    "        t0 = time.time()\n",
    "        total = 0\n",
    "        T = []\n",
    "        V_1, V_2 = [], []\n",
    "        while total<cant_puntos:\n",
    "            time.sleep(0.1)\n",
    "            datos = task.read(number_of_samples_per_channel=nidaqmx.constants.READ_ALL_AVAILABLE)           \n",
    "            total = total + len(datos[0])\n",
    "            t1 = time.time()\n",
    "            T.append(t1-t0)\n",
    "            V_1 = V_1 + datos[0]\n",
    "            V_2 = V_2 + datos[1]\n",
    "            \n",
    "            print(\"%2.3fs %d %d %2.3f\" % (t1-t0, len(datos), total, total/(t1-t0)))            \n",
    "        \n",
    "        # Reset the task\n",
    "        task.reset()\n",
    "    return T, V_1, V_2     "
   ]
  },
  {
   "cell_type": "code",
   "execution_count": 14,
   "metadata": {},
   "outputs": [
    {
     "data": {
      "text/plain": [
       "9"
      ]
     },
     "execution_count": 14,
     "metadata": {},
     "output_type": "execute_result"
    }
   ],
   "source": [
    "# configuramos una sinusoidal\n",
    "func.write(\"FUNC 0\") # 1 Cuadrada, 0 para el seno\n",
    "# Seteamos el offset\n",
    "offset = 2\n",
    "func.write(f'OFFS {offset}')\n",
    "\n",
    "# Seteamos la amplitud \n",
    "amp = 0.5\n",
    "func.write(f'AMPL {amp} VP')\n",
    "\n",
    "# func.write('OUTE1')\n",
    "freq = 10\n",
    "func.write(f'FREQ {freq}')\n",
    "# osc.write(f'HOR:SCA 0.05')"
   ]
  },
  {
   "cell_type": "code",
   "execution_count": 15,
   "metadata": {},
   "outputs": [
    {
     "name": "stderr",
     "output_type": "stream",
     "text": [
      "0it [00:00, ?it/s]"
     ]
    },
    {
     "name": "stdout",
     "output_type": "stream",
     "text": [
      "La frecuencia cambió a 10.0\n"
     ]
    },
    {
     "name": "stderr",
     "output_type": "stream",
     "text": [
      "\n"
     ]
    },
    {
     "ename": "DaqError",
     "evalue": "Requested value is not a supported value for this property. The property value may be invalid because it conflicts with another property.\nProperty: DAQmx_AI_Min\nRequested Value: -177.625000\nMaximum Value:  10.0\nMinimum Value: -10.0\nChannel Name: Dev1/ai1\n\nTask Name: _unnamedTask<2>\n\nStatus Code: -200077",
     "output_type": "error",
     "traceback": [
      "\u001b[1;31m---------------------------------------------------------------------------\u001b[0m",
      "\u001b[1;31mDaqError\u001b[0m                                  Traceback (most recent call last)",
      "Cell \u001b[1;32mIn[15], line 13\u001b[0m\n\u001b[0;32m     10\u001b[0m duracion \u001b[39m=\u001b[39m \u001b[39m8\u001b[39m\u001b[39m/\u001b[39mfreq\u001b[39m#segundos\u001b[39;00m\n\u001b[0;32m     11\u001b[0m \u001b[39mprint\u001b[39m(\u001b[39mf\u001b[39m\u001b[39m\"\u001b[39m\u001b[39mLa frecuencia cambió a \u001b[39m\u001b[39m{\u001b[39;00mfreq\u001b[39m}\u001b[39;00m\u001b[39m\"\u001b[39m)\n\u001b[1;32m---> 13\u001b[0m T, V_1, V_2 \u001b[39m=\u001b[39m medicion_continua(duracion, fs, bounds_ch1\u001b[39m=\u001b[39;49mbounds_ch1, bounds_ch2\u001b[39m=\u001b[39;49mbounds_ch2)\n\u001b[0;32m     15\u001b[0m bounds_ch1, bounds_ch2 \u001b[39m=\u001b[39m [np\u001b[39m.\u001b[39mmin(V_1)\u001b[39m-\u001b[39mdv, np\u001b[39m.\u001b[39mmax(V_1)\u001b[39m+\u001b[39mdv], [np\u001b[39m.\u001b[39mmin(V_2)\u001b[39m-\u001b[39mdv, np\u001b[39m.\u001b[39mmax(V_2)\u001b[39m+\u001b[39mdv]\n\u001b[0;32m     17\u001b[0m fig, axs \u001b[39m=\u001b[39m plt\u001b[39m.\u001b[39msubplots(ncols \u001b[39m=\u001b[39m \u001b[39m2\u001b[39m)\n",
      "Cell \u001b[1;32mIn[12], line 9\u001b[0m, in \u001b[0;36mmedicion_continua\u001b[1;34m(duracion, fs, bounds_ch1, bounds_ch2)\u001b[0m\n\u001b[0;32m      7\u001b[0m task\u001b[39m.\u001b[39mai_channels\u001b[39m.\u001b[39madd_ai_voltage_chan(\u001b[39m\"\u001b[39m\u001b[39mDev1/ai3\u001b[39m\u001b[39m\"\u001b[39m,max_val\u001b[39m=\u001b[39m\u001b[39mmax\u001b[39m(bounds_ch2),min_val\u001b[39m=\u001b[39m\u001b[39mmin\u001b[39m(bounds_ch2))\n\u001b[0;32m      8\u001b[0m task\u001b[39m.\u001b[39mtiming\u001b[39m.\u001b[39mcfg_samp_clk_timing(fs, sample_mode \u001b[39m=\u001b[39m nidaqmx\u001b[39m.\u001b[39mconstants\u001b[39m.\u001b[39mAcquisitionType\u001b[39m.\u001b[39mCONTINUOUS)\n\u001b[1;32m----> 9\u001b[0m task\u001b[39m.\u001b[39;49mstart()\n\u001b[0;32m     10\u001b[0m t0 \u001b[39m=\u001b[39m time\u001b[39m.\u001b[39mtime()\n\u001b[0;32m     11\u001b[0m total \u001b[39m=\u001b[39m \u001b[39m0\u001b[39m\n",
      "File \u001b[1;32mc:\\Users\\nicof\\anaconda3\\lib\\site-packages\\nidaqmx\\task.py:1067\u001b[0m, in \u001b[0;36mTask.start\u001b[1;34m(self)\u001b[0m\n\u001b[0;32m   1064\u001b[0m             cfunc\u001b[39m.\u001b[39margtypes \u001b[39m=\u001b[39m [lib_importer\u001b[39m.\u001b[39mtask_handle]\n\u001b[0;32m   1066\u001b[0m error_code \u001b[39m=\u001b[39m cfunc(\u001b[39mself\u001b[39m\u001b[39m.\u001b[39m_handle)\n\u001b[1;32m-> 1067\u001b[0m check_for_error(error_code)\n",
      "File \u001b[1;32mc:\\Users\\nicof\\anaconda3\\lib\\site-packages\\nidaqmx\\errors.py:183\u001b[0m, in \u001b[0;36mcheck_for_error\u001b[1;34m(error_code, samps_per_chan_written, samps_per_chan_read)\u001b[0m\n\u001b[0;32m    181\u001b[0m         \u001b[39mraise\u001b[39;00m DaqWriteError(error_buffer\u001b[39m.\u001b[39mvalue\u001b[39m.\u001b[39mdecode(\u001b[39m\"\u001b[39m\u001b[39mutf-8\u001b[39m\u001b[39m\"\u001b[39m), error_code, samps_per_chan_written)\n\u001b[0;32m    182\u001b[0m     \u001b[39melse\u001b[39;00m:\n\u001b[1;32m--> 183\u001b[0m         \u001b[39mraise\u001b[39;00m DaqError(error_buffer\u001b[39m.\u001b[39mvalue\u001b[39m.\u001b[39mdecode(\u001b[39m\"\u001b[39m\u001b[39mutf-8\u001b[39m\u001b[39m\"\u001b[39m), error_code)\n\u001b[0;32m    185\u001b[0m \u001b[39melif\u001b[39;00m error_code \u001b[39m>\u001b[39m \u001b[39m0\u001b[39m:\n\u001b[0;32m    186\u001b[0m     error_buffer \u001b[39m=\u001b[39m ctypes\u001b[39m.\u001b[39mcreate_string_buffer(\u001b[39m2048\u001b[39m)\n",
      "\u001b[1;31mDaqError\u001b[0m: Requested value is not a supported value for this property. The property value may be invalid because it conflicts with another property.\nProperty: DAQmx_AI_Min\nRequested Value: -177.625000\nMaximum Value:  10.0\nMinimum Value: -10.0\nChannel Name: Dev1/ai1\n\nTask Name: _unnamedTask<2>\n\nStatus Code: -200077"
     ]
    }
   ],
   "source": [
    "freq_list = np.linspace(10, 15000, 20)\n",
    "dv = 0.1\n",
    "ch1_mean, ch2_mean = -177.6, 345 # Los ponemos a mano viendolos en el osciloscopio\n",
    "bounds_ch1, bounds_ch2 = [ch1_mean-25/1000, ch1_mean+25/1000],[ch2_mean-250/1000, ch2_mean+250/1000]\n",
    "\n",
    "for i,freq in tqdm(enumerate(freq_list)):\n",
    "\n",
    "    func.write(f\"FREQ {freq}\")\n",
    "    fs = 300*freq #Frecuencia de muestreo\n",
    "    duracion = 8/freq#segundos\n",
    "    print(f\"La frecuencia cambió a {freq}\")\n",
    "\n",
    "    T, V_1, V_2 = medicion_continua(duracion, fs, bounds_ch1=bounds_ch1, bounds_ch2=bounds_ch2)\n",
    "    \n",
    "    bounds_ch1, bounds_ch2 = [np.min(V_1)-dv, np.max(V_1)+dv], [np.min(V_2)-dv, np.max(V_2)+dv]\n",
    "\n",
    "    fig, axs = plt.subplots(ncols = 2)\n",
    "    axs[0].plot(T,2_1)\n",
    "    axs[1].plot(T,V_2)\n",
    "    plt.show()\n",
    "    # Guardamos los datos\n",
    "    dic[f\"{freq}Hz\"] = {\"t_1\":t_1, \"V_1\":v_1, \"t_2\":t_2, \"V_2\": v_2, \"scale\": scales, \n",
    "                        \"params\": {'amp': amp, 'offset': offset},\"R_fotodiodo\":\"1000 Ohms\"}\n",
    "print(\"\\n Terminó el barrido\")"
   ]
  },
  {
   "cell_type": "code",
   "execution_count": 8,
   "metadata": {},
   "outputs": [
    {
     "ename": "DaqError",
     "evalue": "Requested value is not a supported value for this property. The property value may be invalid because it conflicts with another property.\nProperty: DAQmx_AI_Min\nRequested Value: -177.625000\nMaximum Value:  10.0\nMinimum Value: -10.0\nChannel Name: Dev1/ai1\n\nTask Name: _unnamedTask<1>\n\nStatus Code: -200077",
     "output_type": "error",
     "traceback": [
      "\u001b[1;31m---------------------------------------------------------------------------\u001b[0m",
      "\u001b[1;31mDaqError\u001b[0m                                  Traceback (most recent call last)",
      "Cell \u001b[1;32mIn[8], line 8\u001b[0m\n\u001b[0;32m      6\u001b[0m task\u001b[39m.\u001b[39mai_channels\u001b[39m.\u001b[39madd_ai_voltage_chan(\u001b[39m\"\u001b[39m\u001b[39mDev1/ai3\u001b[39m\u001b[39m\"\u001b[39m,max_val\u001b[39m=\u001b[39m\u001b[39mmax\u001b[39m(bounds_ch2),min_val\u001b[39m=\u001b[39m\u001b[39mmin\u001b[39m(bounds_ch2))\n\u001b[0;32m      7\u001b[0m task\u001b[39m.\u001b[39mtiming\u001b[39m.\u001b[39mcfg_samp_clk_timing(fs, sample_mode \u001b[39m=\u001b[39m nidaqmx\u001b[39m.\u001b[39mconstants\u001b[39m.\u001b[39mAcquisitionType\u001b[39m.\u001b[39mCONTINUOUS)\n\u001b[1;32m----> 8\u001b[0m task\u001b[39m.\u001b[39;49mstart()\n\u001b[0;32m     10\u001b[0m \u001b[39mfor\u001b[39;00m i,freq \u001b[39min\u001b[39;00m tqdm(\u001b[39menumerate\u001b[39m(freq_list)):\n\u001b[0;32m     12\u001b[0m     func\u001b[39m.\u001b[39mwrite(\u001b[39mf\u001b[39m\u001b[39m\"\u001b[39m\u001b[39mFREQ \u001b[39m\u001b[39m{\u001b[39;00mfreq\u001b[39m}\u001b[39;00m\u001b[39m\"\u001b[39m)\n",
      "File \u001b[1;32mc:\\Users\\nicof\\anaconda3\\lib\\site-packages\\nidaqmx\\task.py:1067\u001b[0m, in \u001b[0;36mTask.start\u001b[1;34m(self)\u001b[0m\n\u001b[0;32m   1064\u001b[0m             cfunc\u001b[39m.\u001b[39margtypes \u001b[39m=\u001b[39m [lib_importer\u001b[39m.\u001b[39mtask_handle]\n\u001b[0;32m   1066\u001b[0m error_code \u001b[39m=\u001b[39m cfunc(\u001b[39mself\u001b[39m\u001b[39m.\u001b[39m_handle)\n\u001b[1;32m-> 1067\u001b[0m check_for_error(error_code)\n",
      "File \u001b[1;32mc:\\Users\\nicof\\anaconda3\\lib\\site-packages\\nidaqmx\\errors.py:183\u001b[0m, in \u001b[0;36mcheck_for_error\u001b[1;34m(error_code, samps_per_chan_written, samps_per_chan_read)\u001b[0m\n\u001b[0;32m    181\u001b[0m         \u001b[39mraise\u001b[39;00m DaqWriteError(error_buffer\u001b[39m.\u001b[39mvalue\u001b[39m.\u001b[39mdecode(\u001b[39m\"\u001b[39m\u001b[39mutf-8\u001b[39m\u001b[39m\"\u001b[39m), error_code, samps_per_chan_written)\n\u001b[0;32m    182\u001b[0m     \u001b[39melse\u001b[39;00m:\n\u001b[1;32m--> 183\u001b[0m         \u001b[39mraise\u001b[39;00m DaqError(error_buffer\u001b[39m.\u001b[39mvalue\u001b[39m.\u001b[39mdecode(\u001b[39m\"\u001b[39m\u001b[39mutf-8\u001b[39m\u001b[39m\"\u001b[39m), error_code)\n\u001b[0;32m    185\u001b[0m \u001b[39melif\u001b[39;00m error_code \u001b[39m>\u001b[39m \u001b[39m0\u001b[39m:\n\u001b[0;32m    186\u001b[0m     error_buffer \u001b[39m=\u001b[39m ctypes\u001b[39m.\u001b[39mcreate_string_buffer(\u001b[39m2048\u001b[39m)\n",
      "\u001b[1;31mDaqError\u001b[0m: Requested value is not a supported value for this property. The property value may be invalid because it conflicts with another property.\nProperty: DAQmx_AI_Min\nRequested Value: -177.625000\nMaximum Value:  10.0\nMinimum Value: -10.0\nChannel Name: Dev1/ai1\n\nTask Name: _unnamedTask<1>\n\nStatus Code: -200077"
     ]
    }
   ],
   "source": [
    "cant_puntos = int(duracion*fs)\n",
    "with nidaqmx.Task() as task:\n",
    "    # modo= nidaqmx.constants.TerminalConfiguration.BAL_DIFF # No funciono\n",
    "    modo= nidaqmx.constants.TerminalConfiguration.DIFF\n",
    "    task.ai_channels.add_ai_voltage_chan(\"Dev1/ai1\",max_val=max(bounds_ch1),min_val=min(bounds_ch1))\n",
    "    task.ai_channels.add_ai_voltage_chan(\"Dev1/ai3\",max_val=max(bounds_ch2),min_val=min(bounds_ch2))\n",
    "    task.timing.cfg_samp_clk_timing(fs, sample_mode = nidaqmx.constants.AcquisitionType.CONTINUOUS)\n",
    "    task.start()\n",
    "\n",
    "    for i,freq in tqdm(enumerate(freq_list)):\n",
    "\n",
    "        func.write(f\"FREQ {freq}\")\n",
    "        fs = 300*freq #Frecuencia de muestreo\n",
    "        duracion = 8/freq#segundos\n",
    "        print(f\"La frecuencia cambió a {freq}\")\n",
    "\n",
    "        t0 = time.time()\n",
    "        total = 0\n",
    "        T = []\n",
    "        V_1, V_2 = [], []\n",
    "        while total<cant_puntos:\n",
    "            time.sleep(0.1)\n",
    "            datos = task.read(number_of_samples_per_channel=nidaqmx.constants.READ_ALL_AVAILABLE)           \n",
    "            total = total + len(datos[0])\n",
    "            t1 = time.time()\n",
    "            T.append(t1-t0)\n",
    "            V_1 = V_1 + datos[0]\n",
    "            V_2 = V_2 + datos[1]\n",
    "            \n",
    "            print(\"%2.3fs %d %d %2.3f\" % (t1-t0, len(datos), total, total/(t1-t0)))            \n",
    "        \n",
    "        # bounds_ch1, bounds_ch2 = [np.min(V_1)-dv, np.max(V_1)+dv], [np.min(V_2)-dv, np.max(V_2)+dv]\n",
    "\n",
    "        fig, axs = plt.subplots(ncols = 2)\n",
    "        axs[0].plot(T,2_1)\n",
    "        axs[1].plot(T,V_2)\n",
    "        plt.show()\n",
    "        # Guardamos los datos\n",
    "        dic[f\"{freq}Hz\"] = {\"t_1\":t_1, \"V_1\":v_1, \"t_2\":t_2, \"V_2\": v_2, \"scale\": scales, \n",
    "                            \"params\": {'amp': amp, 'offset': offset},\"R_fotodiodo\":\"1000 Ohms\"}\n",
    "        print(\"\\n Terminó el barrido\")"
   ]
  },
  {
   "cell_type": "code",
   "execution_count": null,
   "metadata": {},
   "outputs": [],
   "source": [
    "# Guardamos los datos en un .pickle\n",
    "pickle.dump(dic, open(f'../mediciones/D.D/Tiempo de respuesta del laser/Barrido sinusoidal 05-06.pickle', 'wb'))"
   ]
  },
  {
   "attachments": {},
   "cell_type": "markdown",
   "metadata": {},
   "source": [
    "# Operando con el medidor de potencia"
   ]
  },
  {
   "cell_type": "code",
   "execution_count": 13,
   "metadata": {},
   "outputs": [
    {
     "name": "stdout",
     "output_type": "stream",
     "text": [
      "2.05033193e-05\n",
      "POW\n"
     ]
    }
   ],
   "source": [
    "from ThorlabsPM100 import ThorlabsPM100\n",
    "inst = rm.open_resource(\"USB0::0x1313::0x8078::P0008162::INSTR\", timeout=1)\n",
    "power_meter = ThorlabsPM100(inst=inst)\n",
    "\n",
    "# Para leer los datos\n",
    "print(power_meter.read)\n",
    "# Para saber la unidad\n",
    "print(power_meter.getconfigure)"
   ]
  },
  {
   "cell_type": "code",
   "execution_count": 193,
   "metadata": {},
   "outputs": [
    {
     "ename": "VisaIOError",
     "evalue": "VI_ERROR_BERR (-1073807304): Bus error occurred during transfer.",
     "output_type": "error",
     "traceback": [
      "\u001b[1;31m---------------------------------------------------------------------------\u001b[0m",
      "\u001b[1;31mVisaIOError\u001b[0m                               Traceback (most recent call last)",
      "Cell \u001b[1;32mIn[193], line 2\u001b[0m\n\u001b[0;32m      1\u001b[0m \u001b[39m# Para setear los valores iniciales\u001b[39;00m\n\u001b[1;32m----> 2\u001b[0m func\u001b[39m.\u001b[39;49mwrite(\u001b[39mf\u001b[39;49m\u001b[39m\"\u001b[39;49m\u001b[39mAMPL 0 VP\u001b[39;49m\u001b[39m\"\u001b[39;49m)\n\u001b[0;32m      3\u001b[0m func\u001b[39m.\u001b[39mwrite(\u001b[39mf\u001b[39m\u001b[39m\"\u001b[39m\u001b[39mFREQ 0\u001b[39m\u001b[39m\"\u001b[39m)\n\u001b[0;32m      4\u001b[0m func\u001b[39m.\u001b[39mwrite(\u001b[39mf\u001b[39m\u001b[39m\"\u001b[39m\u001b[39mOFFS 0\u001b[39m\u001b[39m\"\u001b[39m)\n",
      "File \u001b[1;32mc:\\Users\\nicof\\anaconda3\\lib\\site-packages\\pyvisa\\resources\\messagebased.py:197\u001b[0m, in \u001b[0;36mMessageBasedResource.write\u001b[1;34m(self, message, termination, encoding)\u001b[0m\n\u001b[0;32m    191\u001b[0m         warnings\u001b[39m.\u001b[39mwarn(\n\u001b[0;32m    192\u001b[0m             \u001b[39m\"\u001b[39m\u001b[39mwrite message already ends with \u001b[39m\u001b[39m\"\u001b[39m \u001b[39m\"\u001b[39m\u001b[39mtermination characters\u001b[39m\u001b[39m\"\u001b[39m,\n\u001b[0;32m    193\u001b[0m             stacklevel\u001b[39m=\u001b[39m\u001b[39m2\u001b[39m,\n\u001b[0;32m    194\u001b[0m         )\n\u001b[0;32m    195\u001b[0m     message \u001b[39m+\u001b[39m\u001b[39m=\u001b[39m term\n\u001b[1;32m--> 197\u001b[0m count \u001b[39m=\u001b[39m \u001b[39mself\u001b[39;49m\u001b[39m.\u001b[39;49mwrite_raw(message\u001b[39m.\u001b[39;49mencode(enco))\n\u001b[0;32m    199\u001b[0m \u001b[39mreturn\u001b[39;00m count\n",
      "File \u001b[1;32mc:\\Users\\nicof\\anaconda3\\lib\\site-packages\\pyvisa\\resources\\messagebased.py:157\u001b[0m, in \u001b[0;36mMessageBasedResource.write_raw\u001b[1;34m(self, message)\u001b[0m\n\u001b[0;32m    143\u001b[0m \u001b[39mdef\u001b[39;00m \u001b[39mwrite_raw\u001b[39m(\u001b[39mself\u001b[39m, message: \u001b[39mbytes\u001b[39m) \u001b[39m-\u001b[39m\u001b[39m>\u001b[39m \u001b[39mint\u001b[39m:\n\u001b[0;32m    144\u001b[0m \u001b[39m    \u001b[39m\u001b[39m\"\"\"Write a byte message to the device.\u001b[39;00m\n\u001b[0;32m    145\u001b[0m \n\u001b[0;32m    146\u001b[0m \u001b[39m    Parameters\u001b[39;00m\n\u001b[1;32m   (...)\u001b[0m\n\u001b[0;32m    155\u001b[0m \n\u001b[0;32m    156\u001b[0m \u001b[39m    \"\"\"\u001b[39;00m\n\u001b[1;32m--> 157\u001b[0m     \u001b[39mreturn\u001b[39;00m \u001b[39mself\u001b[39;49m\u001b[39m.\u001b[39;49mvisalib\u001b[39m.\u001b[39;49mwrite(\u001b[39mself\u001b[39;49m\u001b[39m.\u001b[39;49msession, message)[\u001b[39m0\u001b[39m]\n",
      "File \u001b[1;32mc:\\Users\\nicof\\anaconda3\\lib\\site-packages\\pyvisa\\ctwrapper\\functions.py:2796\u001b[0m, in \u001b[0;36mwrite\u001b[1;34m(library, session, data)\u001b[0m\n\u001b[0;32m   2794\u001b[0m return_count \u001b[39m=\u001b[39m ViUInt32()\n\u001b[0;32m   2795\u001b[0m \u001b[39m# [ViSession, ViBuf, ViUInt32, ViPUInt32]\u001b[39;00m\n\u001b[1;32m-> 2796\u001b[0m ret \u001b[39m=\u001b[39m library\u001b[39m.\u001b[39;49mviWrite(session, data, \u001b[39mlen\u001b[39;49m(data), byref(return_count))\n\u001b[0;32m   2797\u001b[0m \u001b[39mreturn\u001b[39;00m return_count\u001b[39m.\u001b[39mvalue, ret\n",
      "File \u001b[1;32mc:\\Users\\nicof\\anaconda3\\lib\\site-packages\\pyvisa\\ctwrapper\\highlevel.py:226\u001b[0m, in \u001b[0;36mIVIVisaLibrary._return_handler\u001b[1;34m(self, ret_value, func, arguments)\u001b[0m\n\u001b[0;32m    223\u001b[0m         \u001b[39m# Set session back to a safe value\u001b[39;00m\n\u001b[0;32m    224\u001b[0m         session \u001b[39m=\u001b[39m \u001b[39mNone\u001b[39;00m\n\u001b[1;32m--> 226\u001b[0m \u001b[39mreturn\u001b[39;00m \u001b[39mself\u001b[39;49m\u001b[39m.\u001b[39;49mhandle_return_value(session, ret_value)\n",
      "File \u001b[1;32mc:\\Users\\nicof\\anaconda3\\lib\\site-packages\\pyvisa\\highlevel.py:251\u001b[0m, in \u001b[0;36mVisaLibraryBase.handle_return_value\u001b[1;34m(self, session, status_code)\u001b[0m\n\u001b[0;32m    248\u001b[0m     \u001b[39mself\u001b[39m\u001b[39m.\u001b[39m_last_status_in_session[session] \u001b[39m=\u001b[39m rv\n\u001b[0;32m    250\u001b[0m \u001b[39mif\u001b[39;00m rv \u001b[39m<\u001b[39m \u001b[39m0\u001b[39m:\n\u001b[1;32m--> 251\u001b[0m     \u001b[39mraise\u001b[39;00m errors\u001b[39m.\u001b[39mVisaIOError(rv)\n\u001b[0;32m    253\u001b[0m \u001b[39mif\u001b[39;00m rv \u001b[39min\u001b[39;00m \u001b[39mself\u001b[39m\u001b[39m.\u001b[39missue_warning_on:\n\u001b[0;32m    254\u001b[0m     \u001b[39mif\u001b[39;00m session \u001b[39mand\u001b[39;00m rv \u001b[39mnot\u001b[39;00m \u001b[39min\u001b[39;00m \u001b[39mself\u001b[39m\u001b[39m.\u001b[39m_ignore_warning_in_session[session]:\n",
      "\u001b[1;31mVisaIOError\u001b[0m: VI_ERROR_BERR (-1073807304): Bus error occurred during transfer."
     ]
    }
   ],
   "source": [
    "# Para setear los valores iniciales\n",
    "func.write(f\"AMPL 0 VP\")\n",
    "func.write(f\"FREQ 0\")\n",
    "func.write(f\"OFFS 0\")\n",
    "\n",
    "power_meter.sense.power.dc.range.upper = 13e-2\n",
    "power_meter.sense.correction.wavelength = 1064"
   ]
  },
  {
   "cell_type": "code",
   "execution_count": 69,
   "metadata": {},
   "outputs": [],
   "source": [
    "POW_ranges = [13e-6,13e-5,13e-4,13e-3,13e-2,13e-1] # Va desde 13 microW hasta 1.3 W"
   ]
  },
  {
   "cell_type": "code",
   "execution_count": 144,
   "metadata": {},
   "outputs": [],
   "source": [
    "power_meter.sense.power.dc.range.auto = \"OFF\" # Para apagar el modo automático de determinación del rango"
   ]
  },
  {
   "cell_type": "code",
   "execution_count": 190,
   "metadata": {
    "scrolled": false
   },
   "outputs": [
    {
     "name": "stderr",
     "output_type": "stream",
     "text": [
      "0it [00:00, ?it/s]"
     ]
    },
    {
     "name": "stdout",
     "output_type": "stream",
     "text": [
      "El offset cambio a 2.5 V\n"
     ]
    },
    {
     "name": "stderr",
     "output_type": "stream",
     "text": [
      "1it [00:13, 13.63s/it]"
     ]
    },
    {
     "name": "stdout",
     "output_type": "stream",
     "text": [
      "El offset cambio a 2.3684210526315788 V\n"
     ]
    },
    {
     "name": "stderr",
     "output_type": "stream",
     "text": [
      "2it [00:27, 13.61s/it]"
     ]
    },
    {
     "name": "stdout",
     "output_type": "stream",
     "text": [
      "El offset cambio a 2.236842105263158 V\n"
     ]
    },
    {
     "name": "stderr",
     "output_type": "stream",
     "text": [
      "3it [00:40, 13.29s/it]"
     ]
    },
    {
     "name": "stdout",
     "output_type": "stream",
     "text": [
      "El offset cambio a 2.1052631578947367 V\n"
     ]
    },
    {
     "name": "stderr",
     "output_type": "stream",
     "text": [
      "4it [00:53, 13.35s/it]"
     ]
    },
    {
     "name": "stdout",
     "output_type": "stream",
     "text": [
      "El offset cambio a 1.9736842105263157 V\n"
     ]
    },
    {
     "name": "stderr",
     "output_type": "stream",
     "text": [
      "5it [01:06, 13.31s/it]"
     ]
    },
    {
     "name": "stdout",
     "output_type": "stream",
     "text": [
      "El offset cambio a 1.8421052631578947 V\n"
     ]
    },
    {
     "name": "stderr",
     "output_type": "stream",
     "text": [
      "6it [01:20, 13.29s/it]"
     ]
    },
    {
     "name": "stdout",
     "output_type": "stream",
     "text": [
      "El offset cambio a 1.7105263157894737 V\n"
     ]
    },
    {
     "name": "stderr",
     "output_type": "stream",
     "text": [
      "7it [01:33, 13.34s/it]"
     ]
    },
    {
     "name": "stdout",
     "output_type": "stream",
     "text": [
      "El offset cambio a 1.5789473684210527 V\n"
     ]
    },
    {
     "name": "stderr",
     "output_type": "stream",
     "text": [
      "8it [01:46, 13.23s/it]"
     ]
    },
    {
     "name": "stdout",
     "output_type": "stream",
     "text": [
      "El offset cambio a 1.4473684210526314 V\n"
     ]
    },
    {
     "name": "stderr",
     "output_type": "stream",
     "text": [
      "9it [01:59, 13.30s/it]"
     ]
    },
    {
     "name": "stdout",
     "output_type": "stream",
     "text": [
      "El offset cambio a 1.3157894736842104 V\n",
      "Cambio escala a 0.013000000000000001\n"
     ]
    },
    {
     "name": "stderr",
     "output_type": "stream",
     "text": [
      "10it [02:17, 14.54s/it]"
     ]
    },
    {
     "name": "stdout",
     "output_type": "stream",
     "text": [
      "El offset cambio a 1.1842105263157894 V\n"
     ]
    },
    {
     "name": "stderr",
     "output_type": "stream",
     "text": [
      "11it [02:30, 14.11s/it]"
     ]
    },
    {
     "name": "stdout",
     "output_type": "stream",
     "text": [
      "El offset cambio a 1.0526315789473684 V\n"
     ]
    },
    {
     "name": "stderr",
     "output_type": "stream",
     "text": [
      "12it [02:44, 14.17s/it]"
     ]
    },
    {
     "name": "stdout",
     "output_type": "stream",
     "text": [
      "El offset cambio a 0.9210526315789473 V\n"
     ]
    },
    {
     "name": "stderr",
     "output_type": "stream",
     "text": [
      "13it [02:58, 13.94s/it]"
     ]
    },
    {
     "name": "stdout",
     "output_type": "stream",
     "text": [
      "El offset cambio a 0.7894736842105263 V\n",
      "Cambio escala a 0.0013000000000000002\n"
     ]
    },
    {
     "name": "stderr",
     "output_type": "stream",
     "text": [
      "14it [03:15, 14.97s/it]"
     ]
    },
    {
     "name": "stdout",
     "output_type": "stream",
     "text": [
      "El offset cambio a 0.6578947368421052 V\n"
     ]
    },
    {
     "name": "stderr",
     "output_type": "stream",
     "text": [
      "15it [03:28, 14.52s/it]"
     ]
    },
    {
     "name": "stdout",
     "output_type": "stream",
     "text": [
      "El offset cambio a 0.5263157894736842 V\n",
      "Cambio escala a 0.00013000000000000002\n"
     ]
    },
    {
     "name": "stderr",
     "output_type": "stream",
     "text": [
      "16it [03:46, 15.42s/it]"
     ]
    },
    {
     "name": "stdout",
     "output_type": "stream",
     "text": [
      "El offset cambio a 0.39473684210526316 V\n"
     ]
    },
    {
     "name": "stderr",
     "output_type": "stream",
     "text": [
      "17it [03:59, 14.71s/it]"
     ]
    },
    {
     "name": "stdout",
     "output_type": "stream",
     "text": [
      "El offset cambio a 0.2631578947368421 V\n",
      "Cambio escala a 1.3000000000000001e-05\n"
     ]
    },
    {
     "name": "stderr",
     "output_type": "stream",
     "text": [
      "18it [04:16, 15.46s/it]"
     ]
    },
    {
     "name": "stdout",
     "output_type": "stream",
     "text": [
      "El offset cambio a 0.13157894736842105 V\n",
      "Cambio escala a 1.3e-06\n"
     ]
    },
    {
     "name": "stderr",
     "output_type": "stream",
     "text": [
      "19it [04:33, 15.91s/it]"
     ]
    },
    {
     "name": "stdout",
     "output_type": "stream",
     "text": [
      "El offset cambio a 0.0 V\n"
     ]
    },
    {
     "name": "stderr",
     "output_type": "stream",
     "text": [
      "20it [04:46, 14.34s/it]\n"
     ]
    }
   ],
   "source": [
    "# Lista con los valores de offset a barrer\n",
    "offs_values = list(np.linspace(0,2.5,20))\n",
    "\n",
    "# Configurando la longitud de onda del medidor de potencia\n",
    "wavelength = input(\"En que longitud de onda vas a medir?\")\n",
    "power_meter.sense.correction.wavelength = float(wavelength)\n",
    "\n",
    "# Para empezar desde corrientes altas\n",
    "offs_values.reverse()\n",
    "\n",
    "# Amplitud de la señal\n",
    "scale_1 = 2\n",
    "# Diccionario para guardar las mediciones\n",
    "dic = {}\n",
    "# Saco el modo de rango de potencia automático\n",
    "power_meter.sense.power.dc.range.auto = \"OFF\" \n",
    "# Definimos la escala inicial del medidor de potencia\n",
    "POW_scale = 13e-2\n",
    "power_meter.sense.power.dc.range.upper = POW_scale\n",
    "for i, offset in tqdm(enumerate(offs_values)):\n",
    "    \n",
    "    # Cambiamos el offset de la señal\n",
    "    func.write(f\"OFFS {offset}\")\n",
    "    print(f\"El offset cambio a {offset} V\")\n",
    "    \n",
    "    # Cambiamos el trigger al valor medio de la señal del canal 1, que es una onda cuadrada\n",
    "    osc.write(\"TRIGGER:MAIN SetLevel\")\n",
    "    time.sleep(2)\n",
    "    \n",
    "    # Usamos los valores de la anterior medición para cambiar la escala y la posición vertical de la siguiente\n",
    "    if i >= 1:\n",
    "        # Cambiamos la posicion vertical de los canales\n",
    "        for ch in [1,2]:\n",
    "            if ch == 1:\n",
    "                scale = scale_1\n",
    "                # Agregamos una corrección para que el canal 1 quede centrado\n",
    "                correc_canal = 0.5\n",
    "            else:\n",
    "                scale = 0.05 # 100 mV\n",
    "                # Agregamos una corrección que no afecta al canal 2\n",
    "                correc_canal = 0\n",
    "                \n",
    "            # Cambiamos la posición vertical de las señales\n",
    "            offset_anterior = np.mean(dic[f\"{offs_values[i-1]}V\"][f\"V_{ch}\"])\n",
    "            correccion_posicion = -(offset_anterior-offset_anterior%0.005) - correc_canal\n",
    "            # La posición se selecciona eligiendo los cuadrados del osciloscopio\n",
    "            osc.write(f\"CH{ch}:POSition {correccion_posicion/scale}\")\n",
    "    \n",
    "\n",
    "    time.sleep(4)\n",
    "\n",
    "    # Definimos una lista cuyo promedio entra seguro en el while siguiente\n",
    "    valores_POW = [9.9e37]\n",
    "\n",
    "    contador_saturaciones = 0\n",
    "\n",
    "    # while np.mean(valores_POW) >= 9.9e36: # Vimos que cuando satura mide 9.99e37\n",
    "    #     if contador_saturaciones > 0:\n",
    "    #         print(f\"Saturé {contador_saturaciones} veces\")\n",
    "    #     # Medimos la potencia\n",
    "    #     valores_POW = np.array([power_meter.read for _ in range(1000)])\n",
    "\n",
    "    #     if np.mean(valores_POW)/POW_scale > 0.8: # Nos fijamos si el valor es el tanto % de la escala\n",
    "        \n",
    "    #         # Caso en que vamos aumentando la potencia\n",
    "    #         # Aumentamos la escala o disminuimos la escala\n",
    "    #         POW_scale *= 10\n",
    "    #         # La cambiamos en el medidor de potencia\n",
    "    #         power_meter.sense.power.dc.range.upper = POW_scale\n",
    "    #         time.sleep(4)\n",
    "    #     contador_saturaciones += 1\n",
    "\n",
    "    while np.mean(valores_POW) >= 9.9e36: # Vimos que cuando satura mide 9.99e37\n",
    "    \n",
    "        # Medimos la potencia\n",
    "        valores_POW = np.array([power_meter.read for _ in range(1000)])\n",
    "        if (np.mean(valores_POW)/POW_scale < 0.09): \n",
    "            # Disminuimos la escala\n",
    "            POW_scale /= 10 \n",
    "            print(f\"Cambio escala a {POW_scale}\")\n",
    "            # La cambiamos en el medidor de potencia\n",
    "            power_meter.sense.power.dc.range.upper = POW_scale\n",
    "            time.sleep(4)\n",
    "\n",
    "\n",
    "    # Tomamos mediciones de los canales\n",
    "    t_1, v_1 = medir_canal(osc,1)\n",
    "    t_2, v_2 = medir_canal(osc,2)\n",
    "    \n",
    "    # Guardamos los datos\n",
    "    dic[f\"{offset}V\"] = {\"t_1\":t_1, \"V_1\":v_1, \"t_2\":t_2, \"V_2\": v_2, \"POW\": valores_POW, \"POW_scale\": POW_scale}"
   ]
  },
  {
   "cell_type": "code",
   "execution_count": 191,
   "metadata": {},
   "outputs": [],
   "source": [
    "# Guardamos los datos en un .pickle\n",
    "pickle.dump(dic, open(f'../mediciones/Barrido para potencia infrarrojo total 2205.pickle', 'wb'))"
   ]
  },
  {
   "attachments": {},
   "cell_type": "markdown",
   "metadata": {},
   "source": [
    "# Mediciones de tiempo de respuesta del láser"
   ]
  },
  {
   "cell_type": "code",
   "execution_count": 55,
   "metadata": {},
   "outputs": [
    {
     "data": {
      "text/plain": [
       "8"
      ]
     },
     "execution_count": 55,
     "metadata": {},
     "output_type": "execute_result"
    }
   ],
   "source": [
    "# Offset de la señal (chequear que sea el que manda -300mA)\n",
    "offset = 2\n",
    "func.write(f'OFFS {offset}')\n",
    "\n",
    "# frecuencia de la cuadrada\n",
    "freq = 4\n",
    "func.write(f\"FREQ {freq}\")\n",
    "\n",
    "amp = 0.5\n",
    "func.write(f'AMPL {amp} VP')\n",
    "\n",
    "# Escala del osciloscopio\n",
    "#osc.write(f'HOR:SCA 0.5')\n",
    "# Para que mande una cuadrada\n",
    "func.write(\"FUNC 1\") \n",
    "\n",
    "# scale = 0.05\n",
    "# osc.write(f'CH1:SCALE {scale}')\n",
    "\n",
    "# correc_canal = 1\n",
    "# # Cambiamos la posición vertical de las señales\n",
    "# offset_anterior = offset\n",
    "# correccion_posicion = -(offset_anterior-offset_anterior%0.005) - correc_canal\n",
    "# # La posición se selecciona eligiendo los cuadrados del osciloscopio\n",
    "# osc.write(f\"CH1:POSition {0}\")"
   ]
  },
  {
   "cell_type": "code",
   "execution_count": null,
   "metadata": {},
   "outputs": [],
   "source": [
    "# Lista con los valores de amplitud a barrer\n",
    "amp_values = np.linspace(0, 0.5, 10)\n",
    "\n",
    "# Cambiamos la escala del canal 1 (la corriente del láser)\n",
    "scale_1 = 0.05\n",
    "osc.write(f'CH1:SCALE {scale_1}')\n",
    "osc.write(\"TRIGGER:MAIN SetLevel\")\n",
    "\n",
    "# Diccionario para guardar las mediciones\n",
    "dic = {}\n",
    "\n",
    "# time.sleep(?)\n",
    "t_sleep = 10\n",
    "\n",
    "for i, amp in tqdm(enumerate(amp_values)):\n",
    "    print(\"ESTA ES LA AMPLITUD\", amp)\n",
    "    # Cambiamos la amplitud de la señal\n",
    "    func.write(f\"AMPL {amp} VP\") # En formato \"AMP {valor_amplitud} {unidad, ej: VP:VPP, VR:VRMS}\"\n",
    "#     print(f\"La amplitud cambio a {amp} Vpp\")\n",
    "    \n",
    "    # Cambiamos el trigger al valor medio de la señal del canal 1, que es una onda cuadrada\n",
    "    osc.write(\"TRIGGER:MAIN SetLevel\")\n",
    "    time.sleep(t_sleep)\n",
    "    \n",
    "    # Usamos los valores de la anterior medición para cambiar la escala y la posición vertical de la siguiente\n",
    "    if i >= 1:\n",
    "        # Cambiamos la posicion vertical de los canales\n",
    "        for ch in [1,2]:\n",
    "            if ch == 1:\n",
    "                scale = scale_1\n",
    "                # Agregamos una corrección para que el canal 1 quede centrado\n",
    "                correc_canal = 0.5\n",
    "            else:\n",
    "#                 # Cambiamos la escala del canal 2\n",
    "#                 maximo = max(dic[f\"{offs_values[i-1]}V\"][f\"V_2\"])\n",
    "#                 minimo = min(dic[f\"{offs_values[i-1]}V\"][f\"V_2\"])\n",
    "#                 # Determinamos la amplitud de la cuadrada\n",
    "#                 amp = maximo-minimo\n",
    "#                 # Calculamos la escala y la cambiamos\n",
    "#                 scale = (2*amp/2)-(2*amp/2)%0.005\n",
    "#                 if scale != 0:\n",
    "#                     osc.write(f'CH2:SCALE {scale}')\n",
    "                scale = 0.05 # 50 mV\n",
    "                # Agregamos una corrección que no afecta al canal 2\n",
    "                correc_canal = 0\n",
    "                \n",
    "                \n",
    "            # Cambiamos la posición vertical de las señales\n",
    "            offset_anterior = np.mean(dic[f\"{offs_values[i-1]}V\"][f\"V_{ch}\"])\n",
    "            correccion_posicion = -(offset_anterior-offset_anterior%0.005) - correc_canal\n",
    "            # La posición se selecciona eligiendo los cuadrados del osciloscopio\n",
    "            osc.write(f\"CH{ch}:POSition {correccion_posicion/scale}\")\n",
    "        \n",
    "    time.sleep(t_sleep)\n",
    "    # Tomamos mediciones de los canales (canal 1 = fotodiodo, canal 2 = corriente)\n",
    "    t_1, v_1 = medir_canal(osc,1)\n",
    "    t_2, v_2 = medir_canal(osc,2)\n",
    "    \n",
    "    # Evitamos medir tensiones positivas, ya que sabemos que el \n",
    "    if np.mean(v_2) > 0:\n",
    "        print(\"Medí positivo\")\n",
    "    #    break\n",
    "    \n",
    "    # Guardamos los datos\n",
    "    dic[f\"{amp}V\"] = {\"t_1\":t_1, \"V_1\":v_1, \"t_2\":t_2, \"V_2\": v_2}"
   ]
  }
 ],
 "metadata": {
  "colab": {
   "provenance": []
  },
  "kernelspec": {
   "display_name": "Python 3 (ipykernel)",
   "language": "python",
   "name": "python3"
  },
  "language_info": {
   "codemirror_mode": {
    "name": "ipython",
    "version": 3
   },
   "file_extension": ".py",
   "mimetype": "text/x-python",
   "name": "python",
   "nbconvert_exporter": "python",
   "pygments_lexer": "ipython3",
   "version": "3.9.12"
  }
 },
 "nbformat": 4,
 "nbformat_minor": 1
}
