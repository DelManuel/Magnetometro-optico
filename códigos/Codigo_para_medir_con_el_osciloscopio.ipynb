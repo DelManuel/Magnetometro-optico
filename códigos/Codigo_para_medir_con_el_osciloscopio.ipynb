{
 "cells": [
  {
   "cell_type": "code",
   "execution_count": 1,
   "metadata": {
    "id": "bkmKSZrQlAjt"
   },
   "outputs": [],
   "source": [
    "import time\n",
    "from matplotlib import pyplot as plt\n",
    "import numpy as np\n",
    "import pyvisa as visa\n",
    "import pickle\n",
    "from tqdm import tqdm"
   ]
  },
  {
   "cell_type": "code",
   "execution_count": 2,
   "metadata": {},
   "outputs": [],
   "source": [
    "np.set_printoptions(threshold=8)\n",
    "\n",
    "def set_osc_acq(osc):\n",
    "    # Configuración de la adquisición de curvas\n",
    "    osc.write('DAT:ENC RPB')\n",
    "    osc.write('DAT:WID 1')\n",
    "    osc.write('DAT:STAR 1')\n",
    "    osc.write('DAT:STOP 2500')\n",
    "    osc.write('ACQ:MOD SAMP')\n",
    "\n",
    "def parse_parameters(wfmp_params):\n",
    "    \"\"\"Parsea la información de configuración de las escalas y las almacena en un diccionario.\n",
    "    Para después simplificar el gráfico de la curva.\"\"\"\n",
    "    result = {}\n",
    "    header_def = [('BYT_Nr', int),\n",
    "              ('BiT_Nr', int),\n",
    "              ('ENCdg', str),\n",
    "              ('BN_Fmt', str),\n",
    "              ('BYT_Or', str)]\n",
    "    wfrm1_def = [('WFID', str),\n",
    "             ('NR_PT', int),\n",
    "             ('PT_FMT', str),\n",
    "             ('XUNIT', str),\n",
    "             ('XINCR', float),\n",
    "             ('PT_Off', int),\n",
    "             ('YUNIT', str),\n",
    "             ('YMULT', float),\n",
    "             ('YOFf', float),\n",
    "             ('YZEro', float)]\n",
    "\n",
    "    full_def = header_def + [(f'wfm1:{k}', c) for k, c in wfrm1_def] \\\n",
    "           + [(f'wfm2:{k}', c) for k, c in wfrm1_def] \\\n",
    "           + [(f'wfm3:{k}', c) for k, c in wfrm1_def] \\\n",
    "           + [(f'wfm4:{k}', c) for k, c in wfrm1_def]\n",
    "    for (key, conversor), param in zip(full_def, wfmp_params.split(';')):\n",
    "        result[key] = conversor(param)\n",
    "    return result\n",
    "\n",
    "def escalar_curva(data, parametros):\n",
    "    \"\"\"Devuelve el par de vectores (t, v) a partir de la curva levantada del osciloscopio\n",
    "    y los parámetros de escala del mismo. El eje temporal está en ms y el vertical en Volts/\"\"\"\n",
    "    n = len(data)\n",
    "    t = 1e3 * (np.arange(n) - parametros['wfm1:PT_Off']) * parametros['wfm1:XINCR']\n",
    "\n",
    "    v = (data - parametros['wfm1:YOFf']) * parametros['wfm1:YMULT'] \\\n",
    "                    + parametros['wfm1:YZEro']\n",
    "    return t, v\n",
    "\n",
    "\n",
    "# Definimos una función para obtener los datos de uno de los canales del osciloscopio\n",
    "def medir_canal(osc, channel):\n",
    "    osc.write(f'DAT:SOU CH{channel}') # Adquirimos del canal \n",
    "    # La lectura se puede hacer en modo binario, lo que la hace más eficiente\n",
    "    conf_parameters = parse_parameters(osc.query('WFMP?'))\n",
    "    data = osc.query_binary_values('CURV?', datatype='B', container=np.array)\n",
    "    \n",
    "    # Escalamos los valores con las unidades correctas\n",
    "    t, v = escalar_curva(data, conf_parameters)\n",
    "    return t, v"
   ]
  },
  {
   "cell_type": "code",
   "execution_count": 3,
   "metadata": {
    "colab": {
     "base_uri": "https://localhost:8080/",
     "height": 235
    },
    "id": "AqZtzpX0Zj8F",
    "outputId": "c019be2a-9c49-4339-b640-da2de6d26f12"
   },
   "outputs": [
    {
     "name": "stdout",
     "output_type": "stream",
     "text": [
      "('GPIB0::1::INSTR', 'GPIB0::7::INSTR')\n"
     ]
    }
   ],
   "source": [
    "#%%\n",
    "# inicializo comunicacion con equipos\n",
    "rm = visa.ResourceManager()\n",
    "\n",
    "# lista de dispositivos conectados, para ver las id de los equipos\n",
    "print(rm.list_resources())"
   ]
  },
  {
   "cell_type": "code",
   "execution_count": 4,
   "metadata": {
    "id": "k161eqqP2K5g"
   },
   "outputs": [
    {
     "name": "stdout",
     "output_type": "stream",
     "text": [
      "MAIN;1000;5.0E1;5.0E-5;50;5.0E-5;RUNSAFTER;1.0E-8;1.0065E-6;LOCK;LOCK;0\n",
      "\n"
     ]
    }
   ],
   "source": [
    "# Abrimos el recurso de VISA, en este caso es un osciloscopio\n",
    "osc = rm.open_resource('GPIB0::7::INSTR')\n",
    "\n",
    "print(osc.query(\"HOR?\"))\n",
    "set_osc_acq(osc)\n",
    "\n",
    "func = rm.open_resource(\"GPIB0::1::INSTR\")"
   ]
  },
  {
   "cell_type": "markdown",
   "metadata": {},
   "source": [
    "# Celda para modificar directamente atributos del generador de funciones"
   ]
  },
  {
   "cell_type": "code",
   "execution_count": 45,
   "metadata": {},
   "outputs": [
    {
     "data": {
      "text/plain": [
       "12"
      ]
     },
     "execution_count": 45,
     "metadata": {},
     "output_type": "execute_result"
    }
   ],
   "source": [
    "# Para enviar una cuadrada\n",
    "#func.write(\"FUNC SQUARE\")\n",
    "# Amplitud de la señal\n",
    "func.write(\"AMPL 0.1 VP\") # En formato \"AMP {valor_amplitud} {unidad, ej: VP:VPP, VR:VRMS}\"\n",
    "# Offset de la señal\n",
    "func.write(\"OFFS 2.4\")\n",
    "# Frecuencia de la señal \n",
    "#func.write(\"FREQ 10000\")"
   ]
  },
  {
   "cell_type": "code",
   "execution_count": 68,
   "metadata": {},
   "outputs": [
    {
     "data": {
      "text/plain": [
       "12"
      ]
     },
     "execution_count": 68,
     "metadata": {},
     "output_type": "execute_result"
    }
   ],
   "source": [
    "# Offset de la señal\n",
    "offset = -0.25\n",
    "\n",
    "func.write(f\"OFFS {offset}\")"
   ]
  },
  {
   "cell_type": "code",
   "execution_count": 63,
   "metadata": {},
   "outputs": [
    {
     "data": {
      "text/plain": [
       "11"
      ]
     },
     "execution_count": 63,
     "metadata": {},
     "output_type": "execute_result"
    }
   ],
   "source": [
    "func.write(\"AMPL 0 VP\")"
   ]
  },
  {
   "cell_type": "markdown",
   "metadata": {},
   "source": [
    "## Barrido en amplitud"
   ]
  },
  {
   "cell_type": "code",
   "execution_count": 302,
   "metadata": {
    "scrolled": true
   },
   "outputs": [
    {
     "name": "stderr",
     "output_type": "stream",
     "text": [
      "\r",
      "0it [00:00, ?it/s]"
     ]
    },
    {
     "name": "stdout",
     "output_type": "stream",
     "text": [
      "La amplitud cambio a 0.1 V\n"
     ]
    },
    {
     "name": "stderr",
     "output_type": "stream",
     "text": [
      "\r",
      "1it [00:07,  7.51s/it]"
     ]
    },
    {
     "name": "stdout",
     "output_type": "stream",
     "text": [
      "La amplitud cambio a 0.1842105263157895 V\n"
     ]
    },
    {
     "name": "stderr",
     "output_type": "stream",
     "text": [
      "\r",
      "2it [00:15,  7.85s/it]"
     ]
    },
    {
     "name": "stdout",
     "output_type": "stream",
     "text": [
      "La amplitud cambio a 0.26842105263157895 V\n"
     ]
    },
    {
     "name": "stderr",
     "output_type": "stream",
     "text": [
      "\r",
      "3it [00:23,  7.70s/it]"
     ]
    },
    {
     "name": "stdout",
     "output_type": "stream",
     "text": [
      "La amplitud cambio a 0.3526315789473684 V\n"
     ]
    },
    {
     "name": "stderr",
     "output_type": "stream",
     "text": [
      "\r",
      "4it [00:30,  7.65s/it]"
     ]
    },
    {
     "name": "stdout",
     "output_type": "stream",
     "text": [
      "La amplitud cambio a 0.4368421052631579 V\n"
     ]
    },
    {
     "name": "stderr",
     "output_type": "stream",
     "text": [
      "\r",
      "5it [00:38,  7.63s/it]"
     ]
    },
    {
     "name": "stdout",
     "output_type": "stream",
     "text": [
      "La amplitud cambio a 0.5210526315789473 V\n"
     ]
    },
    {
     "name": "stderr",
     "output_type": "stream",
     "text": [
      "\r",
      "6it [00:45,  7.60s/it]"
     ]
    },
    {
     "name": "stdout",
     "output_type": "stream",
     "text": [
      "La amplitud cambio a 0.6052631578947368 V\n"
     ]
    },
    {
     "name": "stderr",
     "output_type": "stream",
     "text": [
      "\r",
      "7it [00:53,  7.59s/it]"
     ]
    },
    {
     "name": "stdout",
     "output_type": "stream",
     "text": [
      "La amplitud cambio a 0.6894736842105262 V\n"
     ]
    },
    {
     "name": "stderr",
     "output_type": "stream",
     "text": [
      "\r",
      "8it [01:00,  7.58s/it]"
     ]
    },
    {
     "name": "stdout",
     "output_type": "stream",
     "text": [
      "La amplitud cambio a 0.7736842105263158 V\n"
     ]
    },
    {
     "name": "stderr",
     "output_type": "stream",
     "text": [
      "\r",
      "9it [01:08,  7.58s/it]"
     ]
    },
    {
     "name": "stdout",
     "output_type": "stream",
     "text": [
      "La amplitud cambio a 0.8578947368421053 V\n"
     ]
    },
    {
     "name": "stderr",
     "output_type": "stream",
     "text": [
      "\r",
      "10it [01:16,  7.57s/it]"
     ]
    },
    {
     "name": "stdout",
     "output_type": "stream",
     "text": [
      "La amplitud cambio a 0.9421052631578947 V\n"
     ]
    },
    {
     "name": "stderr",
     "output_type": "stream",
     "text": [
      "\r",
      "11it [01:23,  7.58s/it]"
     ]
    },
    {
     "name": "stdout",
     "output_type": "stream",
     "text": [
      "La amplitud cambio a 1.0263157894736843 V\n"
     ]
    },
    {
     "name": "stderr",
     "output_type": "stream",
     "text": [
      "\r",
      "12it [01:31,  7.58s/it]"
     ]
    },
    {
     "name": "stdout",
     "output_type": "stream",
     "text": [
      "La amplitud cambio a 1.1105263157894738 V\n"
     ]
    },
    {
     "name": "stderr",
     "output_type": "stream",
     "text": [
      "\r",
      "13it [01:38,  7.55s/it]"
     ]
    },
    {
     "name": "stdout",
     "output_type": "stream",
     "text": [
      "La amplitud cambio a 1.1947368421052633 V\n"
     ]
    },
    {
     "name": "stderr",
     "output_type": "stream",
     "text": [
      "\r",
      "14it [01:46,  7.58s/it]"
     ]
    },
    {
     "name": "stdout",
     "output_type": "stream",
     "text": [
      "La amplitud cambio a 1.2789473684210526 V\n"
     ]
    },
    {
     "name": "stderr",
     "output_type": "stream",
     "text": [
      "\r",
      "15it [01:53,  7.56s/it]"
     ]
    },
    {
     "name": "stdout",
     "output_type": "stream",
     "text": [
      "La amplitud cambio a 1.3631578947368421 V\n"
     ]
    },
    {
     "name": "stderr",
     "output_type": "stream",
     "text": [
      "\r",
      "16it [02:01,  7.53s/it]"
     ]
    },
    {
     "name": "stdout",
     "output_type": "stream",
     "text": [
      "La amplitud cambio a 1.4473684210526316 V\n"
     ]
    },
    {
     "name": "stderr",
     "output_type": "stream",
     "text": [
      "\r",
      "17it [02:08,  7.53s/it]"
     ]
    },
    {
     "name": "stdout",
     "output_type": "stream",
     "text": [
      "La amplitud cambio a 1.5315789473684212 V\n"
     ]
    },
    {
     "name": "stderr",
     "output_type": "stream",
     "text": [
      "\r",
      "18it [02:16,  7.52s/it]"
     ]
    },
    {
     "name": "stdout",
     "output_type": "stream",
     "text": [
      "La amplitud cambio a 1.6157894736842107 V\n"
     ]
    },
    {
     "name": "stderr",
     "output_type": "stream",
     "text": [
      "\r",
      "19it [02:23,  7.51s/it]"
     ]
    },
    {
     "name": "stdout",
     "output_type": "stream",
     "text": [
      "La amplitud cambio a 1.7 V\n"
     ]
    },
    {
     "name": "stderr",
     "output_type": "stream",
     "text": [
      "20it [02:31,  7.57s/it]\n"
     ]
    }
   ],
   "source": [
    "# Offset de la señal\n",
    "offset = 2.4\n",
    "correccion_posicion = -2*offset\n",
    "func.write(f\"OFFS {offset}\")\n",
    "\n",
    "# Valores de amplitud que tomará la señal\n",
    "amp_values = np.linspace(0.1,1.7,20)\n",
    "# Creamos un diccionario para guardar las mediciones que tomamos\n",
    "dic = {}\n",
    "\n",
    "for i, amp in tqdm(enumerate(amp_values)):\n",
    "    # Cambiamos la amplitud de la señal en voltaje pico a pico\n",
    "    func.write(f\"AMPL {amp} VP\")\n",
    "    print(f\"La amplitud cambio a {amp} V\")\n",
    "    # Cambiamos el trigger al valor medio de la señal del canal 1, que es una onda cuadrada\n",
    "    osc.write(\"TRIGGER:MAIN SetLevel\")\n",
    "    time.sleep(4)\n",
    "    \n",
    "    # Usamos los valores de la anterior medición para cambiar la escala y la posición vertical de la siguiente\n",
    "    if i >= 1:\n",
    "        # Cambiamos la posicion vertical de los canales\n",
    "        #for ch in [1,2]:\n",
    "            #if ch == 1:\n",
    "        # Cambiamos la escala del canal 1\n",
    "        #scale = (2*amp/2)-(2*amp/2)%0.005\n",
    "        #osc.write(f'CH1:SCALE {scale}')\n",
    "        #osc.write(\"TRIGGER:MAIN SetLevel\")\n",
    "        # Cambiamos la posición vertical de las señales\n",
    "        # La posición se selecciona eligiendo los cuadrados del osciloscopio\n",
    "        osc.write(f\"CH1:POSition {correccion_posicion/scale}\")\n",
    "                \n",
    "            #else:\n",
    "              #  scale = 0.05 # 50 mV\n",
    "        \n",
    "    # Tomamos mediciones de los canales\n",
    "    t_1, v_1 = medir_canal(osc,1)\n",
    "    t_2, v_2 = medir_canal(osc,2)\n",
    "    \n",
    "    # Evitamos medir tensiones positivas, ya que sabemos que el laser funciona con corr < 0\n",
    "    if np.mean(v_2) > 0:\n",
    "        print(\"Medí positivo\")\n",
    "    #    break\n",
    "    \n",
    "    # Guardamos los datos\n",
    "    dic[f\"{amp}V\"] = {\"t_1\":t_1, \"V_1\":v_1, \"t_2\":t_2, \"V_2\": v_2}\n"
   ]
  },
  {
   "cell_type": "code",
   "execution_count": 303,
   "metadata": {},
   "outputs": [],
   "source": [
    "# Guardamos los datos en un .pickle\n",
    "pickle.dump(dic, open(f'../mediciones/Barrido en amplitud a {offset} V de offset.pickle', 'wb'))"
   ]
  },
  {
   "cell_type": "markdown",
   "metadata": {},
   "source": [
    "## Barrido en offset"
   ]
  },
  {
   "cell_type": "code",
   "execution_count": 222,
   "metadata": {},
   "outputs": [
    {
     "name": "stdout",
     "output_type": "stream",
     "text": [
      "2.499999999999999\n"
     ]
    }
   ],
   "source": [
    "a = offs_values[-5]\n",
    "func.write(f\"OFFS 2.4\")\n",
    "osc.write(\"TRIGGER:MAIN SetLevel\")\n",
    "print(a)"
   ]
  },
  {
   "cell_type": "code",
   "execution_count": 199,
   "metadata": {},
   "outputs": [
    {
     "data": {
      "text/plain": [
       "23"
      ]
     },
     "execution_count": 199,
     "metadata": {},
     "output_type": "execute_result"
    }
   ],
   "source": [
    "scale_1 = f'{(2*amp/2)-(2*amp/2)%0.005}'\n",
    "osc.write(f'CH1:SCALE {scale_1}')\n",
    "osc.write(\"TRIGGER:MAIN SetLevel\")"
   ]
  },
  {
   "cell_type": "code",
   "execution_count": 178,
   "metadata": {},
   "outputs": [
    {
     "data": {
      "text/plain": [
       "2.9473684210526314"
      ]
     },
     "execution_count": 178,
     "metadata": {},
     "output_type": "execute_result"
    }
   ],
   "source": [
    "\"En este encontramos que se rompe\"\n",
    "2.9473684210526314 "
   ]
  },
  {
   "cell_type": "code",
   "execution_count": 193,
   "metadata": {},
   "outputs": [
    {
     "data": {
      "text/plain": [
       "40"
      ]
     },
     "execution_count": 193,
     "metadata": {},
     "output_type": "execute_result"
    }
   ],
   "source": [
    "len(np.arange(-1,3,0.1))"
   ]
  },
  {
   "cell_type": "code",
   "execution_count": 196,
   "metadata": {},
   "outputs": [
    {
     "name": "stderr",
     "output_type": "stream",
     "text": [
      "\r",
      "0it [00:00, ?it/s]"
     ]
    },
    {
     "name": "stdout",
     "output_type": "stream",
     "text": [
      "ESTE ES EL OFFSET -1.0\n"
     ]
    },
    {
     "name": "stderr",
     "output_type": "stream",
     "text": [
      "\r",
      "1it [00:07,  7.58s/it]"
     ]
    },
    {
     "name": "stdout",
     "output_type": "stream",
     "text": [
      "ESTE ES EL OFFSET -0.9\n"
     ]
    },
    {
     "name": "stderr",
     "output_type": "stream",
     "text": [
      "\r",
      "2it [00:16,  8.28s/it]"
     ]
    },
    {
     "name": "stdout",
     "output_type": "stream",
     "text": [
      "ESTE ES EL OFFSET -0.8\n"
     ]
    },
    {
     "name": "stderr",
     "output_type": "stream",
     "text": [
      "\r",
      "3it [00:24,  8.11s/it]"
     ]
    },
    {
     "name": "stdout",
     "output_type": "stream",
     "text": [
      "ESTE ES EL OFFSET -0.7000000000000001\n"
     ]
    },
    {
     "name": "stderr",
     "output_type": "stream",
     "text": [
      "\r",
      "4it [00:32,  7.98s/it]"
     ]
    },
    {
     "name": "stdout",
     "output_type": "stream",
     "text": [
      "ESTE ES EL OFFSET -0.6000000000000001\n"
     ]
    },
    {
     "name": "stderr",
     "output_type": "stream",
     "text": [
      "\r",
      "5it [00:39,  7.93s/it]"
     ]
    },
    {
     "name": "stdout",
     "output_type": "stream",
     "text": [
      "ESTE ES EL OFFSET -0.5000000000000001\n"
     ]
    },
    {
     "name": "stderr",
     "output_type": "stream",
     "text": [
      "\r",
      "6it [00:47,  7.88s/it]"
     ]
    },
    {
     "name": "stdout",
     "output_type": "stream",
     "text": [
      "ESTE ES EL OFFSET -0.40000000000000013\n"
     ]
    },
    {
     "name": "stderr",
     "output_type": "stream",
     "text": [
      "\r",
      "7it [00:55,  7.87s/it]"
     ]
    },
    {
     "name": "stdout",
     "output_type": "stream",
     "text": [
      "ESTE ES EL OFFSET -0.30000000000000016\n"
     ]
    },
    {
     "name": "stderr",
     "output_type": "stream",
     "text": [
      "\r",
      "8it [01:03,  7.87s/it]"
     ]
    },
    {
     "name": "stdout",
     "output_type": "stream",
     "text": [
      "ESTE ES EL OFFSET -0.20000000000000018\n"
     ]
    },
    {
     "name": "stderr",
     "output_type": "stream",
     "text": [
      "\r",
      "9it [01:11,  7.96s/it]"
     ]
    },
    {
     "name": "stdout",
     "output_type": "stream",
     "text": [
      "ESTE ES EL OFFSET -0.1000000000000002\n"
     ]
    },
    {
     "name": "stderr",
     "output_type": "stream",
     "text": [
      "\r",
      "10it [01:19,  8.00s/it]"
     ]
    },
    {
     "name": "stdout",
     "output_type": "stream",
     "text": [
      "ESTE ES EL OFFSET -2.220446049250313e-16\n"
     ]
    },
    {
     "name": "stderr",
     "output_type": "stream",
     "text": [
      "\r",
      "11it [01:27,  7.93s/it]"
     ]
    },
    {
     "name": "stdout",
     "output_type": "stream",
     "text": [
      "ESTE ES EL OFFSET 0.09999999999999964\n"
     ]
    },
    {
     "name": "stderr",
     "output_type": "stream",
     "text": [
      "\r",
      "12it [01:35,  8.01s/it]"
     ]
    },
    {
     "name": "stdout",
     "output_type": "stream",
     "text": [
      "ESTE ES EL OFFSET 0.19999999999999973\n"
     ]
    },
    {
     "name": "stderr",
     "output_type": "stream",
     "text": [
      "\r",
      "13it [01:43,  7.94s/it]"
     ]
    },
    {
     "name": "stdout",
     "output_type": "stream",
     "text": [
      "ESTE ES EL OFFSET 0.2999999999999998\n"
     ]
    },
    {
     "name": "stderr",
     "output_type": "stream",
     "text": [
      "\r",
      "14it [01:51,  7.89s/it]"
     ]
    },
    {
     "name": "stdout",
     "output_type": "stream",
     "text": [
      "ESTE ES EL OFFSET 0.3999999999999997\n"
     ]
    },
    {
     "name": "stderr",
     "output_type": "stream",
     "text": [
      "\r",
      "15it [01:58,  7.87s/it]"
     ]
    },
    {
     "name": "stdout",
     "output_type": "stream",
     "text": [
      "ESTE ES EL OFFSET 0.49999999999999956\n"
     ]
    },
    {
     "name": "stderr",
     "output_type": "stream",
     "text": [
      "\r",
      "16it [02:06,  7.83s/it]"
     ]
    },
    {
     "name": "stdout",
     "output_type": "stream",
     "text": [
      "ESTE ES EL OFFSET 0.5999999999999996\n"
     ]
    },
    {
     "name": "stderr",
     "output_type": "stream",
     "text": [
      "\r",
      "17it [02:14,  7.82s/it]"
     ]
    },
    {
     "name": "stdout",
     "output_type": "stream",
     "text": [
      "ESTE ES EL OFFSET 0.6999999999999997\n"
     ]
    },
    {
     "name": "stderr",
     "output_type": "stream",
     "text": [
      "\r",
      "18it [02:22,  7.81s/it]"
     ]
    },
    {
     "name": "stdout",
     "output_type": "stream",
     "text": [
      "ESTE ES EL OFFSET 0.7999999999999996\n"
     ]
    },
    {
     "name": "stderr",
     "output_type": "stream",
     "text": [
      "\r",
      "19it [02:30,  7.90s/it]"
     ]
    },
    {
     "name": "stdout",
     "output_type": "stream",
     "text": [
      "ESTE ES EL OFFSET 0.8999999999999995\n"
     ]
    },
    {
     "name": "stderr",
     "output_type": "stream",
     "text": [
      "\r",
      "20it [02:38,  8.00s/it]"
     ]
    },
    {
     "name": "stdout",
     "output_type": "stream",
     "text": [
      "ESTE ES EL OFFSET 0.9999999999999996\n"
     ]
    },
    {
     "name": "stderr",
     "output_type": "stream",
     "text": [
      "\r",
      "21it [02:46,  7.92s/it]"
     ]
    },
    {
     "name": "stdout",
     "output_type": "stream",
     "text": [
      "ESTE ES EL OFFSET 1.0999999999999996\n"
     ]
    },
    {
     "name": "stderr",
     "output_type": "stream",
     "text": [
      "\r",
      "22it [02:54,  7.88s/it]"
     ]
    },
    {
     "name": "stdout",
     "output_type": "stream",
     "text": [
      "ESTE ES EL OFFSET 1.1999999999999993\n"
     ]
    },
    {
     "name": "stderr",
     "output_type": "stream",
     "text": [
      "\r",
      "23it [03:02,  7.88s/it]"
     ]
    },
    {
     "name": "stdout",
     "output_type": "stream",
     "text": [
      "ESTE ES EL OFFSET 1.2999999999999994\n"
     ]
    },
    {
     "name": "stderr",
     "output_type": "stream",
     "text": [
      "\r",
      "24it [03:09,  7.85s/it]"
     ]
    },
    {
     "name": "stdout",
     "output_type": "stream",
     "text": [
      "ESTE ES EL OFFSET 1.3999999999999995\n"
     ]
    },
    {
     "name": "stderr",
     "output_type": "stream",
     "text": [
      "\r",
      "25it [03:17,  7.78s/it]"
     ]
    },
    {
     "name": "stdout",
     "output_type": "stream",
     "text": [
      "ESTE ES EL OFFSET 1.4999999999999996\n"
     ]
    },
    {
     "name": "stderr",
     "output_type": "stream",
     "text": [
      "\r",
      "26it [03:25,  7.90s/it]"
     ]
    },
    {
     "name": "stdout",
     "output_type": "stream",
     "text": [
      "ESTE ES EL OFFSET 1.5999999999999996\n"
     ]
    },
    {
     "name": "stderr",
     "output_type": "stream",
     "text": [
      "\r",
      "27it [03:33,  7.86s/it]"
     ]
    },
    {
     "name": "stdout",
     "output_type": "stream",
     "text": [
      "ESTE ES EL OFFSET 1.6999999999999993\n"
     ]
    },
    {
     "name": "stderr",
     "output_type": "stream",
     "text": [
      "\r",
      "28it [03:41,  7.86s/it]"
     ]
    },
    {
     "name": "stdout",
     "output_type": "stream",
     "text": [
      "ESTE ES EL OFFSET 1.7999999999999994\n"
     ]
    },
    {
     "name": "stderr",
     "output_type": "stream",
     "text": [
      "\r",
      "29it [03:48,  7.83s/it]"
     ]
    },
    {
     "name": "stdout",
     "output_type": "stream",
     "text": [
      "ESTE ES EL OFFSET 1.8999999999999995\n"
     ]
    },
    {
     "name": "stderr",
     "output_type": "stream",
     "text": [
      "\r",
      "30it [03:56,  7.76s/it]"
     ]
    },
    {
     "name": "stdout",
     "output_type": "stream",
     "text": [
      "ESTE ES EL OFFSET 1.9999999999999991\n"
     ]
    },
    {
     "name": "stderr",
     "output_type": "stream",
     "text": [
      "\r",
      "31it [04:04,  7.90s/it]"
     ]
    },
    {
     "name": "stdout",
     "output_type": "stream",
     "text": [
      "ESTE ES EL OFFSET 2.099999999999999\n"
     ]
    },
    {
     "name": "stderr",
     "output_type": "stream",
     "text": [
      "\r",
      "32it [04:12,  7.86s/it]"
     ]
    },
    {
     "name": "stdout",
     "output_type": "stream",
     "text": [
      "ESTE ES EL OFFSET 2.1999999999999993\n"
     ]
    },
    {
     "name": "stderr",
     "output_type": "stream",
     "text": [
      "\r",
      "33it [04:20,  7.84s/it]"
     ]
    },
    {
     "name": "stdout",
     "output_type": "stream",
     "text": [
      "ESTE ES EL OFFSET 2.2999999999999994\n"
     ]
    },
    {
     "name": "stderr",
     "output_type": "stream",
     "text": [
      "\r",
      "34it [04:28,  7.84s/it]"
     ]
    },
    {
     "name": "stdout",
     "output_type": "stream",
     "text": [
      "ESTE ES EL OFFSET 2.3999999999999995\n"
     ]
    },
    {
     "name": "stderr",
     "output_type": "stream",
     "text": [
      "\r",
      "35it [04:36,  7.93s/it]"
     ]
    },
    {
     "name": "stdout",
     "output_type": "stream",
     "text": [
      "ESTE ES EL OFFSET 2.499999999999999\n"
     ]
    },
    {
     "name": "stderr",
     "output_type": "stream",
     "text": [
      "\r",
      "36it [04:43,  7.83s/it]"
     ]
    },
    {
     "name": "stdout",
     "output_type": "stream",
     "text": [
      "ESTE ES EL OFFSET 2.599999999999999\n"
     ]
    },
    {
     "name": "stderr",
     "output_type": "stream",
     "text": [
      "\r",
      "37it [04:51,  7.74s/it]"
     ]
    },
    {
     "name": "stdout",
     "output_type": "stream",
     "text": [
      "ESTE ES EL OFFSET 2.6999999999999993\n"
     ]
    },
    {
     "name": "stderr",
     "output_type": "stream",
     "text": [
      "\r",
      "38it [04:59,  7.71s/it]"
     ]
    },
    {
     "name": "stdout",
     "output_type": "stream",
     "text": [
      "ESTE ES EL OFFSET 2.799999999999999\n"
     ]
    },
    {
     "name": "stderr",
     "output_type": "stream",
     "text": [
      "\r",
      "39it [05:06,  7.69s/it]"
     ]
    },
    {
     "name": "stdout",
     "output_type": "stream",
     "text": [
      "ESTE ES EL OFFSET 2.899999999999999\n"
     ]
    },
    {
     "name": "stderr",
     "output_type": "stream",
     "text": [
      "40it [05:14,  7.86s/it]"
     ]
    },
    {
     "name": "stdout",
     "output_type": "stream",
     "text": [
      "Medí positivo\n"
     ]
    },
    {
     "name": "stderr",
     "output_type": "stream",
     "text": [
      "\n"
     ]
    }
   ],
   "source": [
    "# Lista con los valores de offset a barrer\n",
    "offs_values = np.arange(-1,3,0.1)\n",
    "\n",
    "# Amplitud de la señal\n",
    "amp = 1\n",
    "func.write(f\"AMPL {amp} VP\") # En formato \"AMP {valor_amplitud} {unidad, ej: VP:VPP, VR:VRMS}\"\n",
    "# Cambiamos la escala del canal 1\n",
    "scale_1 = (2*amp/2)-(2*amp/2)%0.005\n",
    "osc.write(f'CH1:SCALE {scale_1}')\n",
    "osc.write(\"TRIGGER:MAIN SetLevel\")\n",
    "\n",
    "# Diccionario para guardar las mediciones\n",
    "dic = {}\n",
    "\n",
    "for i, offset in tqdm(enumerate(offs_values)):\n",
    "    print(\"ESTE ES EL OFFSET\", offset)\n",
    "    # Cambiamos el offset de la señal\n",
    "    func.write(f\"OFFS {offset}\")\n",
    "    #print(f\"El offset cambio a {offset} V\")\n",
    "    \n",
    "    # Cambiamos el trigger al valor medio de la señal del canal 1, que es una onda cuadrada\n",
    "    osc.write(\"TRIGGER:MAIN SetLevel\")\n",
    "    time.sleep(4)\n",
    "    \n",
    "    # Usamos los valores de la anterior medición para cambiar la escala y la posición vertical de la siguiente\n",
    "    if i >= 1:\n",
    "        # Cambiamos la posicion vertical de los canales\n",
    "        for ch in [1,2]:\n",
    "            if ch == 1:\n",
    "                scale = scale_1\n",
    "                # Agregamos una corrección para que el canal 1 quede centrado\n",
    "                correc_canal = 0.5\n",
    "            else:\n",
    "#                 # Cambiamos la escala del canal 2\n",
    "#                 maximo = max(dic[f\"{offs_values[i-1]}V\"][f\"V_2\"])\n",
    "#                 minimo = min(dic[f\"{offs_values[i-1]}V\"][f\"V_2\"])\n",
    "#                 # Determinamos la amplitud de la cuadrada\n",
    "#                 amp = maximo-minimo\n",
    "#                 # Calculamos la escala y la cambiamos\n",
    "#                 scale = (2*amp/2)-(2*amp/2)%0.005\n",
    "#                 if scale != 0:\n",
    "#                     osc.write(f'CH2:SCALE {scale}')\n",
    "                scale = 0.05 # 50 mV\n",
    "                # Agregamos una corrección que no afecta al canal 2\n",
    "                correc_canal = 0\n",
    "                \n",
    "                \n",
    "            \n",
    "            # Cambiamos la posición vertical de las señales\n",
    "            offset_anterior = np.mean(dic[f\"{offs_values[i-1]}V\"][f\"V_{ch}\"])\n",
    "            correccion_posicion = -(offset_anterior-offset_anterior%0.005) - correc_canal\n",
    "            # La posición se selecciona eligiendo los cuadrados del osciloscopio\n",
    "            osc.write(f\"CH{ch}:POSition {correccion_posicion/scale}\")\n",
    "        \n",
    "        \n",
    "    # Tomamos mediciones de los canales\n",
    "    t_1, v_1 = medir_canal(osc,1)\n",
    "    t_2, v_2 = medir_canal(osc,2)\n",
    "    \n",
    "    # Evitamos medir tensiones positivas, ya que sabemos que el \n",
    "    if np.mean(v_2) > 0:\n",
    "        print(\"Medí positivo\")\n",
    "    #    break\n",
    "    \n",
    "    # Guardamos los datos\n",
    "    dic[f\"{offset}V\"] = {\"t_1\":t_1, \"V_1\":v_1, \"t_2\":t_2, \"V_2\": v_2}\n"
   ]
  },
  {
   "cell_type": "code",
   "execution_count": 197,
   "metadata": {},
   "outputs": [],
   "source": [
    "# Guardamos los datos en un .pickle\n",
    "pickle.dump(dic, open(f'../mediciones/Barrido fino en offsets a {amp} V de amp.pickle 2', 'wb'))"
   ]
  },
  {
   "cell_type": "markdown",
   "metadata": {},
   "source": [
    "## Barrido en frecuencias"
   ]
  },
  {
   "cell_type": "code",
   "execution_count": 64,
   "metadata": {},
   "outputs": [
    {
     "name": "stdout",
     "output_type": "stream",
     "text": [
      "La frecuencia cambió a 9000.0\n",
      "La frecuencia cambió a 9142.857142857143\n",
      "La frecuencia cambió a 9285.714285714286\n",
      "La frecuencia cambió a 9428.57142857143\n",
      "La frecuencia cambió a 9571.42857142857\n",
      "La frecuencia cambió a 9714.285714285714\n",
      "La frecuencia cambió a 9857.142857142857\n",
      "La frecuencia cambió a 10000.0\n",
      "La frecuencia cambió a 10142.857142857143\n",
      "La frecuencia cambió a 10285.714285714286\n",
      "La frecuencia cambió a 10428.57142857143\n",
      "La frecuencia cambió a 10571.428571428572\n",
      "La frecuencia cambió a 10714.285714285714\n",
      "La frecuencia cambió a 10857.142857142857\n",
      "La frecuencia cambió a 11000.0\n"
     ]
    }
   ],
   "source": [
    "freq_list = np.linspace(9000, 11000, 15)\n",
    "\n",
    "for freq in tqdm(freq_list):\n",
    "    \n",
    "    func.write(f\"FREQ {freq}\")\n",
    "    #print(f\"La frecuencia cambió a {freq}\")\n",
    "    time.sleep(10)\n",
    "\n",
    "print(\"\\n Terminó el barrido\")"
   ]
  }
 ],
 "metadata": {
  "colab": {
   "provenance": []
  },
  "kernelspec": {
   "display_name": "Python 3 (ipykernel)",
   "language": "python",
   "name": "python3"
  },
  "language_info": {
   "codemirror_mode": {
    "name": "ipython",
    "version": 3
   },
   "file_extension": ".py",
   "mimetype": "text/x-python",
   "name": "python",
   "nbconvert_exporter": "python",
   "pygments_lexer": "ipython3",
   "version": "3.9.12"
  }
 },
 "nbformat": 4,
 "nbformat_minor": 1
}
