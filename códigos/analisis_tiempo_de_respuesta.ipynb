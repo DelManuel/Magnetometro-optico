{
 "cells": [
  {
   "cell_type": "code",
   "execution_count": 1,
   "id": "c626acf4",
   "metadata": {},
   "outputs": [],
   "source": [
    "import numpy as np\n",
    "import matplotlib.pyplot as plt\n",
    "import pickle\n",
    "from scipy.optimize import curve_fit\n",
    "plt.style.use(\"bmh\")\n"
   ]
  },
  {
   "cell_type": "code",
   "execution_count": null,
   "id": "a06608eb",
   "metadata": {},
   "outputs": [],
   "source": [
    "# Cargamos los datos\n",
    "with open(file_name, \"rb\") as f:\n",
    "    dic = pickle.load(f)\n",
    "# Hago una lista con los valores de offset que alimentamos con el generador de funciones\n",
    "offs_values_keys = list(dic.keys())\n",
    "# Valores de corriente en mA\n",
    "corr_values = [np.mean(dic[offset][\"V_2\"])*1000 for offset in offs_values_keys]\n",
    "# Le sacamos la \"V\" a las keys\n",
    "offs_values = [float(offset[:-1]) for offset in offs_values_keys]"
   ]
  },
  {
   "cell_type": "code",
   "execution_count": null,
   "id": "3ef5d21d",
   "metadata": {},
   "outputs": [],
   "source": [
    "def cargar_datos(file_name : str) -> list:\n",
    "\n",
    "    # Cargamos los datos\n",
    "    with open(file_name, \"rb\") as f:\n",
    "        dic = pickle.load(f)\n",
    "    # Hago una lista con los valores de offset que alimentamos con el generador de funciones\n",
    "    amp_values_keys = list(dic.keys())\n",
    "    # Valores de corriente en mA\n",
    "    corr_values = [np.mean(dic[amp][\"V_2\"])*1000 for amp in amp_values_keys]\n",
    "    # Le sacamos la \"V\" a las keys\n",
    "    offs_values = [float(offset[:-1]) for offset in offs_values_keys]\n",
    "\n",
    "    # Creamos una lista para guardar todos los datos que nos interesan\n",
    "    lista_mediciones = [offs_values, corr_values]\n",
    "\n",
    "    # Mediciones de la intensidad de luz (fotodiodo)\n",
    "    fd_values = [np.mean(dic[amp][\"FD\"])*1000 for offset in offs_values_keys] # Potencia en mW\n",
    "    fd_var_values = [np.std(dic[amp][\"FD\"])*1000 for offset in offs_values_keys] # Potencia en mW\n",
    "\n",
    "    lista_mediciones.append(fd_values)\n",
    "    lista_mediciones.append(fd_var_values)\n",
    "\n",
    "    return lista_mediciones"
   ]
  }
 ],
 "metadata": {
  "kernelspec": {
   "display_name": "Python 3 (ipykernel)",
   "language": "python",
   "name": "python3"
  },
  "language_info": {
   "codemirror_mode": {
    "name": "ipython",
    "version": 3
   },
   "file_extension": ".py",
   "mimetype": "text/x-python",
   "name": "python",
   "nbconvert_exporter": "python",
   "pygments_lexer": "ipython3",
   "version": "3.9.12"
  }
 },
 "nbformat": 4,
 "nbformat_minor": 5
}
