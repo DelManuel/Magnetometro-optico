{
 "cells": [
  {
   "cell_type": "code",
   "execution_count": 2,
   "id": "231337d1",
   "metadata": {},
   "outputs": [],
   "source": [
    "import numpy as np\n",
    "from scipy.constants import c"
   ]
  },
  {
   "cell_type": "code",
   "execution_count": 14,
   "id": "59943b3e",
   "metadata": {},
   "outputs": [
    {
     "name": "stdout",
     "output_type": "stream",
     "text": [
      "0.00013194689145077127\n"
     ]
    }
   ],
   "source": [
    "# FDS100: C = 2.4e-11 F\n",
    "# FDS010: C = 6e-11\n",
    "R = 1000\n",
    "C = 6e-11\n",
    "\n",
    "f_BW = 1/(2*np.pi*R*C)\n",
    "lambda_BW = (c/f_BW)*1e9\n",
    "t_R = 0.35/f_BW #6.6e-6\n",
    "\n",
    "print(t_R*1000)"
   ]
  }
 ],
 "metadata": {
  "kernelspec": {
   "display_name": "Python 3 (ipykernel)",
   "language": "python",
   "name": "python3"
  },
  "language_info": {
   "codemirror_mode": {
    "name": "ipython",
    "version": 3
   },
   "file_extension": ".py",
   "mimetype": "text/x-python",
   "name": "python",
   "nbconvert_exporter": "python",
   "pygments_lexer": "ipython3",
   "version": "3.9.12"
  }
 },
 "nbformat": 4,
 "nbformat_minor": 5
}
