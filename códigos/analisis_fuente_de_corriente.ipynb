{
 "cells": [
  {
   "cell_type": "code",
   "execution_count": 112,
   "id": "a7ea89cb",
   "metadata": {},
   "outputs": [],
   "source": [
    "import numpy as np\n",
    "import matplotlib.pyplot as plt\n",
    "import pickle\n",
    "from scipy.optimize import curve_fit\n",
    "from scipy.stats import chisquare\n",
    "from scipy.signal import find_peaks"
   ]
  },
  {
   "cell_type": "code",
   "execution_count": null,
   "id": "bfe5f71b",
   "metadata": {},
   "outputs": [],
   "source": [
    "def cargar_datos(file_name : str, pow_measure = False) -> list:\n",
    "\n",
    "    # Cargamos los datos\n",
    "    with open(file_name, \"rb\") as f:\n",
    "        dic = pickle.load(f)\n",
    "    # Hago una lista con los valores de offset que alimentamos con el generador de funciones\n",
    "    offs_values_keys = list(dic.keys())\n",
    "    # Valores de corriente en mA\n",
    "    corr_values = [np.mean(dic[offset][\"V_2\"])*1000 for offset in offs_values_keys]\n",
    "    # Verdaderos valores de continua\n",
    "    offs_true_values = [np.mean(dic[offset][\"V_1\"]) for offset in offs_values_keys]\n",
    "    # Le sacamos la \"V\" a las keys\n",
    "    offs_values = [float(offset[:-1]) for offset in offs_values_keys]\n",
    "\n",
    "    # Creamos una lista para guardar todos los datos que nos interesan\n",
    "    lista_mediciones = [offs_values, offs_true_values, corr_values]\n",
    "\n",
    "    # Mediciones de la potencia\n",
    "    if pow_measure:\n",
    "        POW_values = [np.mean(dic[offset][\"POW\"])*1000 for offset in offs_values_keys] # Potencia en mW\n",
    "        POW_var_values = [np.std(dic[offset][\"POW\"])*1000 for offset in offs_values_keys] # Potencia en mW\n",
    "\n",
    "        lista_mediciones.append(POW_values)\n",
    "        lista_mediciones.append(POW_var_values)\n",
    "    return lista_mediciones"
   ]
  },
  {
   "cell_type": "code",
   "execution_count": null,
   "id": "9c64cecf",
   "metadata": {},
   "outputs": [],
   "source": [
    "file_name = '../mediciones/D.D/Barrido continua a 0 V de amp sobre R.pickle'\n",
    "\n",
    "offs_values, offs_true_values, corr_values, _= cargar_datos(file_name, pow_measure = False)"
   ]
  },
  {
   "attachments": {},
   "cell_type": "markdown",
   "id": "ed4b8a42",
   "metadata": {},
   "source": [
    "# Chequeo de relaciones entre los voltajes"
   ]
  },
  {
   "cell_type": "code",
   "execution_count": null,
   "id": "23f95073",
   "metadata": {},
   "outputs": [],
   "source": [
    "def lineal(x, a, b): return a*x+b\n",
    "\n",
    "# Utilizo curve_fit() para el ajuste\n",
    "popt, pcov = curve_fit(lineal, offs_values, offs_true_values)\n",
    "\n",
    "# Imprimo en pantalla los valores de popt y pcov\n",
    "a, b = popt\n",
    "err_a, err_b = np.sqrt(np.diag(pcov))\n",
    "print(\"Los parametros de ajuste son:\")\n",
    "print(f'a: {a} ± {err_a}')\n",
    "print(f'b: {b} ± {err_b}')"
   ]
  },
  {
   "cell_type": "code",
   "execution_count": null,
   "id": "03c229a4",
   "metadata": {},
   "outputs": [],
   "source": [
    "plt.plot(offs_values, offs_true_values, \".m\",ms = 10, label = \"Datos\")\n",
    "plt.plot(offs_values, lineal(np.array(offs_values),a,b), \"--k\", label = \"Ajuste\")\n",
    "plt.xlabel(\"Offset del generador de funciones (V)\")\n",
    "plt.ylabel(\"Offset medido (V)\")\n",
    "plt.legend()\n",
    "plt.grid()\n",
    "plt.show()"
   ]
  },
  {
   "attachments": {},
   "cell_type": "markdown",
   "id": "7d7a2260",
   "metadata": {},
   "source": [
    "# Análisis de la fuente de corriente"
   ]
  },
  {
   "cell_type": "code",
   "execution_count": null,
   "id": "f6807357",
   "metadata": {},
   "outputs": [],
   "source": [
    "def lineal(x, a, b): return a*np.array(x)+b\n",
    "\n",
    "# Utilizo curve_fit() para el ajuste\n",
    "popt, pcov = curve_fit(lineal, offs_true_values, corr_values)\n",
    "\n",
    "# Imprimo en pantalla los valores de popt y pcov\n",
    "a, b = popt\n",
    "err_a, err_b = np.sqrt(np.diag(pcov))\n",
    "print(\"Los parametros de ajuste son:\")\n",
    "print(f'a: {a} ± {err_a}')\n",
    "print(f'b: {b} ± {err_b}')\n",
    "\n",
    "ajuste_lineal = lineal(offs_true_values,a,b)"
   ]
  },
  {
   "cell_type": "code",
   "execution_count": null,
   "id": "17419157",
   "metadata": {},
   "outputs": [],
   "source": [
    "plt.plot(offs_true_values, corr_values,\".b\", ms = 10, label = \"Datos\")\n",
    "plt.plot(offs_true_values, ajuste_lineal,\"--g\", label = \"Ajuste lineal\" )\n",
    "plt.ylabel(\"Valor medio de la corriente (mA)\")\n",
    "plt.xlabel(\"Offset medido (V)\")\n",
    "plt.legend()\n",
    "plt.grid()\n",
    "plt.show()"
   ]
  },
  {
   "cell_type": "code",
   "execution_count": null,
   "id": "7e691b92",
   "metadata": {},
   "outputs": [],
   "source": [
    "chisquare(corr_values, ajuste_lineal)"
   ]
  },
  {
   "attachments": {},
   "cell_type": "markdown",
   "id": "b56821dc",
   "metadata": {},
   "source": [
    "Cosas a estudiar"
   ]
  },
  {
   "cell_type": "code",
   "execution_count": null,
   "id": "b39469a9",
   "metadata": {},
   "outputs": [],
   "source": [
    "# Valor medio de respuesta vs. amplitud de alimentacion\n",
    "# Valor medio de respuesta vs. offset de alimentacion\n",
    "# Amplitud de respuesta vs. amplitud de alimentacion\n",
    "# Amplitud de respuesta vs. offset de alimentacion\n",
    "# frecuencia de respuesta vs. frecuencia de alimentacion"
   ]
  },
  {
   "cell_type": "code",
   "execution_count": null,
   "id": "6267d211",
   "metadata": {},
   "outputs": [],
   "source": [
    "# Cargamos los datos\n",
    "with open(f\"..\\mediciones\\Barrido para potencia rojo 2104.pickle\", \"rb\") as f:\n",
    "    dic = pickle.load(f)"
   ]
  },
  {
   "cell_type": "code",
   "execution_count": null,
   "id": "71ebfedb",
   "metadata": {},
   "outputs": [],
   "source": [
    "# Hago una lista con los valores de offset que alimentamos con el generador de funciones\n",
    "offs_values = list(dic.keys())\n",
    "print(offs_values)\n",
    "# Valores de corriente en mA\n",
    "corr_values = [np.mean(dic[offset][\"V_2\"])*1000 for offset in offs_values]\n",
    "print(corr_values)"
   ]
  },
  {
   "cell_type": "code",
   "execution_count": null,
   "id": "ab87bc8a",
   "metadata": {},
   "outputs": [],
   "source": [
    "volt = offs_values[-1]\n",
    "\n",
    "t_1, v_1 = dic[volt][\"t_1\"], dic[volt][\"V_1\"]\n",
    "t_2, v_2 = dic[volt][\"t_2\"], dic[volt][\"V_2\"]\n",
    "\n",
    "\n",
    "fig, axs = plt.subplots(ncols = 2, figsize = (10,4))\n",
    "axs[0].plot(t_1,v_1, color = \"b\")\n",
    "axs[0].set_xlabel(\"Tiempo (s)\")\n",
    "axs[1].plot(t_2,v_2, color = \"orange\")\n",
    "axs[1].set_xlabel(\"Tiempo (s)\")\n",
    "axs[0].set_ylabel(\"Voltaje (V)\")\n",
    "axs[0].set_title(\"Canal 1\")\n",
    "axs[0].grid()\n",
    "axs[1].set_title(\"Canal 2\")\n",
    "axs[1].grid()\n",
    "plt.show()"
   ]
  },
  {
   "attachments": {},
   "cell_type": "markdown",
   "id": "1367af76",
   "metadata": {},
   "source": [
    "# Tiempo de respuesta de una cuadrada de 10 kHz"
   ]
  },
  {
   "cell_type": "code",
   "execution_count": null,
   "id": "8ce05556",
   "metadata": {},
   "outputs": [],
   "source": [
    "file_name = '../mediciones/D.D/Tiempo respuesta fuente AMP0.5 FREQ10000 OFFS1 2.pickle'\n",
    "\n",
    "# Cargamos los datos\n",
    "with open(file_name, \"rb\") as f:\n",
    "    dic = pickle.load(f)\n",
    "\n",
    "t_1,V_1,t_2,V_2 = [dic[\"1V\"][key] for key in dic[\"1V\"].keys()]"
   ]
  },
  {
   "cell_type": "code",
   "execution_count": null,
   "id": "11d06596",
   "metadata": {},
   "outputs": [],
   "source": [
    "fig,axs = plt.subplots(ncols = 2, figsize = (10,6))\n",
    "\n",
    "axs[0].plot(t_1[:],V_1[:])\n",
    "axs[1].plot(t_2[:],V_2[:])\n",
    "plt.show()"
   ]
  },
  {
   "cell_type": "code",
   "execution_count": null,
   "id": "3af5ccfe",
   "metadata": {},
   "outputs": [],
   "source": [
    "min(t_2),max(t_2)"
   ]
  },
  {
   "cell_type": "code",
   "execution_count": null,
   "id": "9003d402",
   "metadata": {},
   "outputs": [],
   "source": [
    "new_t_2, new_V_2 = t_2[525:], V_2[525:]"
   ]
  },
  {
   "cell_type": "code",
   "execution_count": null,
   "id": "27129866",
   "metadata": {},
   "outputs": [],
   "source": [
    "# Ajuste exponencial\n",
    "def exp(x, Amp, frec, y_0): return Amp*np.exp(-frec*x) + y_0\n",
    "\n",
    "# Utilizo curve_fit() para el ajuste\n",
    "popt, pcov = curve_fit(exp, new_t_2, new_V_2, p0 = [1,400,-1], maxfev = 5000)\n",
    "\n",
    "# Imprimo en pantalla los valores de popt y pcov\n",
    "A, B, C = popt\n",
    "err_A, err_B, err_C = np.sqrt(np.diag(pcov))\n",
    "print(\"Los parametros de ajuste son:\")\n",
    "print(f'A: {A} ± {err_A}')\n",
    "print(f'B: {B} ± {err_B}')\n",
    "print(f'C: {C} ± {err_C}')\n",
    "\n",
    "\n",
    "exponencial = exp(np.array(new_t_2),A,B,C)"
   ]
  },
  {
   "cell_type": "code",
   "execution_count": null,
   "id": "da154a74",
   "metadata": {},
   "outputs": [],
   "source": [
    "plt.plot(new_t_2,new_V_2,label = \"Mediciones\")\n",
    "plt.plot(new_t_2,exponencial, label = \"Ajuste\")\n",
    "plt.grid()\n",
    "plt.legend(fontsize = 12)\n",
    "plt.xlabel(\"Tiempo\")\n",
    "plt.ylabel(\"Tensión/Corriente\")\n",
    "plt.show()"
   ]
  },
  {
   "cell_type": "code",
   "execution_count": null,
   "id": "f905e0a1",
   "metadata": {},
   "outputs": [],
   "source": [
    "t_rta = 1/B\n",
    "print(f\"El tiempo de respuesta son {round(t_rta*1000,3)} ms\")"
   ]
  },
  {
   "attachments": {},
   "cell_type": "markdown",
   "id": "d6c03ffc",
   "metadata": {},
   "source": [
    "# Análisis de Fourier de la cuadrada de 10 kHz"
   ]
  },
  {
   "cell_type": "code",
   "execution_count": 100,
   "id": "cb279b1e",
   "metadata": {},
   "outputs": [],
   "source": [
    "file_name = '../mediciones/D.D/Cuadrada AMP1 FREQ10000 OFFS2.pickle'\n",
    "\n",
    "# Cargamos los datos\n",
    "with open(file_name, \"rb\") as f:\n",
    "    dic = pickle.load(f)\n",
    "\n",
    "t_1,V_1,t_2,V_2 = [dic[\"2V\"][key] for key in dic[\"2V\"].keys()]\n",
    "t_1, t_2 = t_1/1000, t_2/1000 # Porque mide en milisegundos"
   ]
  },
  {
   "cell_type": "code",
   "execution_count": 101,
   "id": "19589ed8",
   "metadata": {},
   "outputs": [],
   "source": [
    "def fourier(t: np.ndarray, v: np.ndarray) -> np.ndarray:\n",
    "\n",
    "    # Le restamos el valor medio\n",
    "    v = v-np.mean(v)\n",
    "\n",
    "    transformada_0 = np.fft.fft(v)\n",
    "\n",
    "    largo = len(t) # miro la cantidad de elementos que tiene el vector de ts\n",
    "    d_t = np.mean(np.diff(t)) # miro los diferenciales de t entre mediciones\n",
    "    frecuencia = np.fft.fftfreq(largo,d_t)\n",
    "    frecuencia_max = 1/d_t # pregunta: ¿tiene sentido que la frecuencia máxima sea esta y no otra?\n",
    "    # frecuencia = np.linspace(0, frecuencia_max, largo) # mi vector de frecuencias va de cero hasta la frecuencia máxima\n",
    "    #y es del mismo largo que todos las demás\n",
    "    transformada_a = np.abs(transformada_0) # le tomo el valor absoluto a la transformada,\n",
    "\n",
    "    frecuencia = frecuencia[np.arange(largo//2)]\n",
    "    transformada_a = transformada_a[np.arange(largo//2)]\n",
    "\n",
    "    return frecuencia, transformada_a\n"
   ]
  },
  {
   "cell_type": "code",
   "execution_count": 125,
   "id": "82b577a1",
   "metadata": {},
   "outputs": [
    {
     "data": {
      "image/png": "[encoded data removed]",
      "text/plain": [
       "<Figure size 1000x600 with 1 Axes>"
      ]
     },
     "metadata": {},
     "output_type": "display_data"
    }
   ],
   "source": [
    "fig,ax = plt.subplots(figsize = (10,6))\n",
    "\n",
    "\n",
    "ax.set_xlabel('Frecuencia (Hz)')\n",
    "ax.set_ylabel('Amplitud')\n",
    "\n",
    "frec_1, tf_1 = fourier(t_1,V_1)\n",
    "tf_1 = tf_1/max(tf_1)\n",
    "ax.plot(frec_1, tf_1, label='V_1')\n",
    "\n",
    "frec_2, tf_2 = fourier(t_2,V_2)\n",
    "tf_2 = tf_2/max(tf_2)\n",
    "ax.plot(frec_2, tf_2, label='V_2')\n",
    "ax.vlines(10000,ymin = 0,ymax= 1, ls = \"--\", color = \"k\", label = \"10 kHz\")\n",
    "ax.grid(True)\n",
    "ax.legend(fontsize = 14)\n",
    "plt.show()"
   ]
  },
  {
   "cell_type": "code",
   "execution_count": 130,
   "id": "a1e8b38d",
   "metadata": {},
   "outputs": [
    {
     "data": {
      "image/png": "[encoded data removed]",
      "text/plain": [
       "<Figure size 640x480 with 1 Axes>"
      ]
     },
     "metadata": {},
     "output_type": "display_data"
    }
   ],
   "source": [
    "peaks_1, _ = find_peaks(tf_1, distance= 15)\n",
    "\n",
    "\n",
    "\n",
    "peaks_2, _ = find_peaks(tf_2, distance= 15)\n",
    "\n",
    "frec_peaks = frec_1[peaks_1]\n",
    "tf_1_peaks = tf_1[peaks_1]\n",
    "tf_2_peaks = tf_2[peaks_2]\n",
    "\n",
    "plt.plot(frec_peaks,tf_1_peaks,\"+\")\n",
    "plt.plot(frec_peaks,tf_2_peaks,\"+\")\n",
    "plt.xlabel(\"Frecuencia (Hz)\")\n",
    "plt.ylabel(\"Amplitud\")\n",
    "plt.grid()\n",
    "plt.show()"
   ]
  },
  {
   "cell_type": "code",
   "execution_count": 137,
   "id": "e7e3f710",
   "metadata": {},
   "outputs": [
    {
     "data": {
      "image/png": "[encoded data removed]",
      "text/plain": [
       "<Figure size 640x480 with 1 Axes>"
      ]
     },
     "metadata": {},
     "output_type": "display_data"
    }
   ],
   "source": [
    "plt.plot(frec_peaks/1000, tf_2_peaks/tf_1_peaks, \".\")\n",
    "plt.xlabel(\"Frecuencia (kHz)\")\n",
    "plt.ylabel(\"Amplitud\")\n",
    "plt.grid()\n",
    "plt.show()"
   ]
  },
  {
   "attachments": {},
   "cell_type": "markdown",
   "id": "47724a77",
   "metadata": {},
   "source": [
    "# Relación entre offset seteado y offset medido"
   ]
  },
  {
   "cell_type": "code",
   "execution_count": null,
   "id": "93fc1474",
   "metadata": {},
   "outputs": [],
   "source": [
    "offs_true_values = [np.mean(dic[offset][\"V_1\"]) for offset in offs_values]\n",
    "\n",
    "offs_values_new = []\n",
    "for offset in offs_values:\n",
    "    new_offset = offset[:-1]\n",
    "    offs_values_new.append(float(new_offset))\n",
    "\n",
    "print(\"Valores del generador\",offs_values_new)\n",
    "#print(\"Valores Viejos\", offs_values)\n",
    "print(\"Valores medidos\", offs_true_values)"
   ]
  },
  {
   "cell_type": "code",
   "execution_count": null,
   "id": "b4e965ac",
   "metadata": {},
   "outputs": [],
   "source": [
    "def lineal(x, a, b): return a*x+b\n",
    "\n",
    "# Utilizo curve_fit() para el ajuste\n",
    "popt, pcov = curve_fit(lineal, offs_values_new, offs_true_values)\n",
    "\n",
    "# Imprimo en pantalla los valores de popt y pcov\n",
    "a, b = popt\n",
    "err_a, err_b = np.sqrt(np.diag(pcov))\n",
    "print(\"Los parametros de ajuste son:\")\n",
    "print(f'a: {a} ± {err_a}')\n",
    "print(f'b: {b} ± {err_b}')"
   ]
  },
  {
   "attachments": {},
   "cell_type": "markdown",
   "id": "81d4a156",
   "metadata": {},
   "source": [
    "Hay diferencias recién en la 3ra y 4ta cifra significativa."
   ]
  },
  {
   "cell_type": "code",
   "execution_count": null,
   "id": "a5b6ebce",
   "metadata": {},
   "outputs": [],
   "source": [
    "plt.plot(offs_values_new, offs_true_values, \".m\",ms = 10, label = \"Datos\")\n",
    "plt.plot(offs_values_new, lineal(np.array(offs_values_new),a,b), \"--k\", label = \"Ajuste\")\n",
    "plt.xlabel(\"Offset del generador de funciones (V)\")\n",
    "plt.ylabel(\"Offset medido (V)\")\n",
    "plt.legend()\n",
    "plt.grid()\n",
    "plt.show()"
   ]
  },
  {
   "attachments": {},
   "cell_type": "markdown",
   "id": "959face0",
   "metadata": {},
   "source": [
    "# Relación entre offset de la alimentación y valor medio de corriente medido"
   ]
  },
  {
   "cell_type": "code",
   "execution_count": null,
   "id": "4ccbbfa8",
   "metadata": {},
   "outputs": [],
   "source": [
    "plt.plot(offs_true_values[:], corr_values[:],\".b\", ms = 10, label = \"Datos\")\n",
    "#plt.plot(offs_true_values[:], corr_values[:],\".b\", ms = 10, label = \"Datos\")\n",
    "plt.ylabel(\"Valor medio de la corriente (mA)\")\n",
    "plt.xlabel(\"Offset medido (V)\")\n",
    "plt.legend()\n",
    "plt.grid()\n",
    "plt.show()"
   ]
  },
  {
   "cell_type": "code",
   "execution_count": null,
   "id": "55ff9f0f",
   "metadata": {},
   "outputs": [],
   "source": [
    "# Ajuste cuadrático\n",
    "def cuad(x, A, B, C): return A*x**2 + B*x + C\n",
    "\n",
    "# Utilizo curve_fit() para el ajuste\n",
    "popt, pcov = curve_fit(cuad, offs_true_values[:], corr_values[:])\n",
    "\n",
    "# Imprimo en pantalla los valores de popt y pcov\n",
    "A, B, C = popt\n",
    "err_A, err_B, err_C = np.sqrt(np.diag(pcov))\n",
    "print(\"Los parametros de ajuste son:\")\n",
    "print(f'A: {A} ± {err_A}')\n",
    "print(f'B: {B} ± {err_B}')\n",
    "print(f'C: {C} ± {err_C}')\n",
    "\n",
    "cuadratica = cuad(np.array(offs_true_values[:]),A,B,C)"
   ]
  },
  {
   "cell_type": "code",
   "execution_count": null,
   "id": "a00ac0be",
   "metadata": {},
   "outputs": [],
   "source": [
    "# Ajuste lineal\n",
    "def lin(x, A, B): return A*x+B\n",
    "\n",
    "# Utilizo curve_fit() para el ajuste\n",
    "popt, pcov = curve_fit(lin, offs_true_values[:], corr_values[:])\n",
    "\n",
    "# Imprimo en pantalla los valores de popt y pcov\n",
    "A, B = popt\n",
    "err_A, err_B = np.sqrt(np.diag(pcov))\n",
    "print(\"Los parametros de ajuste son:\")\n",
    "print(f'A: {A} ± {err_A}')\n",
    "print(f'B: {B} ± {err_B}')\n",
    "\n",
    "lineal = lin(np.array(offs_true_values[:]),A,B)"
   ]
  },
  {
   "cell_type": "code",
   "execution_count": null,
   "id": "f5971972",
   "metadata": {},
   "outputs": [],
   "source": [
    "# Ajuste exponencial\n",
    "def exp(x, Amp, frec, y_0): return Amp*np.exp(frec*x) + y_0\n",
    "\n",
    "# Utilizo curve_fit() para el ajuste\n",
    "popt, pcov = curve_fit(exp, offs_true_values[:], corr_values[:], )\n",
    "\n",
    "# Imprimo en pantalla los valores de popt y pcov\n",
    "A, B, C = popt\n",
    "err_A, err_B, err_C = np.sqrt(np.diag(pcov))\n",
    "print(\"Los parametros de ajuste son:\")\n",
    "print(f'A: {A} ± {err_A}')\n",
    "print(f'B: {B} ± {err_B}')\n",
    "print(f'C: {C} ± {err_C}')\n",
    "\n",
    "\n",
    "exponencial = exp(np.array(offs_true_values[:]),A,B,C)"
   ]
  },
  {
   "cell_type": "code",
   "execution_count": null,
   "id": "9ab56729",
   "metadata": {},
   "outputs": [],
   "source": [
    "plt.plot(offs_true_values[:], corr_values[:],\".b\", ms = 10, label = \"Datos\")\n",
    "plt.plot(offs_true_values[:], cuadratica, \"--k\", label = \"Ajuste cuadrático\")\n",
    "plt.plot(offs_true_values[:], exponencial, \"--r\", label = \"Ajuste exponencial\")\n",
    "plt.plot(offs_true_values, lineal,\"--g\", label = \"Ajuste lineal\" )\n",
    "plt.ylabel(\"Valor medio de la corriente (mA)\")\n",
    "plt.xlabel(\"Offset medido (V)\")\n",
    "plt.legend()\n",
    "plt.grid()\n",
    "plt.show()"
   ]
  },
  {
   "attachments": {},
   "cell_type": "markdown",
   "id": "c00ecc11",
   "metadata": {},
   "source": [
    "## Para obtener los valores de corriente para hacer un barrido y que quede lineal"
   ]
  },
  {
   "cell_type": "code",
   "execution_count": null,
   "id": "8b66f68c",
   "metadata": {},
   "outputs": [],
   "source": [
    "corri_values = np.linspace(-400,-100,50)\n",
    "volt_values = ((np.log((corri_values-C)/A)/B)-b)/a # Voltaje de alimentación del generador\n",
    "print(list(volt_values))\n",
    "plt.plot(volt_values,corri_values,\".-\")\n",
    "plt.ylabel(\"Valor de la corriente (mA)\")\n",
    "plt.xlabel(\"Valor de tensión del generador (V)\")\n",
    "plt.grid()\n",
    "plt.show()"
   ]
  },
  {
   "attachments": {},
   "cell_type": "markdown",
   "id": "de794fdd",
   "metadata": {},
   "source": [
    "# Barrido en amplitud"
   ]
  },
  {
   "cell_type": "code",
   "execution_count": null,
   "id": "73be0771",
   "metadata": {},
   "outputs": [],
   "source": [
    "volt = amp_values[-1]\n",
    "\n",
    "condicion_maximo_1 = np.where(dic[volt][\"V_1\"]> np.mean(dic[volt][\"V_1\"]))\n",
    "lista_maximos_1 = dic[volt][\"V_1\"][condicion_maximo_1]\n",
    "tiempos_maximos_1 = dic[volt][\"t_1\"][condicion_maximo_1]\n",
    "\n",
    "condicion_maximo_2 = np.where(dic[volt][\"V_2\"] > np.mean(dic[volt][\"V_2\"]))\n",
    "lista_maximos_2 = dic[volt][\"V_2\"][condicion_maximo_2]\n",
    "tiempos_maximos_2 = dic[volt][\"t_2\"][condicion_maximo_2]\n",
    "\n",
    "\n",
    "condicion_minimo_2 = np.where(dic[volt][\"V_2\"] < np.mean(dic[volt][\"V_2\"]))\n",
    "lista_minimos_2 = dic[volt][\"V_2\"][condicion_minimo_2]\n",
    "tiempos_minimos_2 = dic[volt][\"t_2\"][condicion_minimo_2]"
   ]
  },
  {
   "cell_type": "code",
   "execution_count": null,
   "id": "728dd132",
   "metadata": {},
   "outputs": [],
   "source": [
    "t_1, v_1 = dic[volt][\"t_1\"], dic[volt][\"V_1\"]\n",
    "t_2, v_2 = dic[volt][\"t_2\"], dic[volt][\"V_2\"]\n",
    "\n",
    "\n",
    "fig, axs = plt.subplots(ncols = 2, figsize = (10,4))\n",
    "axs[1].axhline(np.mean(lista_maximos_2), ls = \"--\", c = \"k\")\n",
    "axs[1].axhline(np.mean(lista_minimos_2), ls = \"--\", c = \"k\")\n",
    "\n",
    "axs[0].plot(t_1,v_1, color = \"b\")\n",
    "axs[0].set_xlabel(\"Tiempo (s)\")\n",
    "axs[1].plot(t_2,v_2, color = \"orange\")\n",
    "axs[1].set_xlabel(\"Tiempo (s)\")\n",
    "axs[0].set_ylabel(\"Voltaje (V)\")\n",
    "axs[0].set_title(\"Canal 1\")\n",
    "axs[0].grid()\n",
    "axs[1].set_title(\"Canal 2\")\n",
    "axs[1].grid()\n",
    "\n",
    "plt.show()\n"
   ]
  },
  {
   "cell_type": "code",
   "execution_count": null,
   "id": "e10d6850",
   "metadata": {},
   "outputs": [],
   "source": [
    "lista_amp_alim = []\n",
    "lista_amp_corr = []\n",
    "\n",
    "for amp in amp_values:\n",
    "    \n",
    "    # Calculamos la amplitud de la cuadrada con la que alimentamos\n",
    "    condicion_maximo_1 = np.where(dic[amp][\"V_1\"]> np.mean(dic[amp][\"V_1\"]))\n",
    "    lista_maximos_1 = dic[amp][\"V_1\"][condicion_maximo_1]\n",
    "    tiempos_maximos_1 = dic[amp][\"t_1\"][condicion_maximo_1]\n",
    "    \n",
    "    condicion_minimo_1 = np.where(dic[amp][\"V_1\"] < np.mean(dic[amp][\"V_1\"]))\n",
    "    lista_minimos_1 = dic[amp][\"V_1\"][condicion_minimo_1]\n",
    "    tiempos_minimos_1 = dic[amp][\"t_1\"][condicion_minimo_1]\n",
    "    \n",
    "    # Calculamos la amplitud del generador de corriente\n",
    "    condicion_maximo_2 = np.where(dic[amp][\"V_2\"] > np.mean(dic[amp][\"V_2\"]))\n",
    "    lista_maximos_2 = dic[amp][\"V_2\"][condicion_maximo_2]\n",
    "    tiempos_maximos_2 = dic[amp][\"t_2\"][condicion_maximo_2]\n",
    "\n",
    "    condicion_minimo_2 = np.where(dic[amp][\"V_2\"] < np.mean(dic[amp][\"V_2\"]))\n",
    "    lista_minimos_2 = dic[amp][\"V_2\"][condicion_minimo_2]\n",
    "    tiempos_minimos_2 = dic[amp][\"t_2\"][condicion_minimo_2]\n",
    "    \n",
    "    amp_alim = np.mean(lista_maximos_1)-np.mean(lista_minimos_1)\n",
    "    amp_corr = np.mean(lista_maximos_2)-np.mean(lista_minimos_2)\n",
    "    \n",
    "    lista_amp_alim.append(amp_alim) \n",
    "    lista_amp_corr.append(amp_corr*1000) # Lo pasamos a mA\n",
    "    "
   ]
  },
  {
   "cell_type": "code",
   "execution_count": null,
   "id": "5db69ece",
   "metadata": {},
   "outputs": [],
   "source": [
    "plt.plot(lista_amp_alim[:],lista_amp_corr[:],\".\", c = \"b\")\n",
    "plt.xlabel(\"Amplitud de alimentación (V)\")\n",
    "plt.ylabel(\"Amplitud en corriente (mA)\")\n",
    "plt.grid()\n",
    "plt.show()"
   ]
  },
  {
   "cell_type": "code",
   "execution_count": null,
   "id": "e78bc9ef",
   "metadata": {},
   "outputs": [],
   "source": [
    "lista_corr_med = [np.mean(dic[amp][\"V_2\"]) for amp in amp_values]\n",
    "\n",
    "plt.plot(lista_amp_alim[:-1],lista_corr_med[:-1],\".\", c = \"b\")\n",
    "plt.title(\"Offset aprox 4.8 V\", fontsize = 16)\n",
    "plt.xlabel(\"Amplitud de alimentación (V)\")\n",
    "plt.ylabel(\"Amplitud en corriente (mA)\")\n",
    "plt.grid()\n",
    "plt.show()"
   ]
  },
  {
   "cell_type": "code",
   "execution_count": null,
   "id": "7c86d9bc",
   "metadata": {},
   "outputs": [],
   "source": [
    "# Cargamos los datos\n",
    "with open(f\"../mediciones/Barrido en amplitud a 2.4 V de offset.pickle\", \"rb\") as f:\n",
    "    dic = pickle.load(f)"
   ]
  },
  {
   "cell_type": "code",
   "execution_count": null,
   "id": "fb2b7e06",
   "metadata": {},
   "outputs": [],
   "source": [
    "# Hago una lista con los valores de offset que alimentamos con el generador de funciones\n",
    "amp_values = list(dic.keys())\n",
    "print(offs_values)\n",
    "# Valores de corriente en mA\n",
    "corr_values = [np.mean(dic[amp][\"V_2\"])*1000 for amp in amp_values]\n",
    "print(corr_values)"
   ]
  },
  {
   "cell_type": "code",
   "execution_count": null,
   "id": "6a243fc6",
   "metadata": {},
   "outputs": [],
   "source": [
    "amp_values_new = []\n",
    "for amp in amp_values:\n",
    "    new_amp = amp[:-1]\n",
    "    amp_values_new.append(float(new_amp))\n",
    "\n",
    "print(\"Valores del generador\", amp_values_new)"
   ]
  },
  {
   "cell_type": "code",
   "execution_count": null,
   "id": "6629f437",
   "metadata": {},
   "outputs": [],
   "source": [
    "plt.plot(amp_values_new, amp_true_values, \".m\",ms = 10, label = \"Datos\")\n",
    "#plt.plot(amp_values_new, lineal(np.array(offs_values_new),a,b), \"--k\", label = \"Ajuste\")\n",
    "plt.xlabel(\"Offset del generador de funciones (V)\")\n",
    "plt.ylabel(\"Offset medido (V)\")\n",
    "plt.legend()\n",
    "plt.grid()\n",
    "plt.show()"
   ]
  },
  {
   "cell_type": "code",
   "execution_count": null,
   "id": "f9164a20",
   "metadata": {},
   "outputs": [],
   "source": []
  },
  {
   "cell_type": "code",
   "execution_count": null,
   "id": "b1f0c908",
   "metadata": {},
   "outputs": [],
   "source": []
  }
 ],
 "metadata": {
  "kernelspec": {
   "display_name": "Python 3 (ipykernel)",
   "language": "python",
   "name": "python3"
  },
  "language_info": {
   "codemirror_mode": {
    "name": "ipython",
    "version": 3
   },
   "file_extension": ".py",
   "mimetype": "text/x-python",
   "name": "python",
   "nbconvert_exporter": "python",
   "pygments_lexer": "ipython3",
   "version": "3.9.12"
  }
 },
 "nbformat": 4,
 "nbformat_minor": 5
}
