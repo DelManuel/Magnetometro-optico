{
 "cells": [
  {
   "cell_type": "code",
   "execution_count": 1,
   "id": "a7ea89cb",
   "metadata": {},
   "outputs": [],
   "source": [
    "import numpy as np\n",
    "import matplotlib.pyplot as plt"
   ]
  },
  {
   "cell_type": "code",
   "execution_count": null,
   "id": "b39469a9",
   "metadata": {},
   "outputs": [],
   "source": [
    "X = np.linspace(0,6*np.pi,1000)\n",
    "\n",
    "alim = np.sin(X)\n",
    "resp = 0.3*alim - 3\n",
    "\n",
    "# Valor medio de respuesta vs. amplitud de alimentacion\n",
    "# Valor medio de respuesta vs. offset de alimentacion\n",
    "# Amplitud de respuesta vs. amplitud de alimentacion\n",
    "# Amplitud de respuesta vs. offset de alimentacion\n",
    "# frecuencia de respuesta vs. frecuencia de alimentacion"
   ]
  }
 ],
 "metadata": {
  "kernelspec": {
   "display_name": "Python 3 (ipykernel)",
   "language": "python",
   "name": "python3"
  },
  "language_info": {
   "codemirror_mode": {
    "name": "ipython",
    "version": 3
   },
   "file_extension": ".py",
   "mimetype": "text/x-python",
   "name": "python",
   "nbconvert_exporter": "python",
   "pygments_lexer": "ipython3",
   "version": "3.9.12"
  }
 },
 "nbformat": 4,
 "nbformat_minor": 5
}
