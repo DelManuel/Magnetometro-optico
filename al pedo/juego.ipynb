{
 "cells": [
  {
   "cell_type": "code",
   "execution_count": 1,
   "metadata": {},
   "outputs": [],
   "source": [
    "import random\n",
    "import numpy as np"
   ]
  },
  {
   "cell_type": "code",
   "execution_count": 12,
   "metadata": {},
   "outputs": [
    {
     "name": "stdout",
     "output_type": "stream",
     "text": [
      "Empate debido a que ambos tiraron Papel\n"
     ]
    }
   ],
   "source": [
    "# Diccionario con la opción y su debilidad\n",
    "dic = {\"Piedra\": \"Papel\", \"Papel\": \"Tijera\", \"Tijera\": \"Piedra\"}\n",
    "lista = list(dic.keys())\n",
    "\n",
    "tirada_maquina = random.choice(lista)\n",
    "tirada_jugador = input(\"Que vas a elegir?\")\n",
    "\n",
    "if tirada_jugador not in lista:\n",
    "    print(\"No es una opción válida, volvé a tirar\")\n",
    "    raise NameError  \n",
    "elif tirada_jugador == tirada_maquina:\n",
    "    print(f\"Empate debido a que ambos tiraron {tirada_jugador}\")\n",
    "elif dic[tirada_jugador] == tirada_maquina:\n",
    "    print(f\"Perdiste :( yo tire {tirada_maquina} y vos {tirada_jugador}\")\n",
    "else:\n",
    "    print(f\"Ganaste! Tiraste {tirada_jugador} y yo tiré {tirada_maquina}\")"
   ]
  },
  {
   "cell_type": "code",
   "execution_count": 13,
   "metadata": {},
   "outputs": [
    {
     "name": "stdout",
     "output_type": "stream",
     "text": [
      "('0', '0')\n",
      "0 0 X\n",
      "['X', '', '']\n",
      "['', '', '']\n",
      "['', '', '']\n",
      "('0', '1')\n",
      "0 1 O\n",
      "['X', 'O', '']\n",
      "['', '', '']\n",
      "['', '', '']\n",
      "('1', '1')\n",
      "1 1 X\n",
      "['X', 'O', '']\n",
      "['', 'X', '']\n",
      "['', '', '']\n",
      "('0', '2')\n",
      "0 2 O\n",
      "['X', 'O', 'O']\n",
      "['', 'X', '']\n",
      "['', '', '']\n",
      "('2', '2')\n",
      "2 2 X\n",
      "['X', 'O', 'O']\n",
      "['', 'X', '']\n",
      "['', '', 'X']\n",
      "('1', '2')\n",
      "1 2 O\n",
      "['X', 'O', 'O']\n",
      "['', 'X', 'O']\n",
      "['', '', 'X']\n",
      "('2', '2')\n",
      "2 2 X\n",
      "['X', 'O', 'O']\n",
      "['', 'X', 'O']\n",
      "['', '', 'X']\n",
      "('2', '2')\n",
      "2 2 O\n",
      "['X', 'O', 'O']\n",
      "['', 'X', 'O']\n",
      "['', '', 'O']\n",
      "('0', '1')\n",
      "0 1 X\n",
      "['X', 'X', 'O']\n",
      "['', 'X', 'O']\n",
      "['', '', 'O']\n"
     ]
    }
   ],
   "source": [
    "tablero_suma = 16*np.ones((3,3))\n",
    "tablero_juego = [[\"\",\"\",\"\"] for i in range(3)]\n",
    "turno = 0\n",
    "\n",
    "while turno < 9:\n",
    "\n",
    "    jugada = tuple(input(\"En que posición vas a colocar?\"))\n",
    "    print(jugada)\n",
    "    if turno%2 == 0:\n",
    "        # Sos cruz\n",
    "        marcador = (0, \"X\")\n",
    "    else:\n",
    "        marcador = (1,\"O\")\n",
    "\n",
    "    print(jugada[0], jugada[1], marcador[1])\n",
    "    tablero_suma[int(jugada[0]), int(jugada[1])] = marcador[0]\n",
    "    tablero_juego[int(jugada[0])][int(jugada[1])] = marcador[1]\n",
    "\n",
    "    for fila in tablero_suma:\n",
    "        if sum(fila) == 0:\n",
    "            print(\"Ganó el jugador cruz!\")\n",
    "            break\n",
    "        elif sum(fila) == 3:\n",
    "            print(\"Ganó el jugador círculo!\")\n",
    "            \n",
    "    print(tablero_juego[0])\n",
    "    print(tablero_juego[1])\n",
    "    print(tablero_juego[2])\n",
    "    turno +=1"
   ]
  },
  {
   "cell_type": "code",
   "execution_count": 53,
   "metadata": {},
   "outputs": [
    {
     "ename": "ValueError",
     "evalue": "could not convert string to float: 'X'",
     "output_type": "error",
     "traceback": [
      "\u001b[1;31m---------------------------------------------------------------------------\u001b[0m",
      "\u001b[1;31mValueError\u001b[0m                                Traceback (most recent call last)",
      "Cell \u001b[1;32mIn[53], line 1\u001b[0m\n\u001b[1;32m----> 1\u001b[0m tablero_juego[\u001b[39m0\u001b[39;49m][\u001b[39m0\u001b[39;49m] \u001b[39m=\u001b[39m \u001b[39m\"\u001b[39m\u001b[39mX\u001b[39m\u001b[39m\"\u001b[39m\n\u001b[0;32m      2\u001b[0m tablero_juego\n",
      "\u001b[1;31mValueError\u001b[0m: could not convert string to float: 'X'"
     ]
    }
   ],
   "source": [
    "tablero_juego[0][0] = \"X\"\n",
    "tablero_juego"
   ]
  }
 ],
 "metadata": {
  "kernelspec": {
   "display_name": "base",
   "language": "python",
   "name": "python3"
  },
  "language_info": {
   "codemirror_mode": {
    "name": "ipython",
    "version": 3
   },
   "file_extension": ".py",
   "mimetype": "text/x-python",
   "name": "python",
   "nbconvert_exporter": "python",
   "pygments_lexer": "ipython3",
   "version": "3.10.4"
  },
  "orig_nbformat": 4
 },
 "nbformat": 4,
 "nbformat_minor": 2
}
