{
 "cells": [
  {
   "cell_type": "code",
   "execution_count": 2,
   "id": "231337d1",
   "metadata": {},
   "outputs": [],
   "source": [
    "import numpy as np\n",
    "from scipy.constants import c"
   ]
  },
  {
   "attachments": {},
   "cell_type": "markdown",
   "id": "a8aa726e",
   "metadata": {},
   "source": [
    "# Tiempo de respuesta del diodo"
   ]
  },
  {
   "cell_type": "code",
   "execution_count": 15,
   "id": "59943b3e",
   "metadata": {},
   "outputs": [
    {
     "name": "stdout",
     "output_type": "stream",
     "text": [
      "2652.5823848649225 kHz 131.9468914507713 ns\n"
     ]
    }
   ],
   "source": [
    "# FDS100: C = 2.4e-11 F\n",
    "# FDS010: C = 6e-11\n",
    "\n",
    "nro = '010'\n",
    "R = 1000\n",
    "fotodiodo = 'FDS' + nro\n",
    "capacidades = {\"FDS010\": 6e-11, \"FDS100\": 2.4e-11}\n",
    "C = capacidades[fotodiodo]\n",
    "\n",
    "f_BW = 1/(2*np.pi*R*C)\n",
    "lambda_BW = (c/f_BW)*1e9 # en nanómetros\n",
    "t_R = 0.35/f_BW #6.6e-6\n",
    "\n",
    "print(f_BW/1000, \"kHz\", t_R*1e9, \"ns\")"
   ]
  },
  {
   "cell_type": "code",
   "execution_count": 11,
   "id": "6c379ec5",
   "metadata": {},
   "outputs": [
    {
     "data": {
      "text/plain": [
       "1.774560986454169e-06"
      ]
     },
     "execution_count": 11,
     "metadata": {},
     "output_type": "execute_result"
    }
   ],
   "source": [
    "(532)/c # Período en nanosegundos del láser"
   ]
  },
  {
   "attachments": {},
   "cell_type": "markdown",
   "id": "e9b1c581",
   "metadata": {},
   "source": [
    "# Largo de las barras para los perros y las bases"
   ]
  },
  {
   "cell_type": "code",
   "execution_count": 3,
   "id": "6ebae1f2",
   "metadata": {},
   "outputs": [
    {
     "name": "stdout",
     "output_type": "stream",
     "text": [
      "El largo de la barra de aluminio debe ser 12.1 cm\n",
      "El largo de la barra de bronce debe ser 49.9 cm\n"
     ]
    }
   ],
   "source": [
    "cant = 9\n",
    "altura_base = 0.9 # cm\n",
    "largo_perro = 5.1 # cm\n",
    "largo_por_corte = 0.5*8 # cm\n",
    "\n",
    "largo_barra_aluminio = altura_base*cant + largo_por_corte\n",
    "largo_barra_bronce = largo_perro*cant + largo_por_corte\n",
    "\n",
    "print(f\"El largo de la barra de aluminio debe ser {largo_barra_aluminio} cm\")\n",
    "print(f\"El largo de la barra de bronce debe ser {largo_barra_bronce} cm\")"
   ]
  }
 ],
 "metadata": {
  "kernelspec": {
   "display_name": "Python 3 (ipykernel)",
   "language": "python",
   "name": "python3"
  },
  "language_info": {
   "codemirror_mode": {
    "name": "ipython",
    "version": 3
   },
   "file_extension": ".py",
   "mimetype": "text/x-python",
   "name": "python",
   "nbconvert_exporter": "python",
   "pygments_lexer": "ipython3",
   "version": "3.9.12"
  }
 },
 "nbformat": 4,
 "nbformat_minor": 5
}
