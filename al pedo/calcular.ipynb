{
 "cells": [
  {
   "cell_type": "code",
   "execution_count": 1,
   "id": "231337d1",
   "metadata": {},
   "outputs": [],
   "source": [
    "import numpy as np\n",
    "from scipy.constants import c"
   ]
  },
  {
   "cell_type": "code",
   "execution_count": 21,
   "id": "59943b3e",
   "metadata": {},
   "outputs": [
    {
     "name": "stdout",
     "output_type": "stream",
     "text": [
      "530516.4769729844 0.6597344572538566\n"
     ]
    }
   ],
   "source": [
    "# FDS100: C = 2.4e-11 F\n",
    "# FDS010: C = 6e-11\n",
    "R = 50\n",
    "C = 6e-12\n",
    "\n",
    "f_BW = 1/(2*np.pi*R*C)\n",
    "lambda_BW = (c/f_BW)*1e9\n",
    "t_R = 0.35/f_BW #6.6e-6\n",
    "\n",
    "print(f_BW/1000, t_R*1e9)"
   ]
  },
  {
   "cell_type": "code",
   "execution_count": 23,
   "id": "6c379ec5",
   "metadata": {},
   "outputs": [
    {
     "data": {
      "text/plain": [
       "0.0001"
      ]
     },
     "execution_count": 23,
     "metadata": {},
     "output_type": "execute_result"
    }
   ],
   "source": [
    "1/10000"
   ]
  }
 ],
 "metadata": {
  "kernelspec": {
   "display_name": "Python 3 (ipykernel)",
   "language": "python",
   "name": "python3"
  },
  "language_info": {
   "codemirror_mode": {
    "name": "ipython",
    "version": 3
   },
   "file_extension": ".py",
   "mimetype": "text/x-python",
   "name": "python",
   "nbconvert_exporter": "python",
   "pygments_lexer": "ipython3",
   "version": "3.9.12"
  }
 },
 "nbformat": 4,
 "nbformat_minor": 5
}
