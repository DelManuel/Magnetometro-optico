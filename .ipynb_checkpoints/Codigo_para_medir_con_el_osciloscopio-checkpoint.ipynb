{
 "cells": [
  {
   "cell_type": "code",
   "execution_count": 13,
   "metadata": {
    "id": "bkmKSZrQlAjt"
   },
   "outputs": [],
   "source": [
    "import time\n",
    "from matplotlib import pyplot as plt\n",
    "import numpy as np\n",
    "import pyvisa as visa\n",
    "\n",
    "class TDS360:\n",
    "    \"\"\"Clase para el manejo osciloscopio TDS2000 usando PyVISA de interfaz\n",
    "    \"\"\"\n",
    "    \n",
    "    def __init__(self, name):\n",
    "        self._osci = visa.ResourceManager().open_resource(name)\n",
    "        print(self._osci.query(\"*IDN?\"))\n",
    "\n",
    "    \t#Configuración de curva\n",
    "        \n",
    "        # Modo de transmision: Binario positivo.\n",
    "        self._osci.write('DAT:ENC RPB') \n",
    "        # 1 byte de dato. Con RPB 127 es la mitad de la pantalla\n",
    "        self._osci.write('DAT:WID 1')\n",
    "        # La curva mandada inicia en el primer dato\n",
    "        self._osci.write(\"DAT:STAR 1\") \n",
    "        # La curva mandada finaliza en el último dato\n",
    "        self._osci.write(\"DAT:STOP 2500\") \n",
    "\n",
    "        #Adquisición por sampleo\n",
    "        self._osci.write(\"ACQ:MOD SAMP\")\n",
    "\t\t\t\t\n",
    "        #Bloquea el control del osciloscopio\n",
    "        self._osci.write(\"LOC\")\n",
    "        # Timeout del osciloscopio\n",
    "        # self._osci.timeout= 60000\n",
    "        \n",
    "#         self._osci.chunk_size = 102400\n",
    "    \t\n",
    "    def __del__(self):\n",
    "        self._osci.close()\t\t\t\n",
    "\n",
    "    def config(self):\n",
    "        #Seteo de canal\n",
    "        self.set_channel(channel=1, scale=20e-3)\n",
    "        self.set_channel(channel=2, scale=20e-3)\n",
    "        self.set_time(scale=1e-3, zero=0)\n",
    "\n",
    "    def unlock(self):\n",
    "         #Desbloquea el control del osciloscopio\n",
    "        self._osci.write(\"UNLOC\")\n",
    "\n",
    "    def set_channel(self, channel, scale, zero=0):\n",
    "    \t#if coup != \"DC\" or coup != \"AC\" or coup != \"GND\":\n",
    "    \t    #coup = \"DC\"\n",
    "    \t#self._osci.write(\"CH{0}:COUP \".format(canal) + coup) #Acoplamiento DC\n",
    "    \t#self._osci.write(\"CH{0}:PROB \n",
    "        self._osci.write(\"CH{0}:SCA {1}\".format(channel, scale))\n",
    "        self._osci.write(\"CH{0}:POS {1}\".format(channel, zero))\n",
    "\t\n",
    "    def get_channel(self, channel):\n",
    "        return self._osci.query(\"CH{0}?\".format(channel))\n",
    "\t\t\n",
    "    def set_time(self, scale, zero=0):\n",
    "        self._osci.write(\"HOR:SCA {0}\".format(scale))\n",
    "        self._osci.write(\"HOR:POS {0}\".format(zero))\t\n",
    "\t\n",
    "    def get_time(self):\n",
    "        return self._osci.query(\"HOR?\")\n",
    "\t\n",
    "    def read_data(self, channel):\n",
    "        # Hace aparecer el canal en pantalla. Por si no está habilitado\n",
    "        self._osci.write(\"SEL:CH{0} ON\".format(channel)) # Basicamente el format es un f string, habria que probarlo\n",
    "        # Selecciona el canal\n",
    "        self._osci.write(\"DAT:SOU CH{0}\".format(channel)) \n",
    "    \t#xze primer punto de la waveform\n",
    "    \t#xin intervalo de sampleo\n",
    "    \t#ymu factor de escala vertical\n",
    "    \t#yoff offset vertical\n",
    "        xze, xin, yze, ymu, yoff = self._osci.query_ascii_values('WFMPRE:XZE?;XIN?;YZE?;YMU?;YOFF?;', \n",
    "                                                                 separator=';') \n",
    "        data = (self._osci.query_binary_values('CURV?', datatype='B', \n",
    "                                               container=np.array) - yoff) * ymu + yze        \n",
    "        tiempo = xze + np.arange(len(data)) * xin\n",
    "        return tiempo, data\n",
    "    \n",
    "    def get_range(self, channel):\n",
    "        xze, xin, yze, ymu, yoff = self._osci.query_ascii_values('WFMPRE:XZE?;XIN?;YZE?;YMU?;YOFF?;', \n",
    "                                                                 separator=';')         \n",
    "        rango = (np.array((0, 255))-yoff)*ymu +yze\n",
    "        return rango   \n"
   ]
  },
  {
   "cell_type": "code",
   "execution_count": 6,
   "metadata": {
    "colab": {
     "base_uri": "https://localhost:8080/",
     "height": 235
    },
    "id": "AqZtzpX0Zj8F",
    "outputId": "c019be2a-9c49-4339-b640-da2de6d26f12"
   },
   "outputs": [
    {
     "name": "stdout",
     "output_type": "stream",
     "text": [
      "('GPIB0::7::INSTR',)\n"
     ]
    }
   ],
   "source": [
    "#%%\n",
    "# inicializo comunicacion con equipos\n",
    "rm = visa.ResourceManager()\n",
    "\n",
    "# lista de dispositivos conectados, para ver las id de los equipos\n",
    "print(rm.list_resources())"
   ]
  },
  {
   "cell_type": "code",
   "execution_count": null,
   "metadata": {
    "collapsed": true
   },
   "outputs": [],
   "source": []
  },
  {
   "cell_type": "code",
   "execution_count": 14,
   "metadata": {
    "id": "k161eqqP2K5g"
   },
   "outputs": [
    {
     "name": "stdout",
     "output_type": "stream",
     "text": [
      "TEKTRONIX,TDS 360,0,CF:91.1CT FV:v1.09\n",
      "\n",
      "MAIN;1000;5.0E1;2.5E-2;50;2.5E-2;RUNSAFTER;1.0E-8;1.0065E-6;LOCK;LOCK;0\n",
      "\n"
     ]
    },
    {
     "ename": "VisaIOError",
     "evalue": "VI_ERROR_TMO (-1073807339): Timeout expired before operation completed.",
     "output_type": "error",
     "traceback": [
      "\u001b[1;31m---------------------------------------------------------------------------\u001b[0m",
      "\u001b[1;31mVisaIOError\u001b[0m                               Traceback (most recent call last)",
      "Cell \u001b[1;32mIn[14], line 6\u001b[0m\n\u001b[0;32m      3\u001b[0m \u001b[38;5;28mprint\u001b[39m(osci\u001b[38;5;241m.\u001b[39mget_time())\n\u001b[0;32m      5\u001b[0m osci\u001b[38;5;241m.\u001b[39mset_channel(\u001b[38;5;241m1\u001b[39m,scale \u001b[38;5;241m=\u001b[39m \u001b[38;5;241m2\u001b[39m)\n\u001b[1;32m----> 6\u001b[0m tiempo, data \u001b[38;5;241m=\u001b[39m \u001b[43mosci\u001b[49m\u001b[38;5;241;43m.\u001b[39;49m\u001b[43mread_data\u001b[49m\u001b[43m(\u001b[49m\u001b[43mchannel\u001b[49m\u001b[43m \u001b[49m\u001b[38;5;241;43m=\u001b[39;49m\u001b[43m \u001b[49m\u001b[38;5;241;43m1\u001b[39;49m\u001b[43m)\u001b[49m\n\u001b[0;32m      7\u001b[0m plt\u001b[38;5;241m.\u001b[39mplot(tiempo,data)\n\u001b[0;32m      8\u001b[0m plt\u001b[38;5;241m.\u001b[39mxlabel(\u001b[38;5;124m'\u001b[39m\u001b[38;5;124mTiempo [s]\u001b[39m\u001b[38;5;124m'\u001b[39m)\n",
      "Cell \u001b[1;32mIn[13], line 75\u001b[0m, in \u001b[0;36mTDS360.read_data\u001b[1;34m(self, channel)\u001b[0m\n\u001b[0;32m     70\u001b[0m     \u001b[38;5;28mself\u001b[39m\u001b[38;5;241m.\u001b[39m_osci\u001b[38;5;241m.\u001b[39mwrite(\u001b[38;5;124m\"\u001b[39m\u001b[38;5;124mDAT:SOU CH\u001b[39m\u001b[38;5;132;01m{0}\u001b[39;00m\u001b[38;5;124m\"\u001b[39m\u001b[38;5;241m.\u001b[39mformat(channel)) \n\u001b[0;32m     71\u001b[0m \t\u001b[38;5;66;03m#xze primer punto de la waveform\u001b[39;00m\n\u001b[0;32m     72\u001b[0m \t\u001b[38;5;66;03m#xin intervalo de sampleo\u001b[39;00m\n\u001b[0;32m     73\u001b[0m \t\u001b[38;5;66;03m#ymu factor de escala vertical\u001b[39;00m\n\u001b[0;32m     74\u001b[0m \t\u001b[38;5;66;03m#yoff offset vertical\u001b[39;00m\n\u001b[1;32m---> 75\u001b[0m     xze, xin, yze, ymu, yoff \u001b[38;5;241m=\u001b[39m \u001b[38;5;28;43mself\u001b[39;49m\u001b[38;5;241;43m.\u001b[39;49m\u001b[43m_osci\u001b[49m\u001b[38;5;241;43m.\u001b[39;49m\u001b[43mquery_ascii_values\u001b[49m\u001b[43m(\u001b[49m\u001b[38;5;124;43m'\u001b[39;49m\u001b[38;5;124;43mWFMPRE:XZE?;XIN?;YZE?;YMU?;YOFF?;\u001b[39;49m\u001b[38;5;124;43m'\u001b[39;49m\u001b[43m,\u001b[49m\u001b[43m \u001b[49m\n\u001b[0;32m     76\u001b[0m \u001b[43m                                                             \u001b[49m\u001b[43mseparator\u001b[49m\u001b[38;5;241;43m=\u001b[39;49m\u001b[38;5;124;43m'\u001b[39;49m\u001b[38;5;124;43m;\u001b[39;49m\u001b[38;5;124;43m'\u001b[39;49m\u001b[43m)\u001b[49m \n\u001b[0;32m     77\u001b[0m     data \u001b[38;5;241m=\u001b[39m (\u001b[38;5;28mself\u001b[39m\u001b[38;5;241m.\u001b[39m_osci\u001b[38;5;241m.\u001b[39mquery_binary_values(\u001b[38;5;124m'\u001b[39m\u001b[38;5;124mCURV?\u001b[39m\u001b[38;5;124m'\u001b[39m, datatype\u001b[38;5;241m=\u001b[39m\u001b[38;5;124m'\u001b[39m\u001b[38;5;124mB\u001b[39m\u001b[38;5;124m'\u001b[39m, \n\u001b[0;32m     78\u001b[0m                                            container\u001b[38;5;241m=\u001b[39mnp\u001b[38;5;241m.\u001b[39marray) \u001b[38;5;241m-\u001b[39m yoff) \u001b[38;5;241m*\u001b[39m ymu \u001b[38;5;241m+\u001b[39m yze        \n\u001b[0;32m     79\u001b[0m     tiempo \u001b[38;5;241m=\u001b[39m xze \u001b[38;5;241m+\u001b[39m np\u001b[38;5;241m.\u001b[39marange(\u001b[38;5;28mlen\u001b[39m(data)) \u001b[38;5;241m*\u001b[39m xin\n",
      "File \u001b[1;32m~\\anaconda3\\lib\\site-packages\\pyvisa\\resources\\messagebased.py:689\u001b[0m, in \u001b[0;36mMessageBasedResource.query_ascii_values\u001b[1;34m(self, message, converter, separator, container, delay)\u001b[0m\n\u001b[0;32m    686\u001b[0m \u001b[38;5;28;01mif\u001b[39;00m delay \u001b[38;5;241m>\u001b[39m \u001b[38;5;241m0.0\u001b[39m:\n\u001b[0;32m    687\u001b[0m     time\u001b[38;5;241m.\u001b[39msleep(delay)\n\u001b[1;32m--> 689\u001b[0m \u001b[38;5;28;01mreturn\u001b[39;00m \u001b[38;5;28;43mself\u001b[39;49m\u001b[38;5;241;43m.\u001b[39;49m\u001b[43mread_ascii_values\u001b[49m\u001b[43m(\u001b[49m\u001b[43mconverter\u001b[49m\u001b[43m,\u001b[49m\u001b[43m \u001b[49m\u001b[43mseparator\u001b[49m\u001b[43m,\u001b[49m\u001b[43m \u001b[49m\u001b[43mcontainer\u001b[49m\u001b[43m)\u001b[49m\n",
      "File \u001b[1;32m~\\anaconda3\\lib\\site-packages\\pyvisa\\resources\\messagebased.py:529\u001b[0m, in \u001b[0;36mMessageBasedResource.read_ascii_values\u001b[1;34m(self, converter, separator, container)\u001b[0m\n\u001b[0;32m    508\u001b[0m \u001b[38;5;250m\u001b[39m\u001b[38;5;124;03m\"\"\"Read values from the device in ascii format returning an iterable of\u001b[39;00m\n\u001b[0;32m    509\u001b[0m \u001b[38;5;124;03mvalues.\u001b[39;00m\n\u001b[0;32m    510\u001b[0m \n\u001b[1;32m   (...)\u001b[0m\n\u001b[0;32m    526\u001b[0m \n\u001b[0;32m    527\u001b[0m \u001b[38;5;124;03m\"\"\"\u001b[39;00m\n\u001b[0;32m    528\u001b[0m \u001b[38;5;66;03m# Use read rather than _read_raw because we cannot handle a bytearray\u001b[39;00m\n\u001b[1;32m--> 529\u001b[0m block \u001b[38;5;241m=\u001b[39m \u001b[38;5;28;43mself\u001b[39;49m\u001b[38;5;241;43m.\u001b[39;49m\u001b[43mread\u001b[49m\u001b[43m(\u001b[49m\u001b[43m)\u001b[49m\n\u001b[0;32m    531\u001b[0m \u001b[38;5;28;01mreturn\u001b[39;00m util\u001b[38;5;241m.\u001b[39mfrom_ascii_block(block, converter, separator, container)\n",
      "File \u001b[1;32m~\\anaconda3\\lib\\site-packages\\pyvisa\\resources\\messagebased.py:486\u001b[0m, in \u001b[0;36mMessageBasedResource.read\u001b[1;34m(self, termination, encoding)\u001b[0m\n\u001b[0;32m    484\u001b[0m \u001b[38;5;28;01mif\u001b[39;00m termination \u001b[38;5;129;01mis\u001b[39;00m \u001b[38;5;28;01mNone\u001b[39;00m:\n\u001b[0;32m    485\u001b[0m     termination \u001b[38;5;241m=\u001b[39m \u001b[38;5;28mself\u001b[39m\u001b[38;5;241m.\u001b[39m_read_termination\n\u001b[1;32m--> 486\u001b[0m     message \u001b[38;5;241m=\u001b[39m \u001b[38;5;28;43mself\u001b[39;49m\u001b[38;5;241;43m.\u001b[39;49m\u001b[43m_read_raw\u001b[49m\u001b[43m(\u001b[49m\u001b[43m)\u001b[49m\u001b[38;5;241m.\u001b[39mdecode(enco)\n\u001b[0;32m    487\u001b[0m \u001b[38;5;28;01melse\u001b[39;00m:\n\u001b[0;32m    488\u001b[0m     \u001b[38;5;28;01mwith\u001b[39;00m \u001b[38;5;28mself\u001b[39m\u001b[38;5;241m.\u001b[39mread_termination_context(termination):\n",
      "File \u001b[1;32m~\\anaconda3\\lib\\site-packages\\pyvisa\\resources\\messagebased.py:442\u001b[0m, in \u001b[0;36mMessageBasedResource._read_raw\u001b[1;34m(self, size)\u001b[0m\n\u001b[0;32m    435\u001b[0m     \u001b[38;5;28;01mwhile\u001b[39;00m status \u001b[38;5;241m==\u001b[39m loop_status:\n\u001b[0;32m    436\u001b[0m         logger\u001b[38;5;241m.\u001b[39mdebug(\n\u001b[0;32m    437\u001b[0m             \u001b[38;5;124m\"\u001b[39m\u001b[38;5;132;01m%s\u001b[39;00m\u001b[38;5;124m - reading \u001b[39m\u001b[38;5;132;01m%d\u001b[39;00m\u001b[38;5;124m bytes (last status \u001b[39m\u001b[38;5;132;01m%r\u001b[39;00m\u001b[38;5;124m)\u001b[39m\u001b[38;5;124m\"\u001b[39m,\n\u001b[0;32m    438\u001b[0m             \u001b[38;5;28mself\u001b[39m\u001b[38;5;241m.\u001b[39m_resource_name,\n\u001b[0;32m    439\u001b[0m             size,\n\u001b[0;32m    440\u001b[0m             status,\n\u001b[0;32m    441\u001b[0m         )\n\u001b[1;32m--> 442\u001b[0m         chunk, status \u001b[38;5;241m=\u001b[39m \u001b[38;5;28;43mself\u001b[39;49m\u001b[38;5;241;43m.\u001b[39;49m\u001b[43mvisalib\u001b[49m\u001b[38;5;241;43m.\u001b[39;49m\u001b[43mread\u001b[49m\u001b[43m(\u001b[49m\u001b[38;5;28;43mself\u001b[39;49m\u001b[38;5;241;43m.\u001b[39;49m\u001b[43msession\u001b[49m\u001b[43m,\u001b[49m\u001b[43m \u001b[49m\u001b[43msize\u001b[49m\u001b[43m)\u001b[49m\n\u001b[0;32m    443\u001b[0m         ret\u001b[38;5;241m.\u001b[39mextend(chunk)\n\u001b[0;32m    444\u001b[0m \u001b[38;5;28;01mexcept\u001b[39;00m errors\u001b[38;5;241m.\u001b[39mVisaIOError \u001b[38;5;28;01mas\u001b[39;00m e:\n",
      "File \u001b[1;32m~\\anaconda3\\lib\\site-packages\\pyvisa\\ctwrapper\\functions.py:2337\u001b[0m, in \u001b[0;36mread\u001b[1;34m(library, session, count)\u001b[0m\n\u001b[0;32m   2335\u001b[0m buffer \u001b[38;5;241m=\u001b[39m create_string_buffer(count)\n\u001b[0;32m   2336\u001b[0m return_count \u001b[38;5;241m=\u001b[39m ViUInt32()\n\u001b[1;32m-> 2337\u001b[0m ret \u001b[38;5;241m=\u001b[39m \u001b[43mlibrary\u001b[49m\u001b[38;5;241;43m.\u001b[39;49m\u001b[43mviRead\u001b[49m\u001b[43m(\u001b[49m\u001b[43msession\u001b[49m\u001b[43m,\u001b[49m\u001b[43m \u001b[49m\u001b[43mbuffer\u001b[49m\u001b[43m,\u001b[49m\u001b[43m \u001b[49m\u001b[43mcount\u001b[49m\u001b[43m,\u001b[49m\u001b[43m \u001b[49m\u001b[43mbyref\u001b[49m\u001b[43m(\u001b[49m\u001b[43mreturn_count\u001b[49m\u001b[43m)\u001b[49m\u001b[43m)\u001b[49m\n\u001b[0;32m   2338\u001b[0m \u001b[38;5;28;01mreturn\u001b[39;00m buffer\u001b[38;5;241m.\u001b[39mraw[: return_count\u001b[38;5;241m.\u001b[39mvalue], ret\n",
      "File \u001b[1;32m~\\anaconda3\\lib\\site-packages\\pyvisa\\ctwrapper\\highlevel.py:226\u001b[0m, in \u001b[0;36mIVIVisaLibrary._return_handler\u001b[1;34m(self, ret_value, func, arguments)\u001b[0m\n\u001b[0;32m    223\u001b[0m         \u001b[38;5;66;03m# Set session back to a safe value\u001b[39;00m\n\u001b[0;32m    224\u001b[0m         session \u001b[38;5;241m=\u001b[39m \u001b[38;5;28;01mNone\u001b[39;00m\n\u001b[1;32m--> 226\u001b[0m \u001b[38;5;28;01mreturn\u001b[39;00m \u001b[38;5;28;43mself\u001b[39;49m\u001b[38;5;241;43m.\u001b[39;49m\u001b[43mhandle_return_value\u001b[49m\u001b[43m(\u001b[49m\u001b[43msession\u001b[49m\u001b[43m,\u001b[49m\u001b[43m \u001b[49m\u001b[43mret_value\u001b[49m\u001b[43m)\u001b[49m\n",
      "File \u001b[1;32m~\\anaconda3\\lib\\site-packages\\pyvisa\\highlevel.py:251\u001b[0m, in \u001b[0;36mVisaLibraryBase.handle_return_value\u001b[1;34m(self, session, status_code)\u001b[0m\n\u001b[0;32m    248\u001b[0m     \u001b[38;5;28mself\u001b[39m\u001b[38;5;241m.\u001b[39m_last_status_in_session[session] \u001b[38;5;241m=\u001b[39m rv\n\u001b[0;32m    250\u001b[0m \u001b[38;5;28;01mif\u001b[39;00m rv \u001b[38;5;241m<\u001b[39m \u001b[38;5;241m0\u001b[39m:\n\u001b[1;32m--> 251\u001b[0m     \u001b[38;5;28;01mraise\u001b[39;00m errors\u001b[38;5;241m.\u001b[39mVisaIOError(rv)\n\u001b[0;32m    253\u001b[0m \u001b[38;5;28;01mif\u001b[39;00m rv \u001b[38;5;129;01min\u001b[39;00m \u001b[38;5;28mself\u001b[39m\u001b[38;5;241m.\u001b[39missue_warning_on:\n\u001b[0;32m    254\u001b[0m     \u001b[38;5;28;01mif\u001b[39;00m session \u001b[38;5;129;01mand\u001b[39;00m rv \u001b[38;5;129;01mnot\u001b[39;00m \u001b[38;5;129;01min\u001b[39;00m \u001b[38;5;28mself\u001b[39m\u001b[38;5;241m.\u001b[39m_ignore_warning_in_session[session]:\n",
      "\u001b[1;31mVisaIOError\u001b[0m: VI_ERROR_TMO (-1073807339): Timeout expired before operation completed."
     ]
    }
   ],
   "source": [
    "#osciloscopio\n",
    "osci = TDS360(\"GPIB0::7::INSTR\")\n",
    "print(osci.get_time())\n",
    "\n",
    "osci.set_channel(1,scale = 2)\n",
    "tiempo, data = osci.read_data(channel = 1)\n",
    "plt.plot(tiempo,data)\n",
    "plt.xlabel('Tiempo [s]')\n",
    "plt.ylabel('Voltaje [V]')\n",
    "plt.ylim(osci.get_range(channel = 1))"
   ]
  },
  {
   "cell_type": "code",
   "execution_count": null,
   "metadata": {},
   "outputs": [],
   "source": []
  }
 ],
 "metadata": {
  "colab": {
   "provenance": []
  },
  "kernelspec": {
   "display_name": "Python 3 (ipykernel)",
   "language": "python",
   "name": "python3"
  },
  "language_info": {
   "codemirror_mode": {
    "name": "ipython",
    "version": 3
   },
   "file_extension": ".py",
   "mimetype": "text/x-python",
   "name": "python",
   "nbconvert_exporter": "python",
   "pygments_lexer": "ipython3",
   "version": "3.9.12"
  }
 },
 "nbformat": 4,
 "nbformat_minor": 1
}
